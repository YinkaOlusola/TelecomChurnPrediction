{
 "cells": [
  {
   "cell_type": "markdown",
   "id": "d2a3134b",
   "metadata": {},
   "source": [
    "# **CUSTOMER CHURN PREDICTION**"
   ]
  },
  {
   "cell_type": "markdown",
   "id": "72384979",
   "metadata": {},
   "source": [
    "## **INTRODUCTION**"
   ]
  },
  {
   "cell_type": "markdown",
   "id": "9f3bd29c",
   "metadata": {},
   "source": [
    "## **Background**\n",
    "\n",
    "In the dynamic landscape of business, customer churn, or the departure of customers from a product or service, is a critical metric that significantly impacts the success or failure of a company.\n",
    "\n",
    "The telecommunications industry, serving as a cornerstone for connectivity services, faces the challenge of predicting and minimizing customer churn. The churn rate, measured over a specific time frame, reflects the percentage of customers discontinuing services, highlighting the need for effective customer retention strategies.\n",
    "\n",
    "Customer churn is particularly pertinent in industries with multiple options for consumers, where dissatisfaction or difficulties can prompt users to explore alternatives. For businesses, the cost of acquiring new customers surpasses that of retaining existing ones. Successful customer retention not only increases the average lifetime value but also enhances the sustainability and growth potential of a company. In this context, customer churn prediction emerges as a crucial task, allowing organizations to proactively address potential issues, implement tailored retention strategies, and maximize the value of recurring subscriptions.\n",
    "\n",
    "This task focuses on leveraging machine learning techniques to analyze the Telco customer churn dataset, emphasizing the importance of predicting and mitigating customer churn for sustained business success [1], [2], [3] [4]."
   ]
  },
  {
   "cell_type": "markdown",
   "id": "dd49b7c8",
   "metadata": {},
   "source": [
    "## **Dataset Overview**\n",
    "\n",
    "The Telco customer churn dataset provides insights into the interactions of a fictional telecommunications company with 7043 customers in California. Each entry in the dataset encompasses diverse demographic information, including customer tenure, contract details, internet service specifics, and additional features. Of particular interest are the target variables - the Satisfaction Score, Churn Score, and Customer Lifetime Value (CLTV) index, which collectively contribute to understanding customer loyalty and engagement.\n",
    "\n",
    "The following are the columns of the dataset:\n",
    "\n",
    "  - `CustomerID`: A unique ID that identifies each customer.\n",
    "  - `Gender`: The customer’s gender: Male, Female\n",
    "  - `SeniorCitizen`: Indicates if the customer is 65 or older: 1 (Yes), 0 (No).\n",
    "  - `Partner`: Indicates if the customer is married: Yes, No\n",
    "  - `Dependents`: Indicates if the customer lives with any dependents: Yes, No. Dependents could be children, parents, grandparents, etc.\n",
    "  - `Tenure`: Indicates the total amount of months that the customer has been with the company.\n",
    "  - `PhoneService`: Indicates if the customer subscribes to home phone service with the company: Yes, No\n",
    "  - `MultipleLines`: Indicates if the customer subscribes to multiple telephone lines with the company: Yes, No\n",
    "  - `InternetService`: Indicates if the customer subscribes to Internet service with the company: No, DSL, Fiber Optic, Cable.\n",
    "  - `OnlineSecurity`: Indicates if the customer subscribes to an additional online security service provided by the company: Yes, No\n",
    "  - `OnlineBackup`: Indicates if the customer subscribes to an additional online backup service provided by the company: Yes, No\n",
    "  - `DeviceProtection`: Indicates if the customer subscribes to an additional device protection plan for their Internet equipment provided by the company: Yes, No\n",
    "  - `TechSupport`: Indicates if the customer subscribes to an additional technical support plan from the company with reduced wait times: Yes, No\n",
    "  - `StreamingTV`: Indicates if the customer uses their Internet service to stream television programme from a third party provider: Yes, No. The company does not charge an additional fee for this service.\n",
    "  - `StreamingMovies`: Indicates if the customer uses their Internet service to stream movies from a third party provider: Yes, No. The company does not charge an additional fee for this service.\n",
    "  - `Contract`: Indicates the customer’s current contract type: Month-to-Month, One Year, Two Year.\n",
    "  - `PaperlessBilling`: Indicates if the customer has chosen paperless billing: Yes, No\n",
    "  - `PaymentMethod`: Indicates how the customer pays their bill: Bank Withdrawal, Credit Card, Mailed Check\n",
    "  - `MonthlyCharge`: Indicates the customer’s current total monthly charge for all their services from the company.\n",
    "  - `TotalCharges`: Indicates the customer’s total charges, calculated to the end of the quarter specified above.\n",
    "  - `Churn`: Yes = the customer left the company this quarter. No = the customer remained with the company. Directly related to Churn Value. [6]."
   ]
  },
  {
   "cell_type": "markdown",
   "id": "b87af8ee",
   "metadata": {},
   "source": [
    "## **DATA CLEANING AND WRANGLING**"
   ]
  },
  {
   "cell_type": "markdown",
   "id": "39498dba",
   "metadata": {},
   "source": [
    "### **Importing Libraries**"
   ]
  },
  {
   "cell_type": "code",
   "execution_count": 1,
   "id": "89c7ad13",
   "metadata": {},
   "outputs": [],
   "source": [
    "# Data manipulation and analysis\n",
    "import pandas as pd\n",
    "import numpy as np\n",
    "\n",
    "# Data visualization\n",
    "import matplotlib.pyplot as plt\n",
    "import seaborn as sns\n",
    "\n",
    "# Data preprocessing\n",
    "from sklearn.preprocessing import StandardScaler\n",
    "from sklearn.preprocessing import OneHotEncoder, LabelEncoder\n",
    "\n",
    "# Model Selection and Machine Learning\n",
    "from sklearn.model_selection import train_test_split\n",
    "from sklearn.linear_model import LogisticRegression\n",
    "from sklearn.ensemble import RandomForestClassifier\n",
    "\n",
    "# Evaluation metrics\n",
    "from sklearn.metrics import accuracy_score,confusion_matrix\n",
    "from sklearn.metrics import classification_report, roc_auc_score\n",
    "\n",
    "# Hyperparameter tuning\n",
    "from sklearn.model_selection import GridSearchCV, RandomizedSearchCV\n",
    "\n",
    "# To see all plots generated by matplotlib in the notebook,\n",
    "# the below line is added\n",
    "%matplotlib inline"
   ]
  },
  {
   "cell_type": "markdown",
   "id": "4f0ef2c2",
   "metadata": {},
   "source": [
    "### **Data ingestion**\n",
    "\n",
    "In the following code cells, the datasets will be loaded and merged using the `pandas`"
   ]
  },
  {
   "cell_type": "code",
   "execution_count": 2,
   "id": "16f9a4cd",
   "metadata": {},
   "outputs": [],
   "source": [
    "# Reading the telco dataset\n",
    "telco_data = pd.read_csv('data/Telco-Customer-Churn.csv')"
   ]
  },
  {
   "cell_type": "markdown",
   "id": "5dba2db5",
   "metadata": {},
   "source": [
    "### **Data Overview**\n",
    "\n",
    "\n",
    "Upon importing datasets using the Pandas library in Python, it becomes imperative to initiate a preliminary exploration of the data. Given that the datasets are structured in a tabular format, a valuable method for gaining rapid insights is the utilization of the head() function from Pandas.\n",
    "\n",
    "By employing the head() function, one can efficiently view the first few rows of the dataset, offering a concise snapshot that aids in swiftly grasping the data's structure and contents.\n",
    "\n",
    "This preliminary examination serves as a fundamental step in the exploratory data analysis (EDA) process. It empowers researchers to develop well-informed strategies for subsequent data processing and analysis, laying the groundwork for a comprehensive understanding of the dataset's characteristics."
   ]
  },
  {
   "cell_type": "code",
   "execution_count": 3,
   "id": "fdbde776",
   "metadata": {},
   "outputs": [
    {
     "data": {
      "text/html": [
       "<div>\n",
       "<style scoped>\n",
       "    .dataframe tbody tr th:only-of-type {\n",
       "        vertical-align: middle;\n",
       "    }\n",
       "\n",
       "    .dataframe tbody tr th {\n",
       "        vertical-align: top;\n",
       "    }\n",
       "\n",
       "    .dataframe thead th {\n",
       "        text-align: right;\n",
       "    }\n",
       "</style>\n",
       "<table border=\"1\" class=\"dataframe\">\n",
       "  <thead>\n",
       "    <tr style=\"text-align: right;\">\n",
       "      <th></th>\n",
       "      <th>customerID</th>\n",
       "      <th>gender</th>\n",
       "      <th>SeniorCitizen</th>\n",
       "      <th>Partner</th>\n",
       "      <th>Dependents</th>\n",
       "      <th>tenure</th>\n",
       "      <th>PhoneService</th>\n",
       "      <th>MultipleLines</th>\n",
       "      <th>InternetService</th>\n",
       "      <th>OnlineSecurity</th>\n",
       "      <th>...</th>\n",
       "      <th>DeviceProtection</th>\n",
       "      <th>TechSupport</th>\n",
       "      <th>StreamingTV</th>\n",
       "      <th>StreamingMovies</th>\n",
       "      <th>Contract</th>\n",
       "      <th>PaperlessBilling</th>\n",
       "      <th>PaymentMethod</th>\n",
       "      <th>MonthlyCharges</th>\n",
       "      <th>TotalCharges</th>\n",
       "      <th>Churn</th>\n",
       "    </tr>\n",
       "  </thead>\n",
       "  <tbody>\n",
       "    <tr>\n",
       "      <th>0</th>\n",
       "      <td>7590-VHVEG</td>\n",
       "      <td>Female</td>\n",
       "      <td>0</td>\n",
       "      <td>Yes</td>\n",
       "      <td>No</td>\n",
       "      <td>1</td>\n",
       "      <td>No</td>\n",
       "      <td>No phone service</td>\n",
       "      <td>DSL</td>\n",
       "      <td>No</td>\n",
       "      <td>...</td>\n",
       "      <td>No</td>\n",
       "      <td>No</td>\n",
       "      <td>No</td>\n",
       "      <td>No</td>\n",
       "      <td>Month-to-month</td>\n",
       "      <td>Yes</td>\n",
       "      <td>Electronic check</td>\n",
       "      <td>29.85</td>\n",
       "      <td>29.85</td>\n",
       "      <td>No</td>\n",
       "    </tr>\n",
       "    <tr>\n",
       "      <th>1</th>\n",
       "      <td>5575-GNVDE</td>\n",
       "      <td>Male</td>\n",
       "      <td>0</td>\n",
       "      <td>No</td>\n",
       "      <td>No</td>\n",
       "      <td>34</td>\n",
       "      <td>Yes</td>\n",
       "      <td>No</td>\n",
       "      <td>DSL</td>\n",
       "      <td>Yes</td>\n",
       "      <td>...</td>\n",
       "      <td>Yes</td>\n",
       "      <td>No</td>\n",
       "      <td>No</td>\n",
       "      <td>No</td>\n",
       "      <td>One year</td>\n",
       "      <td>No</td>\n",
       "      <td>Mailed check</td>\n",
       "      <td>56.95</td>\n",
       "      <td>1889.5</td>\n",
       "      <td>No</td>\n",
       "    </tr>\n",
       "    <tr>\n",
       "      <th>2</th>\n",
       "      <td>3668-QPYBK</td>\n",
       "      <td>Male</td>\n",
       "      <td>0</td>\n",
       "      <td>No</td>\n",
       "      <td>No</td>\n",
       "      <td>2</td>\n",
       "      <td>Yes</td>\n",
       "      <td>No</td>\n",
       "      <td>DSL</td>\n",
       "      <td>Yes</td>\n",
       "      <td>...</td>\n",
       "      <td>No</td>\n",
       "      <td>No</td>\n",
       "      <td>No</td>\n",
       "      <td>No</td>\n",
       "      <td>Month-to-month</td>\n",
       "      <td>Yes</td>\n",
       "      <td>Mailed check</td>\n",
       "      <td>53.85</td>\n",
       "      <td>108.15</td>\n",
       "      <td>Yes</td>\n",
       "    </tr>\n",
       "    <tr>\n",
       "      <th>3</th>\n",
       "      <td>7795-CFOCW</td>\n",
       "      <td>Male</td>\n",
       "      <td>0</td>\n",
       "      <td>No</td>\n",
       "      <td>No</td>\n",
       "      <td>45</td>\n",
       "      <td>No</td>\n",
       "      <td>No phone service</td>\n",
       "      <td>DSL</td>\n",
       "      <td>Yes</td>\n",
       "      <td>...</td>\n",
       "      <td>Yes</td>\n",
       "      <td>Yes</td>\n",
       "      <td>No</td>\n",
       "      <td>No</td>\n",
       "      <td>One year</td>\n",
       "      <td>No</td>\n",
       "      <td>Bank transfer (automatic)</td>\n",
       "      <td>42.30</td>\n",
       "      <td>1840.75</td>\n",
       "      <td>No</td>\n",
       "    </tr>\n",
       "    <tr>\n",
       "      <th>4</th>\n",
       "      <td>9237-HQITU</td>\n",
       "      <td>Female</td>\n",
       "      <td>0</td>\n",
       "      <td>No</td>\n",
       "      <td>No</td>\n",
       "      <td>2</td>\n",
       "      <td>Yes</td>\n",
       "      <td>No</td>\n",
       "      <td>Fiber optic</td>\n",
       "      <td>No</td>\n",
       "      <td>...</td>\n",
       "      <td>No</td>\n",
       "      <td>No</td>\n",
       "      <td>No</td>\n",
       "      <td>No</td>\n",
       "      <td>Month-to-month</td>\n",
       "      <td>Yes</td>\n",
       "      <td>Electronic check</td>\n",
       "      <td>70.70</td>\n",
       "      <td>151.65</td>\n",
       "      <td>Yes</td>\n",
       "    </tr>\n",
       "  </tbody>\n",
       "</table>\n",
       "<p>5 rows × 21 columns</p>\n",
       "</div>"
      ],
      "text/plain": [
       "   customerID  gender  SeniorCitizen Partner Dependents  tenure PhoneService  \\\n",
       "0  7590-VHVEG  Female              0     Yes         No       1           No   \n",
       "1  5575-GNVDE    Male              0      No         No      34          Yes   \n",
       "2  3668-QPYBK    Male              0      No         No       2          Yes   \n",
       "3  7795-CFOCW    Male              0      No         No      45           No   \n",
       "4  9237-HQITU  Female              0      No         No       2          Yes   \n",
       "\n",
       "      MultipleLines InternetService OnlineSecurity  ... DeviceProtection  \\\n",
       "0  No phone service             DSL             No  ...               No   \n",
       "1                No             DSL            Yes  ...              Yes   \n",
       "2                No             DSL            Yes  ...               No   \n",
       "3  No phone service             DSL            Yes  ...              Yes   \n",
       "4                No     Fiber optic             No  ...               No   \n",
       "\n",
       "  TechSupport StreamingTV StreamingMovies        Contract PaperlessBilling  \\\n",
       "0          No          No              No  Month-to-month              Yes   \n",
       "1          No          No              No        One year               No   \n",
       "2          No          No              No  Month-to-month              Yes   \n",
       "3         Yes          No              No        One year               No   \n",
       "4          No          No              No  Month-to-month              Yes   \n",
       "\n",
       "               PaymentMethod MonthlyCharges  TotalCharges Churn  \n",
       "0           Electronic check          29.85         29.85    No  \n",
       "1               Mailed check          56.95        1889.5    No  \n",
       "2               Mailed check          53.85        108.15   Yes  \n",
       "3  Bank transfer (automatic)          42.30       1840.75    No  \n",
       "4           Electronic check          70.70        151.65   Yes  \n",
       "\n",
       "[5 rows x 21 columns]"
      ]
     },
     "execution_count": 3,
     "metadata": {},
     "output_type": "execute_result"
    }
   ],
   "source": [
    "# viewing the first five observations of the dataset\n",
    "telco_data.head()"
   ]
  },
  {
   "cell_type": "markdown",
   "id": "1b41b3a0",
   "metadata": {},
   "source": [
    "The dataframe above shows the first five observations of the dataset an as it can be seen, there are twenty columns in the dataframe which agrees with the number of columns described in the dataset."
   ]
  },
  {
   "cell_type": "markdown",
   "id": "a08b949c",
   "metadata": {},
   "source": [
    "### **Data Description**\n",
    "\n",
    "Different properties of the dataset will be explored"
   ]
  },
  {
   "cell_type": "markdown",
   "id": "867b0957",
   "metadata": {},
   "source": [
    "#### **Data Shape**\n",
    "\n",
    "This gives the number of observations as well as the number of features in the dataset"
   ]
  },
  {
   "cell_type": "code",
   "execution_count": 4,
   "id": "1553d713",
   "metadata": {},
   "outputs": [
    {
     "name": "stdout",
     "output_type": "stream",
     "text": [
      "Number of Observations: 7043      \n",
      "Number of Features: 21\n"
     ]
    }
   ],
   "source": [
    "# Obtaining the shape of the dataframe\n",
    "\n",
    "print(f'Number of Observations: {telco_data.shape[0]}\\\n",
    "      \\nNumber of Features: {telco_data.shape[1]}')"
   ]
  },
  {
   "cell_type": "markdown",
   "id": "02c80fb6",
   "metadata": {},
   "source": [
    "#### **Data Info**"
   ]
  },
  {
   "cell_type": "code",
   "execution_count": 5,
   "id": "7db702aa",
   "metadata": {},
   "outputs": [
    {
     "name": "stdout",
     "output_type": "stream",
     "text": [
      "<class 'pandas.core.frame.DataFrame'>\n",
      "RangeIndex: 7043 entries, 0 to 7042\n",
      "Data columns (total 21 columns):\n",
      " #   Column            Non-Null Count  Dtype  \n",
      "---  ------            --------------  -----  \n",
      " 0   customerID        7043 non-null   object \n",
      " 1   gender            7043 non-null   object \n",
      " 2   SeniorCitizen     7043 non-null   int64  \n",
      " 3   Partner           7043 non-null   object \n",
      " 4   Dependents        7043 non-null   object \n",
      " 5   tenure            7043 non-null   int64  \n",
      " 6   PhoneService      7043 non-null   object \n",
      " 7   MultipleLines     7043 non-null   object \n",
      " 8   InternetService   7043 non-null   object \n",
      " 9   OnlineSecurity    7043 non-null   object \n",
      " 10  OnlineBackup      7043 non-null   object \n",
      " 11  DeviceProtection  7043 non-null   object \n",
      " 12  TechSupport       7043 non-null   object \n",
      " 13  StreamingTV       7043 non-null   object \n",
      " 14  StreamingMovies   7043 non-null   object \n",
      " 15  Contract          7043 non-null   object \n",
      " 16  PaperlessBilling  7043 non-null   object \n",
      " 17  PaymentMethod     7043 non-null   object \n",
      " 18  MonthlyCharges    7043 non-null   float64\n",
      " 19  TotalCharges      7043 non-null   object \n",
      " 20  Churn             7043 non-null   object \n",
      "dtypes: float64(1), int64(2), object(18)\n",
      "memory usage: 1.1+ MB\n"
     ]
    }
   ],
   "source": [
    "# Checking information about the data\n",
    "telco_data.info()"
   ]
  },
  {
   "cell_type": "markdown",
   "id": "1ec7d898",
   "metadata": {},
   "source": [
    "### **Features and Data Types**\n",
    "\n",
    "A list of all the features with their respective datatypes is obtained."
   ]
  },
  {
   "cell_type": "code",
   "execution_count": 6,
   "id": "e1f51e7c",
   "metadata": {},
   "outputs": [
    {
     "data": {
      "text/html": [
       "<div>\n",
       "<style scoped>\n",
       "    .dataframe tbody tr th:only-of-type {\n",
       "        vertical-align: middle;\n",
       "    }\n",
       "\n",
       "    .dataframe tbody tr th {\n",
       "        vertical-align: top;\n",
       "    }\n",
       "\n",
       "    .dataframe thead th {\n",
       "        text-align: right;\n",
       "    }\n",
       "</style>\n",
       "<table border=\"1\" class=\"dataframe\">\n",
       "  <thead>\n",
       "    <tr style=\"text-align: right;\">\n",
       "      <th></th>\n",
       "      <th>Variables</th>\n",
       "      <th>Data_Types</th>\n",
       "    </tr>\n",
       "  </thead>\n",
       "  <tbody>\n",
       "    <tr>\n",
       "      <th>0</th>\n",
       "      <td>customerID</td>\n",
       "      <td>object</td>\n",
       "    </tr>\n",
       "    <tr>\n",
       "      <th>1</th>\n",
       "      <td>gender</td>\n",
       "      <td>object</td>\n",
       "    </tr>\n",
       "    <tr>\n",
       "      <th>2</th>\n",
       "      <td>SeniorCitizen</td>\n",
       "      <td>int64</td>\n",
       "    </tr>\n",
       "    <tr>\n",
       "      <th>3</th>\n",
       "      <td>Partner</td>\n",
       "      <td>object</td>\n",
       "    </tr>\n",
       "    <tr>\n",
       "      <th>4</th>\n",
       "      <td>Dependents</td>\n",
       "      <td>object</td>\n",
       "    </tr>\n",
       "    <tr>\n",
       "      <th>5</th>\n",
       "      <td>tenure</td>\n",
       "      <td>int64</td>\n",
       "    </tr>\n",
       "    <tr>\n",
       "      <th>6</th>\n",
       "      <td>PhoneService</td>\n",
       "      <td>object</td>\n",
       "    </tr>\n",
       "    <tr>\n",
       "      <th>7</th>\n",
       "      <td>MultipleLines</td>\n",
       "      <td>object</td>\n",
       "    </tr>\n",
       "    <tr>\n",
       "      <th>8</th>\n",
       "      <td>InternetService</td>\n",
       "      <td>object</td>\n",
       "    </tr>\n",
       "    <tr>\n",
       "      <th>9</th>\n",
       "      <td>OnlineSecurity</td>\n",
       "      <td>object</td>\n",
       "    </tr>\n",
       "    <tr>\n",
       "      <th>10</th>\n",
       "      <td>OnlineBackup</td>\n",
       "      <td>object</td>\n",
       "    </tr>\n",
       "    <tr>\n",
       "      <th>11</th>\n",
       "      <td>DeviceProtection</td>\n",
       "      <td>object</td>\n",
       "    </tr>\n",
       "    <tr>\n",
       "      <th>12</th>\n",
       "      <td>TechSupport</td>\n",
       "      <td>object</td>\n",
       "    </tr>\n",
       "    <tr>\n",
       "      <th>13</th>\n",
       "      <td>StreamingTV</td>\n",
       "      <td>object</td>\n",
       "    </tr>\n",
       "    <tr>\n",
       "      <th>14</th>\n",
       "      <td>StreamingMovies</td>\n",
       "      <td>object</td>\n",
       "    </tr>\n",
       "    <tr>\n",
       "      <th>15</th>\n",
       "      <td>Contract</td>\n",
       "      <td>object</td>\n",
       "    </tr>\n",
       "    <tr>\n",
       "      <th>16</th>\n",
       "      <td>PaperlessBilling</td>\n",
       "      <td>object</td>\n",
       "    </tr>\n",
       "    <tr>\n",
       "      <th>17</th>\n",
       "      <td>PaymentMethod</td>\n",
       "      <td>object</td>\n",
       "    </tr>\n",
       "    <tr>\n",
       "      <th>18</th>\n",
       "      <td>MonthlyCharges</td>\n",
       "      <td>float64</td>\n",
       "    </tr>\n",
       "    <tr>\n",
       "      <th>19</th>\n",
       "      <td>TotalCharges</td>\n",
       "      <td>object</td>\n",
       "    </tr>\n",
       "    <tr>\n",
       "      <th>20</th>\n",
       "      <td>Churn</td>\n",
       "      <td>object</td>\n",
       "    </tr>\n",
       "  </tbody>\n",
       "</table>\n",
       "</div>"
      ],
      "text/plain": [
       "           Variables Data_Types\n",
       "0         customerID     object\n",
       "1             gender     object\n",
       "2      SeniorCitizen      int64\n",
       "3            Partner     object\n",
       "4         Dependents     object\n",
       "5             tenure      int64\n",
       "6       PhoneService     object\n",
       "7      MultipleLines     object\n",
       "8    InternetService     object\n",
       "9     OnlineSecurity     object\n",
       "10      OnlineBackup     object\n",
       "11  DeviceProtection     object\n",
       "12       TechSupport     object\n",
       "13       StreamingTV     object\n",
       "14   StreamingMovies     object\n",
       "15          Contract     object\n",
       "16  PaperlessBilling     object\n",
       "17     PaymentMethod     object\n",
       "18    MonthlyCharges    float64\n",
       "19      TotalCharges     object\n",
       "20             Churn     object"
      ]
     },
     "metadata": {},
     "output_type": "display_data"
    }
   ],
   "source": [
    "# A list containing the feature names and will be used to\n",
    "# create the dataframe\n",
    "name_1 = []\n",
    "\n",
    "# Another list, containing the data types for each columns\n",
    "dtype_1 = []\n",
    "\n",
    "for i in range(len(telco_data.columns)):\n",
    "    name_1.append(telco_data.columns[i])\n",
    "    dtype_1.append(telco_data[telco_data.columns[i]].dtype.name)\n",
    "\n",
    "# Creating a dictionary for the variable names and data types\n",
    "var_dtype = {'Variables': name_1, 'Data_Types': dtype_1}\n",
    "\n",
    "# A dataframe of the variable names and data types\n",
    "variables_datatypes = pd.DataFrame(var_dtype)\n",
    "\n",
    "# Viewing the dataframe\n",
    "display(variables_datatypes)"
   ]
  },
  {
   "cell_type": "markdown",
   "id": "7120c023",
   "metadata": {},
   "source": [
    "Upon examining the dataset, it is evident that only the columns labeled `SeniorCitizen`, `tenure`, and `MonthlyCharges` possess numerical data, while the remaining columns are comprised of object data types. However, a more in-depth analysis reveals that the `TotalCharges` column should also be considered a numerical feature.\n",
    "\n",
    "Upon closer inspection, it is noted that there are 16 categorical features in the dataset. To facilitate model training, these categorical features will undergo conversion into numerical data types using appropriate representations.\n",
    "\n",
    "It is worth noting that the `SeniorCitizen` feature, despite being of integer data type, warrants further investigation into the nature of its values. This exploration will contribute valuable insights for subsequent analyses."
   ]
  },
  {
   "cell_type": "code",
   "execution_count": 7,
   "id": "f4b8dfd3",
   "metadata": {},
   "outputs": [
    {
     "data": {
      "text/plain": [
       "array([0, 1], dtype=int64)"
      ]
     },
     "execution_count": 7,
     "metadata": {},
     "output_type": "execute_result"
    }
   ],
   "source": [
    "# Checking the entries in the SeniorCitizen column\n",
    "telco_data['SeniorCitizen'].unique()"
   ]
  },
  {
   "cell_type": "markdown",
   "id": "2b2935fa",
   "metadata": {},
   "source": [
    "The result above shows that the `SeniorCitizen` column is a categorical feature with two classes of integer values."
   ]
  },
  {
   "cell_type": "markdown",
   "id": "4022f779",
   "metadata": {},
   "source": [
    "<br>\n",
    "\n",
    "### **Categorical Variables - Number of Unique Entries.**\n",
    "\n",
    "Variables labeled with object data types are distinctly characterized as categorical variables, a characterization further supported by consulting the dataset overview for descriptions.\n",
    "\n",
    "The confirmation of their categorical nature can be substantiated by investigating whether these variables display a limited set of unique values or categories. This analysis helps validate their categorical classification."
   ]
  },
  {
   "cell_type": "code",
   "execution_count": 8,
   "id": "bfeb6c61",
   "metadata": {},
   "outputs": [
    {
     "data": {
      "text/html": [
       "<div>\n",
       "<style scoped>\n",
       "    .dataframe tbody tr th:only-of-type {\n",
       "        vertical-align: middle;\n",
       "    }\n",
       "\n",
       "    .dataframe tbody tr th {\n",
       "        vertical-align: top;\n",
       "    }\n",
       "\n",
       "    .dataframe thead th {\n",
       "        text-align: right;\n",
       "    }\n",
       "</style>\n",
       "<table border=\"1\" class=\"dataframe\">\n",
       "  <thead>\n",
       "    <tr style=\"text-align: right;\">\n",
       "      <th></th>\n",
       "      <th>Variables</th>\n",
       "      <th>No_unique_entries</th>\n",
       "    </tr>\n",
       "  </thead>\n",
       "  <tbody>\n",
       "    <tr>\n",
       "      <th>0</th>\n",
       "      <td>customerID</td>\n",
       "      <td>7043</td>\n",
       "    </tr>\n",
       "    <tr>\n",
       "      <th>1</th>\n",
       "      <td>gender</td>\n",
       "      <td>2</td>\n",
       "    </tr>\n",
       "    <tr>\n",
       "      <th>2</th>\n",
       "      <td>Partner</td>\n",
       "      <td>2</td>\n",
       "    </tr>\n",
       "    <tr>\n",
       "      <th>3</th>\n",
       "      <td>Dependents</td>\n",
       "      <td>2</td>\n",
       "    </tr>\n",
       "    <tr>\n",
       "      <th>4</th>\n",
       "      <td>PhoneService</td>\n",
       "      <td>2</td>\n",
       "    </tr>\n",
       "    <tr>\n",
       "      <th>5</th>\n",
       "      <td>MultipleLines</td>\n",
       "      <td>3</td>\n",
       "    </tr>\n",
       "    <tr>\n",
       "      <th>6</th>\n",
       "      <td>InternetService</td>\n",
       "      <td>3</td>\n",
       "    </tr>\n",
       "    <tr>\n",
       "      <th>7</th>\n",
       "      <td>OnlineSecurity</td>\n",
       "      <td>3</td>\n",
       "    </tr>\n",
       "    <tr>\n",
       "      <th>8</th>\n",
       "      <td>OnlineBackup</td>\n",
       "      <td>3</td>\n",
       "    </tr>\n",
       "    <tr>\n",
       "      <th>9</th>\n",
       "      <td>DeviceProtection</td>\n",
       "      <td>3</td>\n",
       "    </tr>\n",
       "    <tr>\n",
       "      <th>10</th>\n",
       "      <td>TechSupport</td>\n",
       "      <td>3</td>\n",
       "    </tr>\n",
       "    <tr>\n",
       "      <th>11</th>\n",
       "      <td>StreamingTV</td>\n",
       "      <td>3</td>\n",
       "    </tr>\n",
       "    <tr>\n",
       "      <th>12</th>\n",
       "      <td>StreamingMovies</td>\n",
       "      <td>3</td>\n",
       "    </tr>\n",
       "    <tr>\n",
       "      <th>13</th>\n",
       "      <td>Contract</td>\n",
       "      <td>3</td>\n",
       "    </tr>\n",
       "    <tr>\n",
       "      <th>14</th>\n",
       "      <td>PaperlessBilling</td>\n",
       "      <td>2</td>\n",
       "    </tr>\n",
       "    <tr>\n",
       "      <th>15</th>\n",
       "      <td>PaymentMethod</td>\n",
       "      <td>4</td>\n",
       "    </tr>\n",
       "    <tr>\n",
       "      <th>16</th>\n",
       "      <td>TotalCharges</td>\n",
       "      <td>6531</td>\n",
       "    </tr>\n",
       "    <tr>\n",
       "      <th>17</th>\n",
       "      <td>Churn</td>\n",
       "      <td>2</td>\n",
       "    </tr>\n",
       "  </tbody>\n",
       "</table>\n",
       "</div>"
      ],
      "text/plain": [
       "           Variables  No_unique_entries\n",
       "0         customerID               7043\n",
       "1             gender                  2\n",
       "2            Partner                  2\n",
       "3         Dependents                  2\n",
       "4       PhoneService                  2\n",
       "5      MultipleLines                  3\n",
       "6    InternetService                  3\n",
       "7     OnlineSecurity                  3\n",
       "8       OnlineBackup                  3\n",
       "9   DeviceProtection                  3\n",
       "10       TechSupport                  3\n",
       "11       StreamingTV                  3\n",
       "12   StreamingMovies                  3\n",
       "13          Contract                  3\n",
       "14  PaperlessBilling                  2\n",
       "15     PaymentMethod                  4\n",
       "16      TotalCharges               6531\n",
       "17             Churn                  2"
      ]
     },
     "metadata": {},
     "output_type": "display_data"
    }
   ],
   "source": [
    "# Computing the number of unique entries in each column\n",
    "\n",
    "categories = []\n",
    "\n",
    "# A list containing the data types for each column\n",
    "nunique = []\n",
    "\n",
    "\n",
    "for i in range(len(telco_data.columns)):\n",
    "    if telco_data[telco_data.columns[i]].dtype.name == 'object':\n",
    "        categories.append(telco_data.columns[i])\n",
    "        nunique.append(telco_data[telco_data.columns[i]].nunique())\n",
    "\n",
    "# Creating a dictionary for the variable names and data types\n",
    "nunique_dict = {'Variables': categories,\n",
    "             'No_unique_entries': nunique}\n",
    "\n",
    "# A dataframe of the variable names and data types\n",
    "cat_var_nunique = pd.DataFrame(nunique_dict)\n",
    "\n",
    "# Viewing the dataframe\n",
    "display(cat_var_nunique)"
   ]
  },
  {
   "cell_type": "markdown",
   "id": "4790f7c8",
   "metadata": {},
   "source": [
    "<br>\n",
    "\n",
    "***Identification of Categorical Columns***\n",
    "\n",
    "Upon reviewing the dataset, it is evident that a majority of the columns contain categorical data. The nature of these columns suggests that they likely encompass information such as demographics, service types, or other categorical attributes related to the customers.\n",
    "\n",
    "<br>\n",
    "\n",
    "***Unique Entries in customerID Column***\n",
    "\n",
    "It is observed that the `customerID` column contains 7043 unique entries, aligning with the total number of observations in the dataset. As anticipated, this column serves as a unique identifier for each customer, ensuring individuality across the dataset.\n",
    "\n",
    "<br>\n",
    "\n",
    "***Data Type Anomaly in TotalCharges Column***\n",
    "\n",
    "Notably, the `TotalCharges` column is reported to have 6531 entries, indicating that there might be missing or improperly formatted data. Further investigation reveals that the entries in this column are in float format. This discrepancy suggests a potential conversion of this column to an object data type during the data storage process, potentially leading to inconsistencies in data representation.\n",
    "\n",
    "<br>\n",
    "\n",
    "***Data Type Correction for TotalCharges Column***\n",
    "\n",
    "In response to the identified anomaly, it is deemed necessary to rectify the data type of the `TotalCharges` column. Given that the entries are in float format, converting the column to the appropriate data type of float is essential to ensure the accuracy and compatibility of the data. This correction aligns the data representation with the nature of the values in the TotalCharges column, facilitating seamless analytical operations."
   ]
  },
  {
   "cell_type": "markdown",
   "id": "23254297",
   "metadata": {},
   "source": [
    "#### **Converting the `TotalCharges` column to float**"
   ]
  },
  {
   "cell_type": "code",
   "execution_count": 9,
   "id": "d1deac3a",
   "metadata": {},
   "outputs": [],
   "source": [
    "# converting TotalCharges column to float data type\n",
    "\n",
    "telco_data['TotalCharges(float)'] = pd.to_numeric(telco_data['TotalCharges'], errors='coerce')"
   ]
  },
  {
   "cell_type": "markdown",
   "id": "ce111020",
   "metadata": {},
   "source": [
    "In the process of transforming the `TotalCharges` column into a numerical data type, instances where conversion was not possible resulted in the assignment of NULL values.\n",
    "\n",
    "A thorough examination revealed that these NULL values originated from the presence of empty strings in the input data.\n",
    "\n",
    "Despite the absence of missing values in the column initially, the emergence of NULL values prompted a subsequent investigation to correlate them with their original entries, aiming to comprehend the nature of the data in those specific observations."
   ]
  },
  {
   "cell_type": "code",
   "execution_count": 10,
   "id": "d940a66f",
   "metadata": {},
   "outputs": [
    {
     "data": {
      "text/html": [
       "<div>\n",
       "<style scoped>\n",
       "    .dataframe tbody tr th:only-of-type {\n",
       "        vertical-align: middle;\n",
       "    }\n",
       "\n",
       "    .dataframe tbody tr th {\n",
       "        vertical-align: top;\n",
       "    }\n",
       "\n",
       "    .dataframe thead th {\n",
       "        text-align: right;\n",
       "    }\n",
       "</style>\n",
       "<table border=\"1\" class=\"dataframe\">\n",
       "  <thead>\n",
       "    <tr style=\"text-align: right;\">\n",
       "      <th></th>\n",
       "      <th>TotalCharges(float)</th>\n",
       "      <th>TotalCharges</th>\n",
       "    </tr>\n",
       "  </thead>\n",
       "  <tbody>\n",
       "    <tr>\n",
       "      <th>488</th>\n",
       "      <td>NaN</td>\n",
       "      <td></td>\n",
       "    </tr>\n",
       "    <tr>\n",
       "      <th>753</th>\n",
       "      <td>NaN</td>\n",
       "      <td></td>\n",
       "    </tr>\n",
       "    <tr>\n",
       "      <th>936</th>\n",
       "      <td>NaN</td>\n",
       "      <td></td>\n",
       "    </tr>\n",
       "    <tr>\n",
       "      <th>1082</th>\n",
       "      <td>NaN</td>\n",
       "      <td></td>\n",
       "    </tr>\n",
       "    <tr>\n",
       "      <th>1340</th>\n",
       "      <td>NaN</td>\n",
       "      <td></td>\n",
       "    </tr>\n",
       "    <tr>\n",
       "      <th>3331</th>\n",
       "      <td>NaN</td>\n",
       "      <td></td>\n",
       "    </tr>\n",
       "    <tr>\n",
       "      <th>3826</th>\n",
       "      <td>NaN</td>\n",
       "      <td></td>\n",
       "    </tr>\n",
       "    <tr>\n",
       "      <th>4380</th>\n",
       "      <td>NaN</td>\n",
       "      <td></td>\n",
       "    </tr>\n",
       "    <tr>\n",
       "      <th>5218</th>\n",
       "      <td>NaN</td>\n",
       "      <td></td>\n",
       "    </tr>\n",
       "    <tr>\n",
       "      <th>6670</th>\n",
       "      <td>NaN</td>\n",
       "      <td></td>\n",
       "    </tr>\n",
       "    <tr>\n",
       "      <th>6754</th>\n",
       "      <td>NaN</td>\n",
       "      <td></td>\n",
       "    </tr>\n",
       "  </tbody>\n",
       "</table>\n",
       "</div>"
      ],
      "text/plain": [
       "      TotalCharges(float) TotalCharges\n",
       "488                   NaN             \n",
       "753                   NaN             \n",
       "936                   NaN             \n",
       "1082                  NaN             \n",
       "1340                  NaN             \n",
       "3331                  NaN             \n",
       "3826                  NaN             \n",
       "4380                  NaN             \n",
       "5218                  NaN             \n",
       "6670                  NaN             \n",
       "6754                  NaN             "
      ]
     },
     "execution_count": 10,
     "metadata": {},
     "output_type": "execute_result"
    }
   ],
   "source": [
    "# Checking the columns with the missing values\n",
    "telco_data[telco_data['TotalCharges(float)'].isnull()][['TotalCharges(float)', 'TotalCharges']]"
   ]
  },
  {
   "cell_type": "markdown",
   "id": "716b7996",
   "metadata": {},
   "source": [
    "The dataframe above shows that there are 11 observations in the `TotalCharges` column with missing values.\n",
    "\n",
    "Given the relatively small number of these missing values (11 in total), the approach chosen is to substitute them with the mean value of the respective column."
   ]
  },
  {
   "cell_type": "code",
   "execution_count": 11,
   "id": "0415f0fa",
   "metadata": {},
   "outputs": [],
   "source": [
    "# Calculating the mean value\n",
    "mean_value = telco_data['TotalCharges(float)'].mean()\n",
    "\n",
    "# filling in the missing values\n",
    "telco_data['TotalCharges(float)'].fillna(mean_value, inplace=True)\n"
   ]
  },
  {
   "cell_type": "markdown",
   "id": "730ba8f5",
   "metadata": {},
   "source": [
    "**Checking to see that the missing values have been fixed**"
   ]
  },
  {
   "cell_type": "code",
   "execution_count": 12,
   "id": "cd5cb680",
   "metadata": {},
   "outputs": [
    {
     "data": {
      "text/html": [
       "<div>\n",
       "<style scoped>\n",
       "    .dataframe tbody tr th:only-of-type {\n",
       "        vertical-align: middle;\n",
       "    }\n",
       "\n",
       "    .dataframe tbody tr th {\n",
       "        vertical-align: top;\n",
       "    }\n",
       "\n",
       "    .dataframe thead th {\n",
       "        text-align: right;\n",
       "    }\n",
       "</style>\n",
       "<table border=\"1\" class=\"dataframe\">\n",
       "  <thead>\n",
       "    <tr style=\"text-align: right;\">\n",
       "      <th></th>\n",
       "      <th>TotalCharges(float)</th>\n",
       "      <th>TotalCharges</th>\n",
       "    </tr>\n",
       "  </thead>\n",
       "  <tbody>\n",
       "  </tbody>\n",
       "</table>\n",
       "</div>"
      ],
      "text/plain": [
       "Empty DataFrame\n",
       "Columns: [TotalCharges(float), TotalCharges]\n",
       "Index: []"
      ]
     },
     "execution_count": 12,
     "metadata": {},
     "output_type": "execute_result"
    }
   ],
   "source": [
    "# Checking the columns with the missing values\n",
    "telco_data[telco_data['TotalCharges(float)'].isnull()][['TotalCharges(float)', 'TotalCharges']]"
   ]
  },
  {
   "cell_type": "markdown",
   "id": "9cd219ed",
   "metadata": {},
   "source": [
    "The above outcome suggests that the issues related to missing values in the `TotalCharges` column with a data type of float have been successfully addressed."
   ]
  },
  {
   "cell_type": "markdown",
   "id": "b20b0721",
   "metadata": {},
   "source": [
    "## **Data Cleaning and Preprocessing**"
   ]
  },
  {
   "cell_type": "markdown",
   "id": "342999ff",
   "metadata": {},
   "source": [
    "### **Missing Values**\n",
    "\n",
    "Identifying and managing missing values is essential for upholding the credibility of data analysis. It is crucial to pinpoint the underlying reasons for data gaps and devise a suitable plan for addressing them.\n",
    "\n",
    "This plan might encompass the utilization of imputation techniques like mean or median imputation, or the exclusion of incomplete records, tailored to the specific characteristics and context of the missing data.\n",
    "\n",
    "Effectively dealing with missing values not only guarantees the precision of analytical results but also enhances their reliability."
   ]
  },
  {
   "cell_type": "code",
   "execution_count": 13,
   "id": "f908f0c6",
   "metadata": {},
   "outputs": [
    {
     "data": {
      "text/plain": [
       "Series([], dtype: int64)"
      ]
     },
     "execution_count": 13,
     "metadata": {},
     "output_type": "execute_result"
    }
   ],
   "source": [
    "# Identifying Missing values\n",
    "missing_values = telco_data.isnull().sum()\n",
    "\n",
    "# Columns with missing values\n",
    "missing_values[missing_values > 0]"
   ]
  },
  {
   "cell_type": "markdown",
   "id": "dcae2896",
   "metadata": {},
   "source": [
    "The preceding result indicates that the dataframe is devoid of any missing values. Through a thorough examination of the dataset, no instances of null values were detected. The data appears to be complete and free from any gaps or incomplete entries."
   ]
  },
  {
   "cell_type": "markdown",
   "id": "8ce74544",
   "metadata": {},
   "source": [
    "### **EXPLORATORY DATA ANALYSIS**"
   ]
  },
  {
   "cell_type": "markdown",
   "id": "c1e1a8ec",
   "metadata": {},
   "source": [
    "#### **Data Visualization**\n",
    "\n",
    "As the data types of most of the features in the dataset are categorical, a count plot will be used to view the categorical features based on the churn rate [2]."
   ]
  },
  {
   "cell_type": "markdown",
   "id": "019300b3",
   "metadata": {},
   "source": [
    "**Bar Plots for Categorical Features**"
   ]
  },
  {
   "cell_type": "code",
   "execution_count": null,
   "id": "6caae2a9",
   "metadata": {},
   "outputs": [],
   "source": [
    "# Features to be excluded from the categorical plots\n",
    "excluded_features = ['customerID', 'tenure', 'MonthlyCharges',\n",
    "                     'TotalCharges', 'TotalCharges(float)', 'Churn']\n",
    "\n",
    "# Looping through all features\n",
    "for col in customer_data.columns:\n",
    "    if col not in excluded_features:  # Excluding numerical features\n",
    "        print('\\n\\n')\n",
    "        plt.figure(figsize=(12, 4) if customer_data[col].nunique() > 3 else (8, 4))  # Adjusting figure size based on categories\n",
    "        sns.countplot(x=col, hue='Churn', data=customer_data, palette='Set2')  # Changed plot color to Set2\n",
    "        plt.title(f'Churn rate by {col}')\n",
    "        plt.tight_layout()\n",
    "        plt.show()\n",
    "        print('\\n\\n')  # Creating spaces between charts"
   ]
  },
  {
   "cell_type": "code",
   "execution_count": 14,
   "id": "3573bf6a",
   "metadata": {
    "scrolled": true
   },
   "outputs": [
    {
     "name": "stdout",
     "output_type": "stream",
     "text": [
      "\n",
      "\n"
     ]
    },
    {
     "data": {
      "image/png": "[encoded data removed]",
      "text/plain": [
       "<Figure size 576x288 with 1 Axes>"
      ]
     },
     "metadata": {
      "needs_background": "light"
     },
     "output_type": "display_data"
    },
    {
     "name": "stdout",
     "output_type": "stream",
     "text": [
      "\n",
      "\n",
      "\n",
      "\n"
     ]
    },
    {
     "data": {
      "text/plain": [
       "<Figure size 432x288 with 0 Axes>"
      ]
     },
     "metadata": {},
     "output_type": "display_data"
    },
    {
     "data": {
      "image/png": "[encoded data removed]",
      "text/plain": [
       "<Figure size 576x288 with 1 Axes>"
      ]
     },
     "metadata": {
      "needs_background": "light"
     },
     "output_type": "display_data"
    },
    {
     "name": "stdout",
     "output_type": "stream",
     "text": [
      "\n",
      "\n",
      "\n",
      "\n"
     ]
    },
    {
     "data": {
      "text/plain": [
       "<Figure size 432x288 with 0 Axes>"
      ]
     },
     "metadata": {},
     "output_type": "display_data"
    },
    {
     "data": {
      "image/png": "[encoded data removed]",
      "text/plain": [
       "<Figure size 576x288 with 1 Axes>"
      ]
     },
     "metadata": {
      "needs_background": "light"
     },
     "output_type": "display_data"
    },
    {
     "name": "stdout",
     "output_type": "stream",
     "text": [
      "\n",
      "\n",
      "\n",
      "\n"
     ]
    },
    {
     "data": {
      "text/plain": [
       "<Figure size 432x288 with 0 Axes>"
      ]
     },
     "metadata": {},
     "output_type": "display_data"
    },
    {
     "data": {
      "image/png": "[encoded data removed]",
      "text/plain": [
       "<Figure size 576x288 with 1 Axes>"
      ]
     },
     "metadata": {
      "needs_background": "light"
     },
     "output_type": "display_data"
    },
    {
     "name": "stdout",
     "output_type": "stream",
     "text": [
      "\n",
      "\n",
      "\n",
      "\n"
     ]
    },
    {
     "data": {
      "text/plain": [
       "<Figure size 432x288 with 0 Axes>"
      ]
     },
     "metadata": {},
     "output_type": "display_data"
    },
    {
     "data": {
      "image/png": "[encoded data removed]",
      "text/plain": [
       "<Figure size 576x288 with 1 Axes>"
      ]
     },
     "metadata": {
      "needs_background": "light"
     },
     "output_type": "display_data"
    },
    {
     "name": "stdout",
     "output_type": "stream",
     "text": [
      "\n",
      "\n",
      "\n",
      "\n"
     ]
    },
    {
     "data": {
      "text/plain": [
       "<Figure size 432x288 with 0 Axes>"
      ]
     },
     "metadata": {},
     "output_type": "display_data"
    },
    {
     "data": {
      "image/png": "[encoded data removed]",
      "text/plain": [
       "<Figure size 576x288 with 1 Axes>"
      ]
     },
     "metadata": {
      "needs_background": "light"
     },
     "output_type": "display_data"
    },
    {
     "name": "stdout",
     "output_type": "stream",
     "text": [
      "\n",
      "\n",
      "\n",
      "\n"
     ]
    },
    {
     "data": {
      "text/plain": [
       "<Figure size 432x288 with 0 Axes>"
      ]
     },
     "metadata": {},
     "output_type": "display_data"
    },
    {
     "data": {
      "image/png": "[encoded data removed]",
      "text/plain": [
       "<Figure size 576x288 with 1 Axes>"
      ]
     },
     "metadata": {
      "needs_background": "light"
     },
     "output_type": "display_data"
    },
    {
     "name": "stdout",
     "output_type": "stream",
     "text": [
      "\n",
      "\n",
      "\n",
      "\n"
     ]
    },
    {
     "data": {
      "text/plain": [
       "<Figure size 432x288 with 0 Axes>"
      ]
     },
     "metadata": {},
     "output_type": "display_data"
    },
    {
     "data": {
      "image/png": "[encoded data removed]",
      "text/plain": [
       "<Figure size 576x288 with 1 Axes>"
      ]
     },
     "metadata": {
      "needs_background": "light"
     },
     "output_type": "display_data"
    },
    {
     "name": "stdout",
     "output_type": "stream",
     "text": [
      "\n",
      "\n",
      "\n",
      "\n"
     ]
    },
    {
     "data": {
      "text/plain": [
       "<Figure size 432x288 with 0 Axes>"
      ]
     },
     "metadata": {},
     "output_type": "display_data"
    },
    {
     "data": {
      "image/png": "[encoded data removed]",
      "text/plain": [
       "<Figure size 576x288 with 1 Axes>"
      ]
     },
     "metadata": {
      "needs_background": "light"
     },
     "output_type": "display_data"
    },
    {
     "name": "stdout",
     "output_type": "stream",
     "text": [
      "\n",
      "\n",
      "\n",
      "\n"
     ]
    },
    {
     "data": {
      "text/plain": [
       "<Figure size 432x288 with 0 Axes>"
      ]
     },
     "metadata": {},
     "output_type": "display_data"
    },
    {
     "data": {
      "image/png": "[encoded data removed]",
      "text/plain": [
       "<Figure size 576x288 with 1 Axes>"
      ]
     },
     "metadata": {
      "needs_background": "light"
     },
     "output_type": "display_data"
    },
    {
     "name": "stdout",
     "output_type": "stream",
     "text": [
      "\n",
      "\n",
      "\n",
      "\n"
     ]
    },
    {
     "data": {
      "text/plain": [
       "<Figure size 432x288 with 0 Axes>"
      ]
     },
     "metadata": {},
     "output_type": "display_data"
    },
    {
     "data": {
      "image/png": "[encoded data removed]",
      "text/plain": [
       "<Figure size 576x288 with 1 Axes>"
      ]
     },
     "metadata": {
      "needs_background": "light"
     },
     "output_type": "display_data"
    },
    {
     "name": "stdout",
     "output_type": "stream",
     "text": [
      "\n",
      "\n",
      "\n",
      "\n"
     ]
    },
    {
     "data": {
      "text/plain": [
       "<Figure size 432x288 with 0 Axes>"
      ]
     },
     "metadata": {},
     "output_type": "display_data"
    },
    {
     "data": {
      "image/png": "[encoded data removed]",
      "text/plain": [
       "<Figure size 576x288 with 1 Axes>"
      ]
     },
     "metadata": {
      "needs_background": "light"
     },
     "output_type": "display_data"
    },
    {
     "name": "stdout",
     "output_type": "stream",
     "text": [
      "\n",
      "\n",
      "\n",
      "\n"
     ]
    },
    {
     "data": {
      "text/plain": [
       "<Figure size 432x288 with 0 Axes>"
      ]
     },
     "metadata": {},
     "output_type": "display_data"
    },
    {
     "data": {
      "image/png": "[encoded data removed]",
      "text/plain": [
       "<Figure size 576x288 with 1 Axes>"
      ]
     },
     "metadata": {
      "needs_background": "light"
     },
     "output_type": "display_data"
    },
    {
     "name": "stdout",
     "output_type": "stream",
     "text": [
      "\n",
      "\n",
      "\n",
      "\n"
     ]
    },
    {
     "data": {
      "text/plain": [
       "<Figure size 432x288 with 0 Axes>"
      ]
     },
     "metadata": {},
     "output_type": "display_data"
    },
    {
     "data": {
      "image/png": "[encoded data removed]",
      "text/plain": [
       "<Figure size 576x288 with 1 Axes>"
      ]
     },
     "metadata": {
      "needs_background": "light"
     },
     "output_type": "display_data"
    },
    {
     "name": "stdout",
     "output_type": "stream",
     "text": [
      "\n",
      "\n",
      "\n",
      "\n"
     ]
    },
    {
     "data": {
      "text/plain": [
       "<Figure size 432x288 with 0 Axes>"
      ]
     },
     "metadata": {},
     "output_type": "display_data"
    },
    {
     "data": {
      "image/png": "[encoded data removed]",
      "text/plain": [
       "<Figure size 576x288 with 1 Axes>"
      ]
     },
     "metadata": {
      "needs_background": "light"
     },
     "output_type": "display_data"
    },
    {
     "name": "stdout",
     "output_type": "stream",
     "text": [
      "\n",
      "\n",
      "\n",
      "\n"
     ]
    },
    {
     "data": {
      "text/plain": [
       "<Figure size 432x288 with 0 Axes>"
      ]
     },
     "metadata": {},
     "output_type": "display_data"
    },
    {
     "data": {
      "image/png": "[encoded data removed]",
      "text/plain": [
       "<Figure size 864x288 with 1 Axes>"
      ]
     },
     "metadata": {
      "needs_background": "light"
     },
     "output_type": "display_data"
    },
    {
     "name": "stdout",
     "output_type": "stream",
     "text": [
      "\n",
      "\n"
     ]
    },
    {
     "data": {
      "text/plain": [
       "<Figure size 432x288 with 0 Axes>"
      ]
     },
     "metadata": {},
     "output_type": "display_data"
    }
   ],
   "source": [
    "# Features to be excluded from the categorical plots\n",
    "excluded_features = ['customerID', 'tenure', 'MonthlyCharges',\n",
    "                     'TotalCharges', 'TotalCharges(float)', 'Churn']\n",
    "\n",
    "# Looping through all features\n",
    "for col in telco_data.columns:\n",
    "    if col not in excluded_features:    # Excluding numerical features\n",
    "        print('\\n')\n",
    "        if telco_data[col].nunique() > 3: # Adjusting the figure size based\n",
    "            plt.figure(figsize=(12, 4))     # on the number of categories\n",
    "        else:\n",
    "            plt.figure(figsize=(8, 4))\n",
    "        sns.countplot(x=col, hue='Churn', data=telco_data, palette='Set2')\n",
    "        plt.title(f'Churn rate by {col}')\n",
    "        plt.savefig(f'images/plot_{col}.png')\n",
    "        plt.show()\n",
    "        plt.tight_layout()\n",
    "        print('\\n')                     # Creating spaces between charts"
   ]
  },
  {
   "cell_type": "markdown",
   "id": "625cea79",
   "metadata": {},
   "source": [
    "The dataset exhibits a fairly even distribution of gender and partners, with roughly equal representation in each category. Although there is a slightly higher churn rate among females, the difference is deemed inconsequential.\n",
    "\n",
    "Notably, a discernible trend of churn is evident among younger customers (SeniorCitizen = 0), as well as customers lacking both partners and dependents.\n",
    "\n",
    "The demographic analysis highlights non-senior citizens without partners and dependents as a distinct customer segment displaying an elevated propensity for churning. This emphasizes the significance of considering these factors when assessing customer retention strategies.\n",
    "\n",
    "When customers face a lack of phone service, the option of having multiple lines is ruled out. A significant portion of phone service subscribers tends to show an increased likelihood of churning.\n",
    "\n",
    "On the flip side, customers relying on fiber optic internet service display a higher tendency to churn, possibly influenced by factors such as heightened costs, market competition, and concerns about customer service.\n",
    "\n",
    "The higher cost associated with fiber optic service, in comparison to DSL, may contribute to customer attrition.\n",
    "\n",
    "Furthermore, customers who subscribe to additional services like OnlineSecurity, OnlineBackup, DeviceProtection, and TechSupport demonstrate a notable decrease in the inclination to churn. Interestingly, the presence of a Streaming service does not seem to follow a discernible predictive pattern for churn, as it is evenly distributed among both 'yes' and 'no' options.\n",
    "\n",
    "The shorter the contract, the higher the churn rate. Those with more extended plans face additional barriers when canceling early. This clearly explains the motivation for companies to have long-term relationships with their customers.\n",
    "\n",
    "Churn Rate is higher for the customers who opted for paperless billing. Customers who pay with electronic checks are more likely to churn, and this kind of payment is more common than other payment types."
   ]
  },
  {
   "cell_type": "markdown",
   "id": "2b136fc6",
   "metadata": {},
   "source": [
    "### **Visualizing the Churn rate per category**\n",
    "\n",
    "Evaluating the distribution balance within the churn feature of the dataset is a critical step in identifying potential data imbalances. It is imperative to ensure a fair representation of both churn and non-churn instances to foster an unbiased and dependable machine learning model.\n",
    "\n",
    "This process involves a careful examination of the ratio between records associated with customer churn and those without. By doing so, valuable insights can be gained, shedding light on potential challenges that could stem from class imbalance.\n",
    "\n",
    "It is essential to address such imbalances to prevent the model from being skewed towards the majority class. Rectifying this ensures an enhanced ability to accurately predict instances of interest, thereby contributing significantly to the overall robustness of the predictive analysis. This proactive approach ultimately strengthens the model's capacity to provide reliable insights into customer churn."
   ]
  },
  {
   "cell_type": "code",
   "execution_count": null,
   "id": "a6eb1bea",
   "metadata": {},
   "outputs": [],
   "source": [
    "# Creating a space before the plot\n",
    "print('\\n\\n')\n",
    "\n",
    "# Creating a figure with two subplots\n",
    "fig, (ax1, ax2) = plt.subplots(nrows=1, ncols=2, figsize=(12, 5))\n",
    "\n",
    "# Adjusting the space betweeen the subplots\n",
    "plt.subplots_adjust(wspace=0.8)\n",
    "\n",
    "# Defining the colors for each class\n",
    "colors = ['skyblue', 'salmon', 'lightgreen']\n",
    "\n",
    "# Number of observations in each category\n",
    "data = customer_data['Churn'].value_counts()\n",
    "\n",
    "# Creating a pie chart.\n",
    "labels = [f'{label} - {np.round(data[label] / data.sum() * 100, 1)}%' for label in data.index]\n",
    "ax1.pie(data, labels=labels, wedgeprops = {'linewidth' : 3, 'edgecolor' : 'white'},\n",
    "        colors=colors)\n",
    "ax1.set_title('Percentage of Customer Churn')\n",
    "\n",
    "# Creating a bar plot.\n",
    "ax2 = sns.barplot(data=data.to_frame(), y='Churn', x=data.index, palette=colors)\n",
    "\n",
    "# Setting the label and title\n",
    "ax2.set(xlabel=None, ylabel='Number of Customers')\n",
    "ax2.bar_label(container=ax2.containers[0], labels=customer_data['Churn'].value_counts())\n",
    "ax2.spines[['right', 'top']].set_visible(False)\n",
    "ax2.set_title('Total number of Customers')\n",
    "# Saving the plot\n",
    "plt.savefig(f'images/churn_rate.png')\n",
    "# Displaying the plot\n",
    "plt.show()"
   ]
  },
  {
   "cell_type": "markdown",
   "id": "68ef7917",
   "metadata": {},
   "source": [
    "<br>\n",
    "\n",
    "The plot above offers a comprehensive view of the dataset's `Churn` column. On the horizontal axis of the count plot, the churn status is delineated, distinguishing between customers who have undergone churn and those who have not. Concurrently, the vertical axis denotes the frequency of occurrences within each category.\n",
    "\n",
    "This graphical representation serves as a crucial tool for evaluating the distribution of data, with a particular focus on achieving a balanced representation of both churn and non-churn instances. Maintaining equilibrium between these classes is imperative for training a machine learning model that exhibits robust performance.\n",
    "\n",
    "Examining the plots reveal a notable imbalance in the dataset, indicating a substantial difference in the number of instances between the two classes. To mitigate this imbalance, it becomes imperative to employ techniques such as resampling. Addressing these imbalances is crucial to enhance the model's ability to generalize well across both churn and non-churn scenarios.\n",
    "\n",
    "<br>\n",
    "\n",
    "**Class Imbalance and Model Training**\n",
    "\n",
    "\n",
    "The dataset presents a significant class imbalance, with one class comprising a considerable majority and another representing a smaller minority. In response to this imbalance, machine learning algorithms known for their efficacy in handling imbalanced datasets will be chosen for model training.\n",
    "\n",
    "Specifically, the Random Forest and Naive Bayes Classifier (NB) algorithms have been selected due to their inherent ability to consider class distribution during the learning process. The Random Forest algorithm, being an ensemble method, is particularly noteworthy for its demonstrated effectiveness in tackling challenges associated with class imbalance. This ensemble approach enhances the model's capability to address the skewed distribution of classes within the dataset.\n",
    "\n",
    "<br>\n",
    "\n",
    "In assessing model performance, particular attention will be given to metrics that exhibit sensitivity to class imbalance. Balanced accuracy, Precision, recall, and F1 score, will be given precedence over conventional accuracy metrics.\n",
    "\n",
    "These chosen metrics offer a more nuanced insight into the model's proficiency in accurately detecting instances of the minority class, a critical aspect in the domain of telco churn prediction.\n",
    "\n",
    "This strategic approach ensures a thorough evaluation of the model's effectiveness, especially in scenarios characterized by imbalanced classes, where relying solely on traditional accuracy measures may lead to a misrepresentation of performance."
   ]
  },
  {
   "cell_type": "markdown",
   "id": "24041cba",
   "metadata": {},
   "source": [
    "#### **Data Visualization of Numerical Features**\n",
    "\n",
    "**Histograms**"
   ]
  },
  {
   "cell_type": "code",
   "execution_count": 17,
   "id": "79f92c38",
   "metadata": {},
   "outputs": [
    {
     "name": "stdout",
     "output_type": "stream",
     "text": [
      "\n",
      "\n"
     ]
    },
    {
     "data": {
      "image/png": "[encoded data removed]",
      "text/plain": [
       "<Figure size 1296x432 with 3 Axes>"
      ]
     },
     "metadata": {
      "needs_background": "light"
     },
     "output_type": "display_data"
    }
   ],
   "source": [
    "# 'Churn' is the column indicating churn categories ('Yes' or 'No')\n",
    "\n",
    "numerical_features = ['tenure', 'MonthlyCharges', 'TotalCharges(float)']\n",
    "\n",
    "# Set up the figure and axis\n",
    "fig, axes = plt.subplots(1, 3, figsize=(18, 6), sharey=True)\n",
    "\n",
    "# Creating a space before the plot\n",
    "print('\\n')\n",
    "# Iterate through numerical features\n",
    "for i, feature in enumerate(numerical_features):\n",
    "    # Plot histograms for each churn category\n",
    "    sns.histplot(data=telco_data, x=feature, hue='Churn', multiple='stack', kde=True, ax=axes[i], palette=colors)\n",
    "    axes[i].set_title(f'Histogram of {feature}')\n",
    "\n",
    "# Set common y-axis label\n",
    "fig.text(0.5, 0, 'Frequency', ha='center', va='center', fontsize=14)\n",
    "\n",
    "# Adjust layout\n",
    "plt.tight_layout(pad=2.0)\n",
    "plt.show()\n"
   ]
  },
  {
   "cell_type": "markdown",
   "id": "ce042a42",
   "metadata": {},
   "source": [
    "The histogram depicting customer tenure reveals a right-skewed distribution, indicating that a significant portion of customers has a relatively short association with the telecom company, predominantly within the initial 0-9 months. Correspondingly, the highest incidence of churn is observed during this initial period, highlighting that a considerable number of customers decide to discontinue services within their first 30 months.\n",
    "\n",
    "Upon closer examination of the monthly charge histogram, a noteworthy pattern emerges - customers with higher monthly charges display an increased churn rate. This finding suggests a potential correlation between the attractiveness of discounts and promotions and customer retention.\n",
    "\n",
    "In essence, it implies that the provision of discounts or promotional offers could serve as a compelling incentive for customers to sustain their subscriptions, thereby reducing the likelihood of churn. This insight highlights the importance of promotional strategies in fostering customer loyalty and mitigating churn risks."
   ]
  },
  {
   "cell_type": "markdown",
   "id": "298de090",
   "metadata": {},
   "source": [
    "**Box Plots for Numerical Features**"
   ]
  },
  {
   "cell_type": "code",
   "execution_count": 18,
   "id": "6416e1fb",
   "metadata": {},
   "outputs": [
    {
     "name": "stdout",
     "output_type": "stream",
     "text": [
      "\n",
      "\n"
     ]
    },
    {
     "data": {
      "image/png": "[encoded data removed]",
      "text/plain": [
       "<Figure size 1296x360 with 3 Axes>"
      ]
     },
     "metadata": {
      "needs_background": "light"
     },
     "output_type": "display_data"
    }
   ],
   "source": [
    "# Creating plots for Numerical features\n",
    "\n",
    "# Creating the figure\n",
    "plt.figure(figsize=(18, 5))\n",
    "\n",
    "# Creating a space before the plot\n",
    "print('\\n')\n",
    "\n",
    "for i, col in enumerate(numerical_features, 1):\n",
    "    plt.subplot(1, 3, i)\n",
    "    #sns.boxplot(x=col, color='skyblue', width=0.4)\n",
    "    sns.boxplot(x='Churn', y=col, data=telco_data, palette='viridis')\n",
    "    plt.title(f'Box Plot of {col}')\n",
    "\n",
    "plt.suptitle('Box Plots of Numerical Features', y=1.05, size=16)\n",
    "plt.tight_layout()\n",
    "plt.show()\n"
   ]
  },
  {
   "cell_type": "markdown",
   "id": "2c1d441f",
   "metadata": {},
   "source": [
    "The insights derived from the Box plot of the `tenure` align with the findings from the histogram, reinforcing the observation that customers who churned typically had a shorter tenure compared to those who remained. Notably, there are outliers in the churned category, potentially indicative of long-term customers exploring alternative telecommunication services.\n",
    "\n",
    "Examining the `MonthlyCharges` column reveals a discernible pattern: customers with higher monthly charges exhibit a propensity to leave the company. This observation serves as additional evidence supporting the trends identified in the histograms, emphasizing the influence of monthly charges on customer retention.\n",
    "\n",
    "Further analysis of the `TotalCharges` column indicates that customers who churned generally have lower total charges, with noticeable outliers. These outliers may represent cases where customers, despite being with the company for an extended period, opted to leave, possibly influenced by the perceived high cost associated with the services rendered.\n",
    "\n",
    "In summary, the combination of Box plots and histograms provides a comprehensive understanding of the distribution and tendencies within the numerical features of the Telco dataset. The identified patterns, supported by the presence of outliers, contribute valuable insights into potential factors influencing customer churn, such as tenure duration, monthly charges, and total expenditure."
   ]
  },
  {
   "cell_type": "markdown",
   "id": "2ff5975a",
   "metadata": {},
   "source": [
    "## **Encoding Categorical Variables**\n",
    "\n",
    "Before going on to encode categorical variables, a subset of the dataframe needed for training the machine learning will be extracted.\n",
    "\n",
    "The `customerID`, and `TotalCharges` columns will be dropped. The `customerID` column is a unique identification for all customers in the dataset and is of little significance for the machine learning model training while the `TotalCharges` column is a column of object data type that has been converted and inputted in a new column."
   ]
  },
  {
   "cell_type": "code",
   "execution_count": 19,
   "id": "a861a621",
   "metadata": {},
   "outputs": [
    {
     "data": {
      "text/html": [
       "<div>\n",
       "<style scoped>\n",
       "    .dataframe tbody tr th:only-of-type {\n",
       "        vertical-align: middle;\n",
       "    }\n",
       "\n",
       "    .dataframe tbody tr th {\n",
       "        vertical-align: top;\n",
       "    }\n",
       "\n",
       "    .dataframe thead th {\n",
       "        text-align: right;\n",
       "    }\n",
       "</style>\n",
       "<table border=\"1\" class=\"dataframe\">\n",
       "  <thead>\n",
       "    <tr style=\"text-align: right;\">\n",
       "      <th></th>\n",
       "      <th>gender</th>\n",
       "      <th>SeniorCitizen</th>\n",
       "      <th>Partner</th>\n",
       "      <th>Dependents</th>\n",
       "      <th>tenure</th>\n",
       "      <th>PhoneService</th>\n",
       "      <th>MultipleLines</th>\n",
       "      <th>InternetService</th>\n",
       "      <th>OnlineSecurity</th>\n",
       "      <th>OnlineBackup</th>\n",
       "      <th>DeviceProtection</th>\n",
       "      <th>TechSupport</th>\n",
       "      <th>StreamingTV</th>\n",
       "      <th>StreamingMovies</th>\n",
       "      <th>Contract</th>\n",
       "      <th>PaperlessBilling</th>\n",
       "      <th>PaymentMethod</th>\n",
       "      <th>MonthlyCharges</th>\n",
       "      <th>Churn</th>\n",
       "      <th>TotalCharges</th>\n",
       "    </tr>\n",
       "  </thead>\n",
       "  <tbody>\n",
       "    <tr>\n",
       "      <th>0</th>\n",
       "      <td>Female</td>\n",
       "      <td>0</td>\n",
       "      <td>Yes</td>\n",
       "      <td>No</td>\n",
       "      <td>1</td>\n",
       "      <td>No</td>\n",
       "      <td>No phone service</td>\n",
       "      <td>DSL</td>\n",
       "      <td>No</td>\n",
       "      <td>Yes</td>\n",
       "      <td>No</td>\n",
       "      <td>No</td>\n",
       "      <td>No</td>\n",
       "      <td>No</td>\n",
       "      <td>Month-to-month</td>\n",
       "      <td>Yes</td>\n",
       "      <td>Electronic check</td>\n",
       "      <td>29.85</td>\n",
       "      <td>No</td>\n",
       "      <td>29.85</td>\n",
       "    </tr>\n",
       "    <tr>\n",
       "      <th>1</th>\n",
       "      <td>Male</td>\n",
       "      <td>0</td>\n",
       "      <td>No</td>\n",
       "      <td>No</td>\n",
       "      <td>34</td>\n",
       "      <td>Yes</td>\n",
       "      <td>No</td>\n",
       "      <td>DSL</td>\n",
       "      <td>Yes</td>\n",
       "      <td>No</td>\n",
       "      <td>Yes</td>\n",
       "      <td>No</td>\n",
       "      <td>No</td>\n",
       "      <td>No</td>\n",
       "      <td>One year</td>\n",
       "      <td>No</td>\n",
       "      <td>Mailed check</td>\n",
       "      <td>56.95</td>\n",
       "      <td>No</td>\n",
       "      <td>1889.50</td>\n",
       "    </tr>\n",
       "    <tr>\n",
       "      <th>2</th>\n",
       "      <td>Male</td>\n",
       "      <td>0</td>\n",
       "      <td>No</td>\n",
       "      <td>No</td>\n",
       "      <td>2</td>\n",
       "      <td>Yes</td>\n",
       "      <td>No</td>\n",
       "      <td>DSL</td>\n",
       "      <td>Yes</td>\n",
       "      <td>Yes</td>\n",
       "      <td>No</td>\n",
       "      <td>No</td>\n",
       "      <td>No</td>\n",
       "      <td>No</td>\n",
       "      <td>Month-to-month</td>\n",
       "      <td>Yes</td>\n",
       "      <td>Mailed check</td>\n",
       "      <td>53.85</td>\n",
       "      <td>Yes</td>\n",
       "      <td>108.15</td>\n",
       "    </tr>\n",
       "    <tr>\n",
       "      <th>3</th>\n",
       "      <td>Male</td>\n",
       "      <td>0</td>\n",
       "      <td>No</td>\n",
       "      <td>No</td>\n",
       "      <td>45</td>\n",
       "      <td>No</td>\n",
       "      <td>No phone service</td>\n",
       "      <td>DSL</td>\n",
       "      <td>Yes</td>\n",
       "      <td>No</td>\n",
       "      <td>Yes</td>\n",
       "      <td>Yes</td>\n",
       "      <td>No</td>\n",
       "      <td>No</td>\n",
       "      <td>One year</td>\n",
       "      <td>No</td>\n",
       "      <td>Bank transfer (automatic)</td>\n",
       "      <td>42.30</td>\n",
       "      <td>No</td>\n",
       "      <td>1840.75</td>\n",
       "    </tr>\n",
       "    <tr>\n",
       "      <th>4</th>\n",
       "      <td>Female</td>\n",
       "      <td>0</td>\n",
       "      <td>No</td>\n",
       "      <td>No</td>\n",
       "      <td>2</td>\n",
       "      <td>Yes</td>\n",
       "      <td>No</td>\n",
       "      <td>Fiber optic</td>\n",
       "      <td>No</td>\n",
       "      <td>No</td>\n",
       "      <td>No</td>\n",
       "      <td>No</td>\n",
       "      <td>No</td>\n",
       "      <td>No</td>\n",
       "      <td>Month-to-month</td>\n",
       "      <td>Yes</td>\n",
       "      <td>Electronic check</td>\n",
       "      <td>70.70</td>\n",
       "      <td>Yes</td>\n",
       "      <td>151.65</td>\n",
       "    </tr>\n",
       "  </tbody>\n",
       "</table>\n",
       "</div>"
      ],
      "text/plain": [
       "   gender  SeniorCitizen Partner Dependents  tenure PhoneService  \\\n",
       "0  Female              0     Yes         No       1           No   \n",
       "1    Male              0      No         No      34          Yes   \n",
       "2    Male              0      No         No       2          Yes   \n",
       "3    Male              0      No         No      45           No   \n",
       "4  Female              0      No         No       2          Yes   \n",
       "\n",
       "      MultipleLines InternetService OnlineSecurity OnlineBackup  \\\n",
       "0  No phone service             DSL             No          Yes   \n",
       "1                No             DSL            Yes           No   \n",
       "2                No             DSL            Yes          Yes   \n",
       "3  No phone service             DSL            Yes           No   \n",
       "4                No     Fiber optic             No           No   \n",
       "\n",
       "  DeviceProtection TechSupport StreamingTV StreamingMovies        Contract  \\\n",
       "0               No          No          No              No  Month-to-month   \n",
       "1              Yes          No          No              No        One year   \n",
       "2               No          No          No              No  Month-to-month   \n",
       "3              Yes         Yes          No              No        One year   \n",
       "4               No          No          No              No  Month-to-month   \n",
       "\n",
       "  PaperlessBilling              PaymentMethod  MonthlyCharges Churn  \\\n",
       "0              Yes           Electronic check           29.85    No   \n",
       "1               No               Mailed check           56.95    No   \n",
       "2              Yes               Mailed check           53.85   Yes   \n",
       "3               No  Bank transfer (automatic)           42.30    No   \n",
       "4              Yes           Electronic check           70.70   Yes   \n",
       "\n",
       "   TotalCharges  \n",
       "0         29.85  \n",
       "1       1889.50  \n",
       "2        108.15  \n",
       "3       1840.75  \n",
       "4        151.65  "
      ]
     },
     "execution_count": 19,
     "metadata": {},
     "output_type": "execute_result"
    }
   ],
   "source": [
    "# Creating a copy of the telco_data\n",
    "data = telco_data.drop(columns=['customerID', 'TotalCharges']).copy()\n",
    "\n",
    "# Renaming the TotalCharges(float) column to remove the float\n",
    "data.rename(columns={'TotalCharges(float)': 'TotalCharges'}, inplace=True)\n",
    "\n",
    "# Viewing the dataframe\n",
    "data.head()"
   ]
  },
  {
   "cell_type": "markdown",
   "id": "0fd983cc",
   "metadata": {},
   "source": [
    "<br>\n",
    "\n",
    "**Size of the Dataframe**"
   ]
  },
  {
   "cell_type": "code",
   "execution_count": 20,
   "id": "e583323b",
   "metadata": {},
   "outputs": [
    {
     "name": "stdout",
     "output_type": "stream",
     "text": [
      "Number of Observations: 7043      \n",
      "Number of Features: 20\n"
     ]
    }
   ],
   "source": [
    "# Size of dataframe\n",
    "\n",
    "print(f'Number of Observations: {data.shape[0]}\\\n",
    "      \\nNumber of Features: {data.shape[1]}')"
   ]
  },
  {
   "cell_type": "markdown",
   "id": "b000d05c",
   "metadata": {},
   "source": [
    "<br>\n",
    "\n",
    "#### **Categorical Features and Target Variable**\n",
    "\n",
    "For the classification task at hand, where both the target variable and some features are categorical, encoding is a critical step to prepare the data for machine learning models.\n",
    "\n",
    "The chosen approach involves using one-hot encoding for categorical features and label encoding for the target variable. The rationale behind this choice is rooted in the fact that label encoding is generally recommended for the target variable, according to the scikit-learn documentation [7]."
   ]
  },
  {
   "cell_type": "code",
   "execution_count": 21,
   "id": "3846ce70",
   "metadata": {},
   "outputs": [],
   "source": [
    "# Creating empty lists for categorical features\n",
    "cat_features = []\n",
    "\n",
    "# Extracting the categorical features\n",
    "for col in data.columns:\n",
    "    cond = data[col].dtype.name\n",
    "    if (cond == 'object') and (col not in ['Churn'] ):\n",
    "        cat_features.append(col)"
   ]
  },
  {
   "cell_type": "markdown",
   "id": "dd4fd49a",
   "metadata": {},
   "source": [
    "<br>\n",
    "\n",
    "**Checking the number of unique entries in the columns**"
   ]
  },
  {
   "cell_type": "code",
   "execution_count": 22,
   "id": "88ce9f4a",
   "metadata": {},
   "outputs": [
    {
     "data": {
      "text/plain": [
       "gender              2\n",
       "Partner             2\n",
       "Dependents          2\n",
       "PhoneService        2\n",
       "MultipleLines       3\n",
       "InternetService     3\n",
       "OnlineSecurity      3\n",
       "OnlineBackup        3\n",
       "DeviceProtection    3\n",
       "TechSupport         3\n",
       "StreamingTV         3\n",
       "StreamingMovies     3\n",
       "Contract            3\n",
       "PaperlessBilling    2\n",
       "PaymentMethod       4\n",
       "dtype: int64"
      ]
     },
     "execution_count": 22,
     "metadata": {},
     "output_type": "execute_result"
    }
   ],
   "source": [
    "# Number of unique entries in each categorical features\n",
    "data[cat_features].nunique()"
   ]
  },
  {
   "cell_type": "markdown",
   "id": "68dd4521",
   "metadata": {},
   "source": [
    "### **One-Hot Encoding for Categorical Features**\n",
    "\n",
    "\n",
    "Apply one-hot encoding to transform categorical features into numerical format suitable for machine learning models.\n",
    "\n",
    "One-hot encoding creates binary columns for each category, effectively expanding the feature space."
   ]
  },
  {
   "cell_type": "code",
   "execution_count": 23,
   "id": "ac460e73",
   "metadata": {},
   "outputs": [
    {
     "ename": "TypeError",
     "evalue": "__init__() got an unexpected keyword argument 'sparse_output'",
     "output_type": "error",
     "traceback": [
      "\u001b[1;31m---------------------------------------------------------------------------\u001b[0m",
      "\u001b[1;31mTypeError\u001b[0m                                 Traceback (most recent call last)",
      "Input \u001b[1;32mIn [23]\u001b[0m, in \u001b[0;36m<cell line: 5>\u001b[1;34m()\u001b[0m\n\u001b[0;32m      2\u001b[0m cat_data \u001b[38;5;241m=\u001b[39m data[cat_features]\n\u001b[0;32m      4\u001b[0m \u001b[38;5;66;03m# Initializing the OneHotEncoder\u001b[39;00m\n\u001b[1;32m----> 5\u001b[0m onehot_encoder \u001b[38;5;241m=\u001b[39m \u001b[43mOneHotEncoder\u001b[49m\u001b[43m(\u001b[49m\u001b[43msparse_output\u001b[49m\u001b[38;5;241;43m=\u001b[39;49m\u001b[38;5;28;43;01mFalse\u001b[39;49;00m\u001b[43m,\u001b[49m\u001b[43m \u001b[49m\u001b[43mdrop\u001b[49m\u001b[38;5;241;43m=\u001b[39;49m\u001b[38;5;124;43m'\u001b[39;49m\u001b[38;5;124;43mfirst\u001b[39;49m\u001b[38;5;124;43m'\u001b[39;49m\u001b[43m)\u001b[49m\n\u001b[0;32m      7\u001b[0m \u001b[38;5;66;03m# Applying label encoding to the columns\u001b[39;00m\n\u001b[0;32m      8\u001b[0m cat_data_encoded \u001b[38;5;241m=\u001b[39m onehot_encoder\u001b[38;5;241m.\u001b[39mfit_transform(cat_data)\n",
      "\u001b[1;31mTypeError\u001b[0m: __init__() got an unexpected keyword argument 'sparse_output'"
     ]
    }
   ],
   "source": [
    "# Categorical columns\n",
    "cat_data = data[cat_features]\n",
    "\n",
    "# Initializing the OneHotEncoder\n",
    "onehot_encoder = OneHotEncoder(sparse_output=False, drop='first')\n",
    "\n",
    "# Applying label encoding to the columns\n",
    "cat_data_encoded = onehot_encoder.fit_transform(cat_data)\n",
    "\n",
    "# Creating a DataFrame with the one-hot encoded features\n",
    "cat_data_encoded_df = pd.DataFrame(cat_data_encoded,\n",
    "                                   columns=onehot_encoder.get_feature_names_out(cat_features))\n",
    "\n",
    "# Concatenate the one-hot encoded features with the original DataFrame\n",
    "encoded_data = pd.concat([data, cat_data_encoded_df], axis=1)\n",
    "\n",
    "# Drop the original categorical columns, as they are no longer needed\n",
    "encoded_data.drop(columns=cat_features, inplace=True)"
   ]
  },
  {
   "cell_type": "markdown",
   "id": "2da9e60e",
   "metadata": {},
   "source": [
    "<br>\n",
    "\n",
    "**Viewing the Dataframe**"
   ]
  },
  {
   "cell_type": "code",
   "execution_count": null,
   "id": "ce008079",
   "metadata": {},
   "outputs": [],
   "source": [
    "# Dataframe head\n",
    "encoded_data.head()"
   ]
  },
  {
   "cell_type": "markdown",
   "id": "1a3d33f3",
   "metadata": {},
   "source": [
    "### **Label Encoding for the Target Variable**\n",
    "\n",
    "\n",
    "Utilize label encoding to convert the categorical target variable into numerical format.\n",
    "Label encoding assigns a unique numerical label to each category in the target variable."
   ]
  },
  {
   "cell_type": "code",
   "execution_count": null,
   "id": "a06bf403",
   "metadata": {},
   "outputs": [],
   "source": [
    "target = 'Churn'\n",
    "\n",
    "# Creating an instance of the LabelEncoder\n",
    "label_encoder = LabelEncoder()\n",
    "\n",
    "# Applying label encoding to the columns\n",
    "encoded_data[target] = label_encoder.fit_transform(encoded_data[target])"
   ]
  },
  {
   "cell_type": "markdown",
   "id": "55b06973",
   "metadata": {},
   "source": [
    "<br>\n",
    "\n",
    "**Checking the Dataframe**"
   ]
  },
  {
   "cell_type": "code",
   "execution_count": null,
   "id": "f98f4131",
   "metadata": {},
   "outputs": [],
   "source": [
    "# Dataframe head\n",
    "encoded_data.head()"
   ]
  },
  {
   "cell_type": "markdown",
   "id": "6569aa2c",
   "metadata": {},
   "source": [
    "<br>\n",
    "\n",
    "**Moving the target variable to end of the dataframe**"
   ]
  },
  {
   "cell_type": "code",
   "execution_count": null,
   "id": "5596f48a",
   "metadata": {},
   "outputs": [],
   "source": [
    "# Moving the Churn column\n",
    "column = encoded_data.pop('Churn')\n",
    "encoded_data['Churn'] = column\n",
    "\n",
    "# Viewing the dataframe\n",
    "encoded_data.head()"
   ]
  },
  {
   "cell_type": "markdown",
   "id": "3ac8e2cb",
   "metadata": {},
   "source": [
    "## **Feature Scaling**\n",
    "\n",
    "Scaling numerical features can potentially improve the performance of machine learning models, especially if the algorithm used is sensitive to the scale of input features.\n",
    "\n",
    "Standardizing or normalizing numerical features can make their magnitudes more consistent, allowing the model to learn more effectively and converge faster during training.\n",
    "\n",
    "The three numerical features will therefore be scaled before proceeding to the model training"
   ]
  },
  {
   "cell_type": "code",
   "execution_count": null,
   "id": "06381df4",
   "metadata": {},
   "outputs": [],
   "source": [
    "# The numerical features\n",
    "num_features = ['tenure', 'MonthlyCharges', 'TotalCharges']\n",
    "\n",
    "# Initialize the StandardScaler\n",
    "scaler = StandardScaler()\n",
    "\n",
    "# Fit and transform the numerical features\n",
    "encoded_data[num_features] = scaler.fit_transform(encoded_data[num_features])"
   ]
  },
  {
   "cell_type": "markdown",
   "id": "f8032220",
   "metadata": {},
   "source": [
    "# **MODEL TRAINING**"
   ]
  },
  {
   "cell_type": "code",
   "execution_count": null,
   "id": "7bc6e960",
   "metadata": {},
   "outputs": [],
   "source": []
  },
  {
   "cell_type": "code",
   "execution_count": null,
   "id": "f3864cea",
   "metadata": {},
   "outputs": [],
   "source": []
  },
  {
   "cell_type": "code",
   "execution_count": null,
   "id": "d29f6d9d",
   "metadata": {},
   "outputs": [],
   "source": []
  },
  {
   "cell_type": "code",
   "execution_count": null,
   "id": "4dbe990d",
   "metadata": {},
   "outputs": [],
   "source": []
  },
  {
   "cell_type": "code",
   "execution_count": null,
   "id": "9d302ca7",
   "metadata": {},
   "outputs": [],
   "source": []
  },
  {
   "cell_type": "code",
   "execution_count": null,
   "id": "6d3b3f56",
   "metadata": {},
   "outputs": [],
   "source": []
  },
  {
   "cell_type": "code",
   "execution_count": null,
   "id": "98a824bd",
   "metadata": {},
   "outputs": [],
   "source": []
  },
  {
   "cell_type": "code",
   "execution_count": null,
   "id": "ee487c2d",
   "metadata": {},
   "outputs": [],
   "source": []
  },
  {
   "cell_type": "code",
   "execution_count": null,
   "id": "bda7fe92",
   "metadata": {},
   "outputs": [],
   "source": []
  },
  {
   "cell_type": "code",
   "execution_count": null,
   "id": "b00aa302",
   "metadata": {},
   "outputs": [],
   "source": []
  },
  {
   "cell_type": "code",
   "execution_count": null,
   "id": "864ff59b",
   "metadata": {},
   "outputs": [],
   "source": []
  },
  {
   "cell_type": "code",
   "execution_count": null,
   "id": "490e680b",
   "metadata": {},
   "outputs": [],
   "source": []
  },
  {
   "cell_type": "code",
   "execution_count": null,
   "id": "e767b46b",
   "metadata": {},
   "outputs": [],
   "source": []
  },
  {
   "cell_type": "code",
   "execution_count": null,
   "id": "9f684de6",
   "metadata": {},
   "outputs": [],
   "source": []
  },
  {
   "cell_type": "code",
   "execution_count": null,
   "id": "8dc0116e",
   "metadata": {},
   "outputs": [],
   "source": []
  },
  {
   "cell_type": "code",
   "execution_count": null,
   "id": "b1f31317",
   "metadata": {},
   "outputs": [],
   "source": []
  },
  {
   "cell_type": "code",
   "execution_count": null,
   "id": "f23c091d",
   "metadata": {},
   "outputs": [],
   "source": []
  },
  {
   "cell_type": "code",
   "execution_count": null,
   "id": "c1e97f43",
   "metadata": {},
   "outputs": [],
   "source": []
  },
  {
   "cell_type": "code",
   "execution_count": null,
   "id": "5a2fa9a5",
   "metadata": {},
   "outputs": [],
   "source": []
  },
  {
   "cell_type": "code",
   "execution_count": null,
   "id": "b54c286b",
   "metadata": {},
   "outputs": [],
   "source": []
  },
  {
   "cell_type": "code",
   "execution_count": null,
   "id": "f6313772",
   "metadata": {},
   "outputs": [],
   "source": []
  },
  {
   "cell_type": "code",
   "execution_count": null,
   "id": "39ec88b8",
   "metadata": {},
   "outputs": [],
   "source": []
  },
  {
   "cell_type": "code",
   "execution_count": null,
   "id": "5422c89e",
   "metadata": {},
   "outputs": [],
   "source": []
  },
  {
   "cell_type": "code",
   "execution_count": null,
   "id": "137fdd4e",
   "metadata": {},
   "outputs": [],
   "source": []
  },
  {
   "cell_type": "code",
   "execution_count": null,
   "id": "ebf0936a",
   "metadata": {},
   "outputs": [],
   "source": []
  },
  {
   "cell_type": "code",
   "execution_count": null,
   "id": "029c15f0",
   "metadata": {},
   "outputs": [],
   "source": []
  },
  {
   "cell_type": "markdown",
   "id": "53a7982e",
   "metadata": {},
   "source": [
    "# References\n",
    "\n",
    "[1] Introduction to Churn : https://www.kdnuggets.com/2019/05/churn-prediction-machine-learning.html\n",
    "\n",
    "[2] Customer Churn and categorical plots: https://neptune.ai/blog/how-to-implement-customer-churn-prediction\n",
    "\n",
    "[3] Churning : https://www.sciencedirect.com/science/article/pii/S2666603023000143\n",
    "\n",
    "[4] Churn Rate : https://www.analyticsvidhya.com/blog/2022/09/bank-customer-churn-prediction-using-machine-learning/\n",
    "\n",
    "[5] Dataset description : https://www.kaggle.com/datasets/blastchar/telco-customer-churn\n",
    "\n",
    "[6] Dataset overview : https://community.ibm.com/community/user/businessanalytics/blogs/steven-macko/2019/07/11/telco-customer-churn-1113\n",
    "\n",
    "[7] Encoding Categorical features : https://scikit-learn.org/stable/modules/generated/sklearn.preprocessing.LabelEncoder.html#sklearn.preprocessing.LabelEncoder\n",
    "\n",
    "[8] Precision as an Evaluation metric : https://scikit-learn.org/stable/modules/generated/sklearn.metrics.precision_score.html#sklearn.metrics.precision_score\n",
    "\n",
    "[9] Recall Score : https://scikit-learn.org/stable/modules/generated/sklearn.metrics.recall_score.html#sklearn.metrics.recall_score\n",
    "\n",
    "[10] F1 Score : https://scikit-learn.org/stable/modules/generated/sklearn.metrics.f1_score.html#sklearn.metrics.f1_score"
   ]
  },
  {
   "cell_type": "code",
   "execution_count": null,
   "id": "a6b503e8",
   "metadata": {},
   "outputs": [],
   "source": []
  }
 ],
 "metadata": {
  "kernelspec": {
   "display_name": "Python 3 (ipykernel)",
   "language": "python",
   "name": "python3"
  },
  "language_info": {
   "codemirror_mode": {
    "name": "ipython",
    "version": 3
   },
   "file_extension": ".py",
   "mimetype": "text/x-python",
   "name": "python",
   "nbconvert_exporter": "python",
   "pygments_lexer": "ipython3",
   "version": "3.9.12"
  }
 },
 "nbformat": 4,
 "nbformat_minor": 5
}
