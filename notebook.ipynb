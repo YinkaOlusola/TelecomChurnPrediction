{
 "cells": [
  {
   "cell_type": "markdown",
   "id": "da51c107",
   "metadata": {},
   "source": [
    "# **CUSTOMER CHURN PREDICTION**"
   ]
  },
  {
   "cell_type": "markdown",
   "id": "6ab1dbe7",
   "metadata": {},
   "source": [
    "## **INTRODUCTION**"
   ]
  },
  {
   "cell_type": "markdown",
   "id": "0dcbd61e",
   "metadata": {},
   "source": [
    "## **Background**\n",
    "\n",
    "In the dynamic landscape of business, customer churn, or the departure of customers from a product or service, is a critical metric that significantly impacts the success or failure of a company.\n",
    "\n",
    "The telecommunications industry, serving as a cornerstone for connectivity services, faces the challenge of predicting and minimizing customer churn. The churn rate, measured over a specific time frame, reflects the percentage of customers discontinuing services, highlighting the need for effective customer retention strategies.\n",
    "\n",
    "Customer churn is particularly pertinent in industries with multiple options for consumers, where dissatisfaction or difficulties can prompt users to explore alternatives. For businesses, the cost of acquiring new customers surpasses that of retaining existing ones. Successful customer retention not only increases the average lifetime value but also enhances the sustainability and growth potential of a company. In this context, customer churn prediction emerges as a crucial task, allowing organizations to proactively address potential issues, implement tailored retention strategies, and maximize the value of recurring subscriptions.\n",
    "\n",
    "This task focuses on leveraging machine learning techniques to analyze the Telco customer churn dataset, emphasizing the importance of predicting and mitigating customer churn for sustained business success [1], [2], [3] [4]."
   ]
  },
  {
   "cell_type": "markdown",
   "id": "56d9f944",
   "metadata": {},
   "source": [
    "## **Dataset Overview**\n",
    "\n",
    "The Telco customer churn dataset provides insights into the interactions of a fictional telecommunications company with 7043 customers in California. Each entry in the dataset encompasses diverse demographic information, including customer tenure, contract details, internet service specifics, and additional features. Of particular interest are the target variables - the Satisfaction Score, Churn Score, and Customer Lifetime Value (CLTV) index, which collectively contribute to understanding customer loyalty and engagement.\n",
    "\n",
    "The following are the columns of the dataset:\n",
    "\n",
    "  - `CustomerID`: A unique ID that identifies each customer.\n",
    "  - `Gender`: The customer’s gender: Male, Female\n",
    "  - `SeniorCitizen`: Indicates if the customer is 65 or older: 1 (Yes), 0 (No).\n",
    "  - `Partner`: Indicates if the customer is married: Yes, No\n",
    "  - `Dependents`: Indicates if the customer lives with any dependents: Yes, No. Dependents could be children, parents, grandparents, etc.\n",
    "  - `Tenure`: Indicates the total amount of months that the customer has been with the company.\n",
    "  - `PhoneService`: Indicates if the customer subscribes to home phone service with the company: Yes, No\n",
    "  - `MultipleLines`: Indicates if the customer subscribes to multiple telephone lines with the company: Yes, No\n",
    "  - `InternetService`: Indicates if the customer subscribes to Internet service with the company: No, DSL, Fiber Optic, Cable.\n",
    "  - `OnlineSecurity`: Indicates if the customer subscribes to an additional online security service provided by the company: Yes, No\n",
    "  - `OnlineBackup`: Indicates if the customer subscribes to an additional online backup service provided by the company: Yes, No\n",
    "  - `DeviceProtection`: Indicates if the customer subscribes to an additional device protection plan for their Internet equipment provided by the company: Yes, No\n",
    "  - `TechSupport`: Indicates if the customer subscribes to an additional technical support plan from the company with reduced wait times: Yes, No\n",
    "  - `StreamingTV`: Indicates if the customer uses their Internet service to stream television programme from a third party provider: Yes, No. The company does not charge an additional fee for this service.\n",
    "  - `StreamingMovies`: Indicates if the customer uses their Internet service to stream movies from a third party provider: Yes, No. The company does not charge an additional fee for this service.\n",
    "  - `Contract`: Indicates the customer’s current contract type: Month-to-Month, One Year, Two Year.\n",
    "  - `PaperlessBilling`: Indicates if the customer has chosen paperless billing: Yes, No\n",
    "  - `PaymentMethod`: Indicates how the customer pays their bill: Bank Withdrawal, Credit Card, Mailed Check\n",
    "  - `MonthlyCharge`: Indicates the customer’s current total monthly charge for all their services from the company.\n",
    "  - `TotalCharges`: Indicates the customer’s total charges, calculated to the end of the quarter specified above.\n",
    "  - `Churn`: Yes = the customer left the company this quarter. No = the customer remained with the company. Directly related to Churn Value. [6]."
   ]
  },
  {
   "cell_type": "markdown",
   "id": "5dc77d5f",
   "metadata": {},
   "source": [
    "## **Problem Statement**\n",
    "The Telco Churn Prediction task aims to address the challenge of developing an effective predictive model to anticipate and manage customer attrition within the telecommunications industry."
   ]
  },
  {
   "cell_type": "markdown",
   "id": "431d605a",
   "metadata": {},
   "source": [
    "## **Objective**\n",
    "Develop a predictive model to identify customers at risk of churning based on historical data and relevant features.\n",
    "\n",
    "The developed model should provide telecom companies with a proactive tool to identify customers at risk of churning, enabling them to implement targeted retention strategies and enhance overall customer satisfaction. The ultimate goal is to reduce customer churn, thereby contributing to increased customer lifetime value and the overall success of the telecommunications business."
   ]
  },
  {
   "cell_type": "markdown",
   "id": "10a752de",
   "metadata": {},
   "source": [
    "## **Algorithm Selection**\n",
    "\n",
    "The Telco Churn Prediction task involves classifying customers into two categories: those likely to churn and those likely to stay.\n",
    "\n",
    "This task is framed as a binary classification problem, where the algorithm must learn patterns and relationships within the dataset to predict whether a customer is part of the \"Churn\" class or the \"No Churn\" class.\n",
    "\n",
    "Logistic Regression is a suitable choice for this task due to its interpretability. The telecom industry often requires explanations for business decisions, and Logistic Regression provides coefficients for each feature, making it easier to understand the impact of predictors on the likelihood of churn."
   ]
  },
  {
   "cell_type": "markdown",
   "id": "3f261807",
   "metadata": {},
   "source": [
    "## **DATA CLEANING AND WRANGLING**"
   ]
  },
  {
   "cell_type": "markdown",
   "id": "b1d7cc81",
   "metadata": {},
   "source": [
    "### **Importing Libraries**"
   ]
  },
  {
   "cell_type": "code",
   "execution_count": 2,
   "id": "bb981bea",
   "metadata": {},
   "outputs": [],
   "source": [
    "# Data manipulation and analysis\n",
    "import pandas as pd\n",
    "import numpy as np\n",
    "\n",
    "# Data visualization\n",
    "import matplotlib.pyplot as plt\n",
    "import seaborn as sns\n",
    "\n",
    "# Data preprocessing\n",
    "from sklearn.preprocessing import StandardScaler\n",
    "from sklearn.preprocessing import OneHotEncoder, LabelEncoder\n",
    "\n",
    "# Model Selection and Machine Learning\n",
    "from sklearn.model_selection import train_test_split\n",
    "from sklearn.linear_model import LogisticRegression\n",
    "from sklearn.ensemble import RandomForestClassifier\n",
    "\n",
    "# ******************************* Review *******************************\n",
    "#from xgboost import XGBClassifier\n",
    "#from lightgbm import LGBMClassifier\n",
    "\n",
    "# Evaluation metrics\n",
    "from sklearn.metrics import accuracy_score,confusion_matrix\n",
    "from sklearn.metrics import classification_report, roc_auc_score\n",
    "\n",
    "# Hyperparameter tuning\n",
    "from sklearn.model_selection import GridSearchCV, RandomizedSearchCV\n",
    "\n",
    "# To see all plots generated by matplotlib in the notebook,\n",
    "# the below line is added\n",
    "%matplotlib inline"
   ]
  },
  {
   "cell_type": "markdown",
   "id": "98b21f9a",
   "metadata": {},
   "source": [
    "### **Data ingestion**\n",
    "\n",
    "In the following code cells, the datasets will be loaded and merged using the `pandas`"
   ]
  },
  {
   "cell_type": "code",
   "execution_count": 4,
   "id": "24268eff",
   "metadata": {},
   "outputs": [],
   "source": [
    "# Reading the telco dataset\n",
    "telco_data = pd.read_csv('data/Telco-Customer-Churn.csv')"
   ]
  },
  {
   "cell_type": "code",
   "execution_count": null,
   "id": "64508d37",
   "metadata": {},
   "outputs": [],
   "source": []
  }
 ],
 "metadata": {
  "kernelspec": {
   "display_name": "Python 3 (ipykernel)",
   "language": "python",
   "name": "python3"
  },
  "language_info": {
   "codemirror_mode": {
    "name": "ipython",
    "version": 3
   },
   "file_extension": ".py",
   "mimetype": "text/x-python",
   "name": "python",
   "nbconvert_exporter": "python",
   "pygments_lexer": "ipython3",
   "version": "3.11.4"
  }
 },
 "nbformat": 4,
 "nbformat_minor": 5
}
