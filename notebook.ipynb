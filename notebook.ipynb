{
 "cells": [
  {
   "cell_type": "markdown",
   "id": "d2a3134b",
   "metadata": {},
   "source": [
    "# **CUSTOMER CHURN PREDICTION**"
   ]
  },
  {
   "cell_type": "markdown",
   "id": "72384979",
   "metadata": {},
   "source": [
    "## **INTRODUCTION**"
   ]
  },
  {
   "cell_type": "markdown",
   "id": "9f3bd29c",
   "metadata": {},
   "source": [
    "## **Background**\n",
    "\n",
    "In the dynamic landscape of business, customer churn, or the departure of customers from a product or service, is a critical metric that significantly impacts the success or failure of a company.\n",
    "\n",
    "The telecommunications industry, serving as a cornerstone for connectivity services, faces the challenge of predicting and minimizing customer churn. The churn rate, measured over a specific time frame, reflects the percentage of customers discontinuing services, highlighting the need for effective customer retention strategies.\n",
    "\n",
    "Customer churn is particularly pertinent in industries with multiple options for consumers, where dissatisfaction or difficulties can prompt users to explore alternatives. For businesses, the cost of acquiring new customers surpasses that of retaining existing ones. Successful customer retention not only increases the average lifetime value but also enhances the sustainability and growth potential of a company. In this context, customer churn prediction emerges as a crucial task, allowing organizations to proactively address potential issues, implement tailored retention strategies, and maximize the value of recurring subscriptions.\n",
    "\n",
    "This task focuses on leveraging machine learning techniques to analyze the Telco customer churn dataset, emphasizing the importance of predicting and mitigating customer churn for sustained business success [1], [2], [3] [4]."
   ]
  },
  {
   "cell_type": "markdown",
   "id": "dd49b7c8",
   "metadata": {},
   "source": [
    "## **Dataset Overview**\n",
    "\n",
    "The Telco customer churn dataset provides insights into the interactions of a fictional telecommunications company with 7043 customers in California. Each entry in the dataset encompasses diverse demographic information, including customer tenure, contract details, internet service specifics, and additional features. Of particular interest are the target variables - the Satisfaction Score, Churn Score, and Customer Lifetime Value (CLTV) index, which collectively contribute to understanding customer loyalty and engagement.\n",
    "\n",
    "The following are the columns of the dataset:\n",
    "\n",
    "  - `CustomerID`: A unique ID that identifies each customer.\n",
    "  - `Gender`: The customer’s gender: Male, Female\n",
    "  - `SeniorCitizen`: Indicates if the customer is 65 or older: 1 (Yes), 0 (No).\n",
    "  - `Partner`: Indicates if the customer is married: Yes, No\n",
    "  - `Dependents`: Indicates if the customer lives with any dependents: Yes, No. Dependents could be children, parents, grandparents, etc.\n",
    "  - `Tenure`: Indicates the total amount of months that the customer has been with the company.\n",
    "  - `PhoneService`: Indicates if the customer subscribes to home phone service with the company: Yes, No\n",
    "  - `MultipleLines`: Indicates if the customer subscribes to multiple telephone lines with the company: Yes, No\n",
    "  - `InternetService`: Indicates if the customer subscribes to Internet service with the company: No, DSL, Fiber Optic, Cable.\n",
    "  - `OnlineSecurity`: Indicates if the customer subscribes to an additional online security service provided by the company: Yes, No\n",
    "  - `OnlineBackup`: Indicates if the customer subscribes to an additional online backup service provided by the company: Yes, No\n",
    "  - `DeviceProtection`: Indicates if the customer subscribes to an additional device protection plan for their Internet equipment provided by the company: Yes, No\n",
    "  - `TechSupport`: Indicates if the customer subscribes to an additional technical support plan from the company with reduced wait times: Yes, No\n",
    "  - `StreamingTV`: Indicates if the customer uses their Internet service to stream television programme from a third party provider: Yes, No. The company does not charge an additional fee for this service.\n",
    "  - `StreamingMovies`: Indicates if the customer uses their Internet service to stream movies from a third party provider: Yes, No. The company does not charge an additional fee for this service.\n",
    "  - `Contract`: Indicates the customer’s current contract type: Month-to-Month, One Year, Two Year.\n",
    "  - `PaperlessBilling`: Indicates if the customer has chosen paperless billing: Yes, No\n",
    "  - `PaymentMethod`: Indicates how the customer pays their bill: Bank Withdrawal, Credit Card, Mailed Check\n",
    "  - `MonthlyCharge`: Indicates the customer’s current total monthly charge for all their services from the company.\n",
    "  - `TotalCharges`: Indicates the customer’s total charges, calculated to the end of the quarter specified above.\n",
    "  - `Churn`: Yes = the customer left the company this quarter. No = the customer remained with the company. Directly related to Churn Value. [6]."
   ]
  },
  {
   "cell_type": "markdown",
   "id": "b87af8ee",
   "metadata": {},
   "source": [
    "## **DATA CLEANING AND WRANGLING**"
   ]
  },
  {
   "cell_type": "markdown",
   "id": "39498dba",
   "metadata": {},
   "source": [
    "### **Importing Libraries**"
   ]
  },
  {
   "cell_type": "code",
   "execution_count": 1,
   "id": "89c7ad13",
   "metadata": {},
   "outputs": [],
   "source": [
    "# Data manipulation and analysis\n",
    "import pandas as pd\n",
    "import numpy as np\n",
    "\n",
    "# Visualizations\n",
    "import matplotlib.pyplot as plt\n",
    "import seaborn as sns\n",
    "\n",
    "# Preprocessing\n",
    "from sklearn.preprocessing import StandardScaler\n",
    "from sklearn.preprocessing import OneHotEncoder, LabelEncoder\n",
    "from imblearn.over_sampling import SMOTE\n",
    "\n",
    "# Model Selection and training\n",
    "from sklearn.model_selection import train_test_split\n",
    "from sklearn.linear_model import LogisticRegression\n",
    "from sklearn.ensemble import RandomForestClassifier\n",
    "from sklearn.naive_bayes import GaussianNB\n",
    "\n",
    "# Performance metrics\n",
    "from sklearn.metrics import precision_score, recall_score, accuracy_score\n",
    "from sklearn.metrics import make_scorer, f1_score, balanced_accuracy_score\n",
    "\n",
    "# Model tuning\n",
    "from sklearn.model_selection import GridSearchCV, StratifiedKFold\n",
    "\n",
    "# To see all plots generated by matplotlib in the notebook,\n",
    "# the below line is added\n",
    "%matplotlib inline"
   ]
  },
  {
   "cell_type": "markdown",
   "id": "4f0ef2c2",
   "metadata": {},
   "source": [
    "### **Data ingestion**\n",
    "\n",
    "In the following code cells, the datasets will be loaded and merged using the `pandas`"
   ]
  },
  {
   "cell_type": "code",
   "execution_count": 2,
   "id": "16f9a4cd",
   "metadata": {},
   "outputs": [],
   "source": [
    "# Reading the telco dataset\n",
    "customer_data = pd.read_csv('data/Telco-Customer-Churn.csv')"
   ]
  },
  {
   "cell_type": "markdown",
   "id": "5dba2db5",
   "metadata": {},
   "source": [
    "### **Data Overview**\n",
    "\n",
    "\n",
    "Upon importing datasets using the Pandas library in Python, it becomes imperative to initiate a preliminary exploration of the data. Given that the datasets are structured in a tabular format, a valuable method for gaining rapid insights is the utilization of the head() function from Pandas.\n",
    "\n",
    "By employing the head() function, one can efficiently view the first few rows of the dataset, offering a concise snapshot that aids in swiftly grasping the data's structure and contents.\n",
    "\n",
    "This preliminary examination serves as a fundamental step in the exploratory data analysis (EDA) process. It empowers researchers to develop well-informed strategies for subsequent data processing and analysis, laying the groundwork for a comprehensive understanding of the dataset's characteristics."
   ]
  },
  {
   "cell_type": "code",
   "execution_count": 3,
   "id": "fdbde776",
   "metadata": {},
   "outputs": [
    {
     "data": {
      "text/html": [
       "<div>\n",
       "<style scoped>\n",
       "    .dataframe tbody tr th:only-of-type {\n",
       "        vertical-align: middle;\n",
       "    }\n",
       "\n",
       "    .dataframe tbody tr th {\n",
       "        vertical-align: top;\n",
       "    }\n",
       "\n",
       "    .dataframe thead th {\n",
       "        text-align: right;\n",
       "    }\n",
       "</style>\n",
       "<table border=\"1\" class=\"dataframe\">\n",
       "  <thead>\n",
       "    <tr style=\"text-align: right;\">\n",
       "      <th></th>\n",
       "      <th>customerID</th>\n",
       "      <th>gender</th>\n",
       "      <th>SeniorCitizen</th>\n",
       "      <th>Partner</th>\n",
       "      <th>Dependents</th>\n",
       "      <th>tenure</th>\n",
       "      <th>PhoneService</th>\n",
       "      <th>MultipleLines</th>\n",
       "      <th>InternetService</th>\n",
       "      <th>OnlineSecurity</th>\n",
       "      <th>...</th>\n",
       "      <th>DeviceProtection</th>\n",
       "      <th>TechSupport</th>\n",
       "      <th>StreamingTV</th>\n",
       "      <th>StreamingMovies</th>\n",
       "      <th>Contract</th>\n",
       "      <th>PaperlessBilling</th>\n",
       "      <th>PaymentMethod</th>\n",
       "      <th>MonthlyCharges</th>\n",
       "      <th>TotalCharges</th>\n",
       "      <th>Churn</th>\n",
       "    </tr>\n",
       "  </thead>\n",
       "  <tbody>\n",
       "    <tr>\n",
       "      <th>0</th>\n",
       "      <td>7590-VHVEG</td>\n",
       "      <td>Female</td>\n",
       "      <td>0</td>\n",
       "      <td>Yes</td>\n",
       "      <td>No</td>\n",
       "      <td>1</td>\n",
       "      <td>No</td>\n",
       "      <td>No phone service</td>\n",
       "      <td>DSL</td>\n",
       "      <td>No</td>\n",
       "      <td>...</td>\n",
       "      <td>No</td>\n",
       "      <td>No</td>\n",
       "      <td>No</td>\n",
       "      <td>No</td>\n",
       "      <td>Month-to-month</td>\n",
       "      <td>Yes</td>\n",
       "      <td>Electronic check</td>\n",
       "      <td>29.85</td>\n",
       "      <td>29.85</td>\n",
       "      <td>No</td>\n",
       "    </tr>\n",
       "    <tr>\n",
       "      <th>1</th>\n",
       "      <td>5575-GNVDE</td>\n",
       "      <td>Male</td>\n",
       "      <td>0</td>\n",
       "      <td>No</td>\n",
       "      <td>No</td>\n",
       "      <td>34</td>\n",
       "      <td>Yes</td>\n",
       "      <td>No</td>\n",
       "      <td>DSL</td>\n",
       "      <td>Yes</td>\n",
       "      <td>...</td>\n",
       "      <td>Yes</td>\n",
       "      <td>No</td>\n",
       "      <td>No</td>\n",
       "      <td>No</td>\n",
       "      <td>One year</td>\n",
       "      <td>No</td>\n",
       "      <td>Mailed check</td>\n",
       "      <td>56.95</td>\n",
       "      <td>1889.5</td>\n",
       "      <td>No</td>\n",
       "    </tr>\n",
       "    <tr>\n",
       "      <th>2</th>\n",
       "      <td>3668-QPYBK</td>\n",
       "      <td>Male</td>\n",
       "      <td>0</td>\n",
       "      <td>No</td>\n",
       "      <td>No</td>\n",
       "      <td>2</td>\n",
       "      <td>Yes</td>\n",
       "      <td>No</td>\n",
       "      <td>DSL</td>\n",
       "      <td>Yes</td>\n",
       "      <td>...</td>\n",
       "      <td>No</td>\n",
       "      <td>No</td>\n",
       "      <td>No</td>\n",
       "      <td>No</td>\n",
       "      <td>Month-to-month</td>\n",
       "      <td>Yes</td>\n",
       "      <td>Mailed check</td>\n",
       "      <td>53.85</td>\n",
       "      <td>108.15</td>\n",
       "      <td>Yes</td>\n",
       "    </tr>\n",
       "    <tr>\n",
       "      <th>3</th>\n",
       "      <td>7795-CFOCW</td>\n",
       "      <td>Male</td>\n",
       "      <td>0</td>\n",
       "      <td>No</td>\n",
       "      <td>No</td>\n",
       "      <td>45</td>\n",
       "      <td>No</td>\n",
       "      <td>No phone service</td>\n",
       "      <td>DSL</td>\n",
       "      <td>Yes</td>\n",
       "      <td>...</td>\n",
       "      <td>Yes</td>\n",
       "      <td>Yes</td>\n",
       "      <td>No</td>\n",
       "      <td>No</td>\n",
       "      <td>One year</td>\n",
       "      <td>No</td>\n",
       "      <td>Bank transfer (automatic)</td>\n",
       "      <td>42.30</td>\n",
       "      <td>1840.75</td>\n",
       "      <td>No</td>\n",
       "    </tr>\n",
       "    <tr>\n",
       "      <th>4</th>\n",
       "      <td>9237-HQITU</td>\n",
       "      <td>Female</td>\n",
       "      <td>0</td>\n",
       "      <td>No</td>\n",
       "      <td>No</td>\n",
       "      <td>2</td>\n",
       "      <td>Yes</td>\n",
       "      <td>No</td>\n",
       "      <td>Fiber optic</td>\n",
       "      <td>No</td>\n",
       "      <td>...</td>\n",
       "      <td>No</td>\n",
       "      <td>No</td>\n",
       "      <td>No</td>\n",
       "      <td>No</td>\n",
       "      <td>Month-to-month</td>\n",
       "      <td>Yes</td>\n",
       "      <td>Electronic check</td>\n",
       "      <td>70.70</td>\n",
       "      <td>151.65</td>\n",
       "      <td>Yes</td>\n",
       "    </tr>\n",
       "  </tbody>\n",
       "</table>\n",
       "<p>5 rows × 21 columns</p>\n",
       "</div>"
      ],
      "text/plain": [
       "   customerID  gender  SeniorCitizen Partner Dependents  tenure PhoneService  \\\n",
       "0  7590-VHVEG  Female              0     Yes         No       1           No   \n",
       "1  5575-GNVDE    Male              0      No         No      34          Yes   \n",
       "2  3668-QPYBK    Male              0      No         No       2          Yes   \n",
       "3  7795-CFOCW    Male              0      No         No      45           No   \n",
       "4  9237-HQITU  Female              0      No         No       2          Yes   \n",
       "\n",
       "      MultipleLines InternetService OnlineSecurity  ... DeviceProtection  \\\n",
       "0  No phone service             DSL             No  ...               No   \n",
       "1                No             DSL            Yes  ...              Yes   \n",
       "2                No             DSL            Yes  ...               No   \n",
       "3  No phone service             DSL            Yes  ...              Yes   \n",
       "4                No     Fiber optic             No  ...               No   \n",
       "\n",
       "  TechSupport StreamingTV StreamingMovies        Contract PaperlessBilling  \\\n",
       "0          No          No              No  Month-to-month              Yes   \n",
       "1          No          No              No        One year               No   \n",
       "2          No          No              No  Month-to-month              Yes   \n",
       "3         Yes          No              No        One year               No   \n",
       "4          No          No              No  Month-to-month              Yes   \n",
       "\n",
       "               PaymentMethod MonthlyCharges  TotalCharges Churn  \n",
       "0           Electronic check          29.85         29.85    No  \n",
       "1               Mailed check          56.95        1889.5    No  \n",
       "2               Mailed check          53.85        108.15   Yes  \n",
       "3  Bank transfer (automatic)          42.30       1840.75    No  \n",
       "4           Electronic check          70.70        151.65   Yes  \n",
       "\n",
       "[5 rows x 21 columns]"
      ]
     },
     "execution_count": 3,
     "metadata": {},
     "output_type": "execute_result"
    }
   ],
   "source": [
    "# viewing the first five observations of the dataset\n",
    "customer_data.head()"
   ]
  },
  {
   "cell_type": "markdown",
   "id": "1b41b3a0",
   "metadata": {},
   "source": [
    "The dataframe above shows the first five observations of the dataset an as it can be seen, there are twenty columns in the dataframe which agrees with the number of columns described in the dataset."
   ]
  },
  {
   "cell_type": "markdown",
   "id": "a08b949c",
   "metadata": {},
   "source": [
    "### **Data Description**\n",
    "\n",
    "Different properties of the dataset will be explored"
   ]
  },
  {
   "cell_type": "markdown",
   "id": "867b0957",
   "metadata": {},
   "source": [
    "#### **Data Shape**\n",
    "\n",
    "This gives the number of observations as well as the number of features in the dataset"
   ]
  },
  {
   "cell_type": "code",
   "execution_count": 4,
   "id": "1553d713",
   "metadata": {},
   "outputs": [
    {
     "name": "stdout",
     "output_type": "stream",
     "text": [
      "Number of Observations: 7043      \n",
      "Number of Features: 21\n"
     ]
    }
   ],
   "source": [
    "# Obtaining the shape of the dataframe\n",
    "\n",
    "print(f'Number of Observations: {customer_data.shape[0]}\\\n",
    "      \\nNumber of Features: {customer_data.shape[1]}')"
   ]
  },
  {
   "cell_type": "markdown",
   "id": "02c80fb6",
   "metadata": {},
   "source": [
    "#### **Data Info**"
   ]
  },
  {
   "cell_type": "code",
   "execution_count": 5,
   "id": "7db702aa",
   "metadata": {},
   "outputs": [
    {
     "name": "stdout",
     "output_type": "stream",
     "text": [
      "<class 'pandas.core.frame.DataFrame'>\n",
      "RangeIndex: 7043 entries, 0 to 7042\n",
      "Data columns (total 21 columns):\n",
      " #   Column            Non-Null Count  Dtype  \n",
      "---  ------            --------------  -----  \n",
      " 0   customerID        7043 non-null   object \n",
      " 1   gender            7043 non-null   object \n",
      " 2   SeniorCitizen     7043 non-null   int64  \n",
      " 3   Partner           7043 non-null   object \n",
      " 4   Dependents        7043 non-null   object \n",
      " 5   tenure            7043 non-null   int64  \n",
      " 6   PhoneService      7043 non-null   object \n",
      " 7   MultipleLines     7043 non-null   object \n",
      " 8   InternetService   7043 non-null   object \n",
      " 9   OnlineSecurity    7043 non-null   object \n",
      " 10  OnlineBackup      7043 non-null   object \n",
      " 11  DeviceProtection  7043 non-null   object \n",
      " 12  TechSupport       7043 non-null   object \n",
      " 13  StreamingTV       7043 non-null   object \n",
      " 14  StreamingMovies   7043 non-null   object \n",
      " 15  Contract          7043 non-null   object \n",
      " 16  PaperlessBilling  7043 non-null   object \n",
      " 17  PaymentMethod     7043 non-null   object \n",
      " 18  MonthlyCharges    7043 non-null   float64\n",
      " 19  TotalCharges      7043 non-null   object \n",
      " 20  Churn             7043 non-null   object \n",
      "dtypes: float64(1), int64(2), object(18)\n",
      "memory usage: 1.1+ MB\n"
     ]
    }
   ],
   "source": [
    "# Checking information about the data\n",
    "customer_data.info()"
   ]
  },
  {
   "cell_type": "markdown",
   "id": "1ec7d898",
   "metadata": {},
   "source": [
    "### **Features and Data Types**\n",
    "\n",
    "A list of all the features with their respective datatypes is obtained."
   ]
  },
  {
   "cell_type": "code",
   "execution_count": 6,
   "id": "e1f51e7c",
   "metadata": {},
   "outputs": [
    {
     "data": {
      "text/html": [
       "<div>\n",
       "<style scoped>\n",
       "    .dataframe tbody tr th:only-of-type {\n",
       "        vertical-align: middle;\n",
       "    }\n",
       "\n",
       "    .dataframe tbody tr th {\n",
       "        vertical-align: top;\n",
       "    }\n",
       "\n",
       "    .dataframe thead th {\n",
       "        text-align: right;\n",
       "    }\n",
       "</style>\n",
       "<table border=\"1\" class=\"dataframe\">\n",
       "  <thead>\n",
       "    <tr style=\"text-align: right;\">\n",
       "      <th></th>\n",
       "      <th>Variables</th>\n",
       "      <th>Data_Types</th>\n",
       "    </tr>\n",
       "  </thead>\n",
       "  <tbody>\n",
       "    <tr>\n",
       "      <th>0</th>\n",
       "      <td>customerID</td>\n",
       "      <td>object</td>\n",
       "    </tr>\n",
       "    <tr>\n",
       "      <th>1</th>\n",
       "      <td>gender</td>\n",
       "      <td>object</td>\n",
       "    </tr>\n",
       "    <tr>\n",
       "      <th>2</th>\n",
       "      <td>SeniorCitizen</td>\n",
       "      <td>int64</td>\n",
       "    </tr>\n",
       "    <tr>\n",
       "      <th>3</th>\n",
       "      <td>Partner</td>\n",
       "      <td>object</td>\n",
       "    </tr>\n",
       "    <tr>\n",
       "      <th>4</th>\n",
       "      <td>Dependents</td>\n",
       "      <td>object</td>\n",
       "    </tr>\n",
       "    <tr>\n",
       "      <th>5</th>\n",
       "      <td>tenure</td>\n",
       "      <td>int64</td>\n",
       "    </tr>\n",
       "    <tr>\n",
       "      <th>6</th>\n",
       "      <td>PhoneService</td>\n",
       "      <td>object</td>\n",
       "    </tr>\n",
       "    <tr>\n",
       "      <th>7</th>\n",
       "      <td>MultipleLines</td>\n",
       "      <td>object</td>\n",
       "    </tr>\n",
       "    <tr>\n",
       "      <th>8</th>\n",
       "      <td>InternetService</td>\n",
       "      <td>object</td>\n",
       "    </tr>\n",
       "    <tr>\n",
       "      <th>9</th>\n",
       "      <td>OnlineSecurity</td>\n",
       "      <td>object</td>\n",
       "    </tr>\n",
       "    <tr>\n",
       "      <th>10</th>\n",
       "      <td>OnlineBackup</td>\n",
       "      <td>object</td>\n",
       "    </tr>\n",
       "    <tr>\n",
       "      <th>11</th>\n",
       "      <td>DeviceProtection</td>\n",
       "      <td>object</td>\n",
       "    </tr>\n",
       "    <tr>\n",
       "      <th>12</th>\n",
       "      <td>TechSupport</td>\n",
       "      <td>object</td>\n",
       "    </tr>\n",
       "    <tr>\n",
       "      <th>13</th>\n",
       "      <td>StreamingTV</td>\n",
       "      <td>object</td>\n",
       "    </tr>\n",
       "    <tr>\n",
       "      <th>14</th>\n",
       "      <td>StreamingMovies</td>\n",
       "      <td>object</td>\n",
       "    </tr>\n",
       "    <tr>\n",
       "      <th>15</th>\n",
       "      <td>Contract</td>\n",
       "      <td>object</td>\n",
       "    </tr>\n",
       "    <tr>\n",
       "      <th>16</th>\n",
       "      <td>PaperlessBilling</td>\n",
       "      <td>object</td>\n",
       "    </tr>\n",
       "    <tr>\n",
       "      <th>17</th>\n",
       "      <td>PaymentMethod</td>\n",
       "      <td>object</td>\n",
       "    </tr>\n",
       "    <tr>\n",
       "      <th>18</th>\n",
       "      <td>MonthlyCharges</td>\n",
       "      <td>float64</td>\n",
       "    </tr>\n",
       "    <tr>\n",
       "      <th>19</th>\n",
       "      <td>TotalCharges</td>\n",
       "      <td>object</td>\n",
       "    </tr>\n",
       "    <tr>\n",
       "      <th>20</th>\n",
       "      <td>Churn</td>\n",
       "      <td>object</td>\n",
       "    </tr>\n",
       "  </tbody>\n",
       "</table>\n",
       "</div>"
      ],
      "text/plain": [
       "           Variables Data_Types\n",
       "0         customerID     object\n",
       "1             gender     object\n",
       "2      SeniorCitizen      int64\n",
       "3            Partner     object\n",
       "4         Dependents     object\n",
       "5             tenure      int64\n",
       "6       PhoneService     object\n",
       "7      MultipleLines     object\n",
       "8    InternetService     object\n",
       "9     OnlineSecurity     object\n",
       "10      OnlineBackup     object\n",
       "11  DeviceProtection     object\n",
       "12       TechSupport     object\n",
       "13       StreamingTV     object\n",
       "14   StreamingMovies     object\n",
       "15          Contract     object\n",
       "16  PaperlessBilling     object\n",
       "17     PaymentMethod     object\n",
       "18    MonthlyCharges    float64\n",
       "19      TotalCharges     object\n",
       "20             Churn     object"
      ]
     },
     "metadata": {},
     "output_type": "display_data"
    }
   ],
   "source": [
    "# A list containing the feature names and will be used to\n",
    "# create the dataframe\n",
    "name_1 = []\n",
    "\n",
    "# Another list, containing the data types for each columns\n",
    "dtype_1 = []\n",
    "\n",
    "for i in range(len(customer_data.columns)):\n",
    "    name_1.append(customer_data.columns[i])\n",
    "    dtype_1.append(customer_data[customer_data.columns[i]].dtype.name)\n",
    "\n",
    "# Creating a dictionary for the variable names and data types\n",
    "var_dtype = {'Variables': name_1, 'Data_Types': dtype_1}\n",
    "\n",
    "# A dataframe of the variable names and data types\n",
    "variables_datatypes = pd.DataFrame(var_dtype)\n",
    "\n",
    "# Viewing the dataframe\n",
    "display(variables_datatypes)"
   ]
  },
  {
   "cell_type": "markdown",
   "id": "7120c023",
   "metadata": {},
   "source": [
    "Upon examining the dataset, it is evident that only the columns labeled `SeniorCitizen`, `tenure`, and `MonthlyCharges` possess numerical data, while the remaining columns are comprised of object data types. However, a more in-depth analysis reveals that the `TotalCharges` column should also be considered a numerical feature.\n",
    "\n",
    "Upon closer inspection, it is noted that there are 16 categorical features in the dataset. To facilitate model training, these categorical features will undergo conversion into numerical data types using appropriate representations.\n",
    "\n",
    "It is worth noting that the `SeniorCitizen` feature, despite being of integer data type, warrants further investigation into the nature of its values. This exploration will contribute valuable insights for subsequent analyses."
   ]
  },
  {
   "cell_type": "code",
   "execution_count": 7,
   "id": "f4b8dfd3",
   "metadata": {},
   "outputs": [
    {
     "data": {
      "text/plain": [
       "array([0, 1], dtype=int64)"
      ]
     },
     "execution_count": 7,
     "metadata": {},
     "output_type": "execute_result"
    }
   ],
   "source": [
    "# Checking the entries in the SeniorCitizen column\n",
    "customer_data['SeniorCitizen'].unique()"
   ]
  },
  {
   "cell_type": "markdown",
   "id": "2b2935fa",
   "metadata": {},
   "source": [
    "The result above shows that the `SeniorCitizen` column is a categorical feature with two classes of integer values."
   ]
  },
  {
   "cell_type": "markdown",
   "id": "4022f779",
   "metadata": {},
   "source": [
    "<br>\n",
    "\n",
    "### **Categorical Variables - Number of Unique Entries.**\n",
    "\n",
    "Variables labeled with object data types are distinctly characterized as categorical variables, a characterization further supported by consulting the dataset overview for descriptions.\n",
    "\n",
    "The confirmation of their categorical nature can be substantiated by investigating whether these variables display a limited set of unique values or categories. This analysis helps validate their categorical classification."
   ]
  },
  {
   "cell_type": "code",
   "execution_count": 8,
   "id": "bfeb6c61",
   "metadata": {},
   "outputs": [
    {
     "data": {
      "text/html": [
       "<div>\n",
       "<style scoped>\n",
       "    .dataframe tbody tr th:only-of-type {\n",
       "        vertical-align: middle;\n",
       "    }\n",
       "\n",
       "    .dataframe tbody tr th {\n",
       "        vertical-align: top;\n",
       "    }\n",
       "\n",
       "    .dataframe thead th {\n",
       "        text-align: right;\n",
       "    }\n",
       "</style>\n",
       "<table border=\"1\" class=\"dataframe\">\n",
       "  <thead>\n",
       "    <tr style=\"text-align: right;\">\n",
       "      <th></th>\n",
       "      <th>Variables</th>\n",
       "      <th>No_unique_entries</th>\n",
       "    </tr>\n",
       "  </thead>\n",
       "  <tbody>\n",
       "    <tr>\n",
       "      <th>0</th>\n",
       "      <td>customerID</td>\n",
       "      <td>7043</td>\n",
       "    </tr>\n",
       "    <tr>\n",
       "      <th>1</th>\n",
       "      <td>gender</td>\n",
       "      <td>2</td>\n",
       "    </tr>\n",
       "    <tr>\n",
       "      <th>2</th>\n",
       "      <td>Partner</td>\n",
       "      <td>2</td>\n",
       "    </tr>\n",
       "    <tr>\n",
       "      <th>3</th>\n",
       "      <td>Dependents</td>\n",
       "      <td>2</td>\n",
       "    </tr>\n",
       "    <tr>\n",
       "      <th>4</th>\n",
       "      <td>PhoneService</td>\n",
       "      <td>2</td>\n",
       "    </tr>\n",
       "    <tr>\n",
       "      <th>5</th>\n",
       "      <td>MultipleLines</td>\n",
       "      <td>3</td>\n",
       "    </tr>\n",
       "    <tr>\n",
       "      <th>6</th>\n",
       "      <td>InternetService</td>\n",
       "      <td>3</td>\n",
       "    </tr>\n",
       "    <tr>\n",
       "      <th>7</th>\n",
       "      <td>OnlineSecurity</td>\n",
       "      <td>3</td>\n",
       "    </tr>\n",
       "    <tr>\n",
       "      <th>8</th>\n",
       "      <td>OnlineBackup</td>\n",
       "      <td>3</td>\n",
       "    </tr>\n",
       "    <tr>\n",
       "      <th>9</th>\n",
       "      <td>DeviceProtection</td>\n",
       "      <td>3</td>\n",
       "    </tr>\n",
       "    <tr>\n",
       "      <th>10</th>\n",
       "      <td>TechSupport</td>\n",
       "      <td>3</td>\n",
       "    </tr>\n",
       "    <tr>\n",
       "      <th>11</th>\n",
       "      <td>StreamingTV</td>\n",
       "      <td>3</td>\n",
       "    </tr>\n",
       "    <tr>\n",
       "      <th>12</th>\n",
       "      <td>StreamingMovies</td>\n",
       "      <td>3</td>\n",
       "    </tr>\n",
       "    <tr>\n",
       "      <th>13</th>\n",
       "      <td>Contract</td>\n",
       "      <td>3</td>\n",
       "    </tr>\n",
       "    <tr>\n",
       "      <th>14</th>\n",
       "      <td>PaperlessBilling</td>\n",
       "      <td>2</td>\n",
       "    </tr>\n",
       "    <tr>\n",
       "      <th>15</th>\n",
       "      <td>PaymentMethod</td>\n",
       "      <td>4</td>\n",
       "    </tr>\n",
       "    <tr>\n",
       "      <th>16</th>\n",
       "      <td>TotalCharges</td>\n",
       "      <td>6531</td>\n",
       "    </tr>\n",
       "    <tr>\n",
       "      <th>17</th>\n",
       "      <td>Churn</td>\n",
       "      <td>2</td>\n",
       "    </tr>\n",
       "  </tbody>\n",
       "</table>\n",
       "</div>"
      ],
      "text/plain": [
       "           Variables  No_unique_entries\n",
       "0         customerID               7043\n",
       "1             gender                  2\n",
       "2            Partner                  2\n",
       "3         Dependents                  2\n",
       "4       PhoneService                  2\n",
       "5      MultipleLines                  3\n",
       "6    InternetService                  3\n",
       "7     OnlineSecurity                  3\n",
       "8       OnlineBackup                  3\n",
       "9   DeviceProtection                  3\n",
       "10       TechSupport                  3\n",
       "11       StreamingTV                  3\n",
       "12   StreamingMovies                  3\n",
       "13          Contract                  3\n",
       "14  PaperlessBilling                  2\n",
       "15     PaymentMethod                  4\n",
       "16      TotalCharges               6531\n",
       "17             Churn                  2"
      ]
     },
     "metadata": {},
     "output_type": "display_data"
    }
   ],
   "source": [
    "# Computing the number of unique entries in each column\n",
    "\n",
    "categories = []\n",
    "\n",
    "# A list containing the data types for each column\n",
    "nunique = []\n",
    "\n",
    "\n",
    "for i in range(len(customer_data.columns)):\n",
    "    if customer_data[customer_data.columns[i]].dtype.name == 'object':\n",
    "        categories.append(customer_data.columns[i])\n",
    "        nunique.append(customer_data[customer_data.columns[i]].nunique())\n",
    "\n",
    "# Creating a dictionary for the variable names and data types\n",
    "nunique_dict = {'Variables': categories,\n",
    "             'No_unique_entries': nunique}\n",
    "\n",
    "# A dataframe of the variable names and data types\n",
    "cat_var_nunique = pd.DataFrame(nunique_dict)\n",
    "\n",
    "# Viewing the dataframe\n",
    "display(cat_var_nunique)"
   ]
  },
  {
   "cell_type": "markdown",
   "id": "4790f7c8",
   "metadata": {},
   "source": [
    "<br>\n",
    "\n",
    "***Identification of Categorical Columns***\n",
    "\n",
    "Upon reviewing the dataset, it is evident that a majority of the columns contain categorical data. The nature of these columns suggests that they likely encompass information such as demographics, service types, or other categorical attributes related to the customers.\n",
    "\n",
    "<br>\n",
    "\n",
    "***Unique Entries in customerID Column***\n",
    "\n",
    "It is observed that the `customerID` column contains 7043 unique entries, aligning with the total number of observations in the dataset. As anticipated, this column serves as a unique identifier for each customer, ensuring individuality across the dataset.\n",
    "\n",
    "<br>\n",
    "\n",
    "***Data Type Anomaly in TotalCharges Column***\n",
    "\n",
    "Notably, the `TotalCharges` column is reported to have 6531 entries, indicating that there might be missing or improperly formatted data. Further investigation reveals that the entries in this column are in float format. This discrepancy suggests a potential conversion of this column to an object data type during the data storage process, potentially leading to inconsistencies in data representation.\n",
    "\n",
    "<br>\n",
    "\n",
    "***Data Type Correction for TotalCharges Column***\n",
    "\n",
    "In response to the identified anomaly, it is deemed necessary to rectify the data type of the `TotalCharges` column. Given that the entries are in float format, converting the column to the appropriate data type of float is essential to ensure the accuracy and compatibility of the data. This correction aligns the data representation with the nature of the values in the TotalCharges column, facilitating seamless analytical operations."
   ]
  },
  {
   "cell_type": "markdown",
   "id": "23254297",
   "metadata": {},
   "source": [
    "#### **Converting the `TotalCharges` column to float**"
   ]
  },
  {
   "cell_type": "code",
   "execution_count": 9,
   "id": "d1deac3a",
   "metadata": {},
   "outputs": [],
   "source": [
    "# converting TotalCharges column to float data type\n",
    "\n",
    "customer_data['TotalCharges(float)'] = pd.to_numeric(customer_data['TotalCharges'], errors='coerce')"
   ]
  },
  {
   "cell_type": "markdown",
   "id": "ce111020",
   "metadata": {},
   "source": [
    "In the process of transforming the `TotalCharges` column into a numerical data type, instances where conversion was not possible resulted in the assignment of NULL values.\n",
    "\n",
    "A thorough examination revealed that these NULL values originated from the presence of empty strings in the input data.\n",
    "\n",
    "Despite the absence of missing values in the column initially, the emergence of NULL values prompted a subsequent investigation to correlate them with their original entries, aiming to comprehend the nature of the data in those specific observations."
   ]
  },
  {
   "cell_type": "code",
   "execution_count": 10,
   "id": "d940a66f",
   "metadata": {},
   "outputs": [
    {
     "data": {
      "text/html": [
       "<div>\n",
       "<style scoped>\n",
       "    .dataframe tbody tr th:only-of-type {\n",
       "        vertical-align: middle;\n",
       "    }\n",
       "\n",
       "    .dataframe tbody tr th {\n",
       "        vertical-align: top;\n",
       "    }\n",
       "\n",
       "    .dataframe thead th {\n",
       "        text-align: right;\n",
       "    }\n",
       "</style>\n",
       "<table border=\"1\" class=\"dataframe\">\n",
       "  <thead>\n",
       "    <tr style=\"text-align: right;\">\n",
       "      <th></th>\n",
       "      <th>TotalCharges(float)</th>\n",
       "      <th>TotalCharges</th>\n",
       "    </tr>\n",
       "  </thead>\n",
       "  <tbody>\n",
       "    <tr>\n",
       "      <th>488</th>\n",
       "      <td>NaN</td>\n",
       "      <td></td>\n",
       "    </tr>\n",
       "    <tr>\n",
       "      <th>753</th>\n",
       "      <td>NaN</td>\n",
       "      <td></td>\n",
       "    </tr>\n",
       "    <tr>\n",
       "      <th>936</th>\n",
       "      <td>NaN</td>\n",
       "      <td></td>\n",
       "    </tr>\n",
       "    <tr>\n",
       "      <th>1082</th>\n",
       "      <td>NaN</td>\n",
       "      <td></td>\n",
       "    </tr>\n",
       "    <tr>\n",
       "      <th>1340</th>\n",
       "      <td>NaN</td>\n",
       "      <td></td>\n",
       "    </tr>\n",
       "    <tr>\n",
       "      <th>3331</th>\n",
       "      <td>NaN</td>\n",
       "      <td></td>\n",
       "    </tr>\n",
       "    <tr>\n",
       "      <th>3826</th>\n",
       "      <td>NaN</td>\n",
       "      <td></td>\n",
       "    </tr>\n",
       "    <tr>\n",
       "      <th>4380</th>\n",
       "      <td>NaN</td>\n",
       "      <td></td>\n",
       "    </tr>\n",
       "    <tr>\n",
       "      <th>5218</th>\n",
       "      <td>NaN</td>\n",
       "      <td></td>\n",
       "    </tr>\n",
       "    <tr>\n",
       "      <th>6670</th>\n",
       "      <td>NaN</td>\n",
       "      <td></td>\n",
       "    </tr>\n",
       "    <tr>\n",
       "      <th>6754</th>\n",
       "      <td>NaN</td>\n",
       "      <td></td>\n",
       "    </tr>\n",
       "  </tbody>\n",
       "</table>\n",
       "</div>"
      ],
      "text/plain": [
       "      TotalCharges(float) TotalCharges\n",
       "488                   NaN             \n",
       "753                   NaN             \n",
       "936                   NaN             \n",
       "1082                  NaN             \n",
       "1340                  NaN             \n",
       "3331                  NaN             \n",
       "3826                  NaN             \n",
       "4380                  NaN             \n",
       "5218                  NaN             \n",
       "6670                  NaN             \n",
       "6754                  NaN             "
      ]
     },
     "execution_count": 10,
     "metadata": {},
     "output_type": "execute_result"
    }
   ],
   "source": [
    "# Checking the columns with the missing values\n",
    "customer_data[customer_data['TotalCharges(float)'].isnull()][['TotalCharges(float)', 'TotalCharges']]"
   ]
  },
  {
   "cell_type": "markdown",
   "id": "716b7996",
   "metadata": {},
   "source": [
    "The dataframe above shows that there are 11 observations in the `TotalCharges` column with missing values.\n",
    "\n",
    "Given the relatively small number of these missing values (11 in total), the approach chosen is to substitute them with the mean value of the respective column."
   ]
  },
  {
   "cell_type": "code",
   "execution_count": 11,
   "id": "0415f0fa",
   "metadata": {},
   "outputs": [],
   "source": [
    "# Calculating the mean value\n",
    "mean_value = customer_data['TotalCharges(float)'].mean()\n",
    "\n",
    "# filling in the missing values\n",
    "customer_data['TotalCharges(float)'].fillna(mean_value, inplace=True)\n"
   ]
  },
  {
   "cell_type": "markdown",
   "id": "730ba8f5",
   "metadata": {},
   "source": [
    "**Checking to see that the missing values have been fixed**"
   ]
  },
  {
   "cell_type": "code",
   "execution_count": 12,
   "id": "cd5cb680",
   "metadata": {},
   "outputs": [
    {
     "data": {
      "text/html": [
       "<div>\n",
       "<style scoped>\n",
       "    .dataframe tbody tr th:only-of-type {\n",
       "        vertical-align: middle;\n",
       "    }\n",
       "\n",
       "    .dataframe tbody tr th {\n",
       "        vertical-align: top;\n",
       "    }\n",
       "\n",
       "    .dataframe thead th {\n",
       "        text-align: right;\n",
       "    }\n",
       "</style>\n",
       "<table border=\"1\" class=\"dataframe\">\n",
       "  <thead>\n",
       "    <tr style=\"text-align: right;\">\n",
       "      <th></th>\n",
       "      <th>TotalCharges(float)</th>\n",
       "      <th>TotalCharges</th>\n",
       "    </tr>\n",
       "  </thead>\n",
       "  <tbody>\n",
       "  </tbody>\n",
       "</table>\n",
       "</div>"
      ],
      "text/plain": [
       "Empty DataFrame\n",
       "Columns: [TotalCharges(float), TotalCharges]\n",
       "Index: []"
      ]
     },
     "execution_count": 12,
     "metadata": {},
     "output_type": "execute_result"
    }
   ],
   "source": [
    "# Checking the columns with the missing values\n",
    "customer_data[customer_data['TotalCharges(float)'].isnull()][['TotalCharges(float)', 'TotalCharges']]"
   ]
  },
  {
   "cell_type": "markdown",
   "id": "9cd219ed",
   "metadata": {},
   "source": [
    "The above outcome suggests that the issues related to missing values in the `TotalCharges` column with a data type of float have been successfully addressed."
   ]
  },
  {
   "cell_type": "markdown",
   "id": "b20b0721",
   "metadata": {},
   "source": [
    "## **Data Cleaning and Preprocessing**"
   ]
  },
  {
   "cell_type": "markdown",
   "id": "342999ff",
   "metadata": {},
   "source": [
    "### **Missing Values**\n",
    "\n",
    "Identifying and managing missing values is essential for upholding the credibility of data analysis. It is crucial to pinpoint the underlying reasons for data gaps and devise a suitable plan for addressing them.\n",
    "\n",
    "This plan might encompass the utilization of imputation techniques like mean or median imputation, or the exclusion of incomplete records, tailored to the specific characteristics and context of the missing data.\n",
    "\n",
    "Effectively dealing with missing values not only guarantees the precision of analytical results but also enhances their reliability."
   ]
  },
  {
   "cell_type": "code",
   "execution_count": 13,
   "id": "f908f0c6",
   "metadata": {},
   "outputs": [
    {
     "data": {
      "text/plain": [
       "Series([], dtype: int64)"
      ]
     },
     "execution_count": 13,
     "metadata": {},
     "output_type": "execute_result"
    }
   ],
   "source": [
    "# Identifying Missing values\n",
    "missing_values = customer_data.isnull().sum()\n",
    "\n",
    "# Columns with missing values\n",
    "missing_values[missing_values > 0]"
   ]
  },
  {
   "cell_type": "markdown",
   "id": "dcae2896",
   "metadata": {},
   "source": [
    "The preceding result indicates that the dataframe is devoid of any missing values. Through a thorough examination of the dataset, no instances of null values were detected. The data appears to be complete and free from any gaps or incomplete entries."
   ]
  },
  {
   "cell_type": "markdown",
   "id": "8ce74544",
   "metadata": {},
   "source": [
    "### **EXPLORATORY DATA ANALYSIS**"
   ]
  },
  {
   "cell_type": "markdown",
   "id": "c1e1a8ec",
   "metadata": {},
   "source": [
    "#### **Data Visualization**\n",
    "\n",
    "As the data types of most of the features in the dataset are categorical, a count plot will be used to view the categorical features based on the churn rate [2]."
   ]
  },
  {
   "cell_type": "markdown",
   "id": "019300b3",
   "metadata": {},
   "source": [
    "**Bar Plots for Categorical Features**"
   ]
  },
  {
   "cell_type": "code",
   "execution_count": 14,
   "id": "3573bf6a",
   "metadata": {
    "scrolled": false
   },
   "outputs": [
    {
     "name": "stdout",
     "output_type": "stream",
     "text": [
      "\n",
      "\n"
     ]
    },
    {
     "data": {
      "image/png": "[encoded data removed]",
      "text/plain": [
       "<Figure size 576x288 with 1 Axes>"
      ]
     },
     "metadata": {
      "needs_background": "light"
     },
     "output_type": "display_data"
    },
    {
     "name": "stdout",
     "output_type": "stream",
     "text": [
      "\n",
      "\n",
      "\n",
      "\n"
     ]
    },
    {
     "data": {
      "text/plain": [
       "<Figure size 432x288 with 0 Axes>"
      ]
     },
     "metadata": {},
     "output_type": "display_data"
    },
    {
     "data": {
      "image/png": "[encoded data removed]",
      "text/plain": [
       "<Figure size 576x288 with 1 Axes>"
      ]
     },
     "metadata": {
      "needs_background": "light"
     },
     "output_type": "display_data"
    },
    {
     "name": "stdout",
     "output_type": "stream",
     "text": [
      "\n",
      "\n",
      "\n",
      "\n"
     ]
    },
    {
     "data": {
      "text/plain": [
       "<Figure size 432x288 with 0 Axes>"
      ]
     },
     "metadata": {},
     "output_type": "display_data"
    },
    {
     "data": {
      "image/png": "[encoded data removed]",
      "text/plain": [
       "<Figure size 576x288 with 1 Axes>"
      ]
     },
     "metadata": {
      "needs_background": "light"
     },
     "output_type": "display_data"
    },
    {
     "name": "stdout",
     "output_type": "stream",
     "text": [
      "\n",
      "\n",
      "\n",
      "\n"
     ]
    },
    {
     "data": {
      "text/plain": [
       "<Figure size 432x288 with 0 Axes>"
      ]
     },
     "metadata": {},
     "output_type": "display_data"
    },
    {
     "data": {
      "image/png": "[encoded data removed]",
      "text/plain": [
       "<Figure size 576x288 with 1 Axes>"
      ]
     },
     "metadata": {
      "needs_background": "light"
     },
     "output_type": "display_data"
    },
    {
     "name": "stdout",
     "output_type": "stream",
     "text": [
      "\n",
      "\n",
      "\n",
      "\n"
     ]
    },
    {
     "data": {
      "text/plain": [
       "<Figure size 432x288 with 0 Axes>"
      ]
     },
     "metadata": {},
     "output_type": "display_data"
    },
    {
     "data": {
      "image/png": "[encoded data removed]",
      "text/plain": [
       "<Figure size 576x288 with 1 Axes>"
      ]
     },
     "metadata": {
      "needs_background": "light"
     },
     "output_type": "display_data"
    },
    {
     "name": "stdout",
     "output_type": "stream",
     "text": [
      "\n",
      "\n",
      "\n",
      "\n"
     ]
    },
    {
     "data": {
      "text/plain": [
       "<Figure size 432x288 with 0 Axes>"
      ]
     },
     "metadata": {},
     "output_type": "display_data"
    },
    {
     "data": {
      "image/png": "[encoded data removed]",
      "text/plain": [
       "<Figure size 576x288 with 1 Axes>"
      ]
     },
     "metadata": {
      "needs_background": "light"
     },
     "output_type": "display_data"
    },
    {
     "name": "stdout",
     "output_type": "stream",
     "text": [
      "\n",
      "\n",
      "\n",
      "\n"
     ]
    },
    {
     "data": {
      "text/plain": [
       "<Figure size 432x288 with 0 Axes>"
      ]
     },
     "metadata": {},
     "output_type": "display_data"
    },
    {
     "data": {
      "image/png": "[encoded data removed]",
      "text/plain": [
       "<Figure size 576x288 with 1 Axes>"
      ]
     },
     "metadata": {
      "needs_background": "light"
     },
     "output_type": "display_data"
    },
    {
     "name": "stdout",
     "output_type": "stream",
     "text": [
      "\n",
      "\n",
      "\n",
      "\n"
     ]
    },
    {
     "data": {
      "text/plain": [
       "<Figure size 432x288 with 0 Axes>"
      ]
     },
     "metadata": {},
     "output_type": "display_data"
    },
    {
     "data": {
      "image/png": "[encoded data removed]",
      "text/plain": [
       "<Figure size 576x288 with 1 Axes>"
      ]
     },
     "metadata": {
      "needs_background": "light"
     },
     "output_type": "display_data"
    },
    {
     "name": "stdout",
     "output_type": "stream",
     "text": [
      "\n",
      "\n",
      "\n",
      "\n"
     ]
    },
    {
     "data": {
      "text/plain": [
       "<Figure size 432x288 with 0 Axes>"
      ]
     },
     "metadata": {},
     "output_type": "display_data"
    },
    {
     "data": {
      "image/png": "[encoded data removed]",
      "text/plain": [
       "<Figure size 576x288 with 1 Axes>"
      ]
     },
     "metadata": {
      "needs_background": "light"
     },
     "output_type": "display_data"
    },
    {
     "name": "stdout",
     "output_type": "stream",
     "text": [
      "\n",
      "\n",
      "\n",
      "\n"
     ]
    },
    {
     "data": {
      "text/plain": [
       "<Figure size 432x288 with 0 Axes>"
      ]
     },
     "metadata": {},
     "output_type": "display_data"
    },
    {
     "data": {
      "image/png": "[encoded data removed]",
      "text/plain": [
       "<Figure size 576x288 with 1 Axes>"
      ]
     },
     "metadata": {
      "needs_background": "light"
     },
     "output_type": "display_data"
    },
    {
     "name": "stdout",
     "output_type": "stream",
     "text": [
      "\n",
      "\n",
      "\n",
      "\n"
     ]
    },
    {
     "data": {
      "text/plain": [
       "<Figure size 432x288 with 0 Axes>"
      ]
     },
     "metadata": {},
     "output_type": "display_data"
    },
    {
     "data": {
      "image/png": "[encoded data removed]",
      "text/plain": [
       "<Figure size 576x288 with 1 Axes>"
      ]
     },
     "metadata": {
      "needs_background": "light"
     },
     "output_type": "display_data"
    },
    {
     "name": "stdout",
     "output_type": "stream",
     "text": [
      "\n",
      "\n",
      "\n",
      "\n"
     ]
    },
    {
     "data": {
      "text/plain": [
       "<Figure size 432x288 with 0 Axes>"
      ]
     },
     "metadata": {},
     "output_type": "display_data"
    },
    {
     "data": {
      "image/png": "[encoded data removed]",
      "text/plain": [
       "<Figure size 576x288 with 1 Axes>"
      ]
     },
     "metadata": {
      "needs_background": "light"
     },
     "output_type": "display_data"
    },
    {
     "name": "stdout",
     "output_type": "stream",
     "text": [
      "\n",
      "\n",
      "\n",
      "\n"
     ]
    },
    {
     "data": {
      "text/plain": [
       "<Figure size 432x288 with 0 Axes>"
      ]
     },
     "metadata": {},
     "output_type": "display_data"
    },
    {
     "data": {
      "image/png": "[encoded data removed]",
      "text/plain": [
       "<Figure size 576x288 with 1 Axes>"
      ]
     },
     "metadata": {
      "needs_background": "light"
     },
     "output_type": "display_data"
    },
    {
     "name": "stdout",
     "output_type": "stream",
     "text": [
      "\n",
      "\n",
      "\n",
      "\n"
     ]
    },
    {
     "data": {
      "text/plain": [
       "<Figure size 432x288 with 0 Axes>"
      ]
     },
     "metadata": {},
     "output_type": "display_data"
    },
    {
     "data": {
      "image/png": "[encoded data removed]",
      "text/plain": [
       "<Figure size 576x288 with 1 Axes>"
      ]
     },
     "metadata": {
      "needs_background": "light"
     },
     "output_type": "display_data"
    },
    {
     "name": "stdout",
     "output_type": "stream",
     "text": [
      "\n",
      "\n",
      "\n",
      "\n"
     ]
    },
    {
     "data": {
      "text/plain": [
       "<Figure size 432x288 with 0 Axes>"
      ]
     },
     "metadata": {},
     "output_type": "display_data"
    },
    {
     "data": {
      "image/png": "[encoded data removed]",
      "text/plain": [
       "<Figure size 576x288 with 1 Axes>"
      ]
     },
     "metadata": {
      "needs_background": "light"
     },
     "output_type": "display_data"
    },
    {
     "name": "stdout",
     "output_type": "stream",
     "text": [
      "\n",
      "\n",
      "\n",
      "\n"
     ]
    },
    {
     "data": {
      "text/plain": [
       "<Figure size 432x288 with 0 Axes>"
      ]
     },
     "metadata": {},
     "output_type": "display_data"
    },
    {
     "data": {
      "image/png": "[encoded data removed]",
      "text/plain": [
       "<Figure size 864x288 with 1 Axes>"
      ]
     },
     "metadata": {
      "needs_background": "light"
     },
     "output_type": "display_data"
    },
    {
     "name": "stdout",
     "output_type": "stream",
     "text": [
      "\n",
      "\n"
     ]
    },
    {
     "data": {
      "text/plain": [
       "<Figure size 432x288 with 0 Axes>"
      ]
     },
     "metadata": {},
     "output_type": "display_data"
    }
   ],
   "source": [
    "# Features to be excluded from the categorical plots\n",
    "excluded_features = ['customerID', 'tenure', 'MonthlyCharges',\n",
    "                     'TotalCharges', 'TotalCharges(float)', 'Churn']\n",
    "\n",
    "# Looping through all features\n",
    "for col in customer_data.columns:\n",
    "    if col not in excluded_features:    # Excluding numerical features\n",
    "        print('\\n')\n",
    "        if customer_data[col].nunique() > 3: # Adjusting the figure size based\n",
    "            plt.figure(figsize=(12, 4))     # on the number of categories\n",
    "        else:\n",
    "            plt.figure(figsize=(8, 4))\n",
    "        sns.countplot(x=col, hue='Churn', data=customer_data, palette='Set2')\n",
    "        plt.title(f'Churn rate by {col}')\n",
    "        plt.savefig(f'images/plot_{col}.png')\n",
    "        plt.show()\n",
    "        plt.tight_layout()\n",
    "        print('\\n')                     # Creating spaces between charts"
   ]
  },
  {
   "cell_type": "markdown",
   "id": "625cea79",
   "metadata": {},
   "source": [
    "The dataset exhibits a fairly even distribution of gender and partners, with roughly equal representation in each category. Although there is a slightly higher churn rate among females, the difference is deemed inconsequential.\n",
    "\n",
    "Notably, a discernible trend of churn is evident among younger customers (SeniorCitizen = 0), as well as customers lacking both partners and dependents.\n",
    "\n",
    "The demographic analysis highlights non-senior citizens without partners and dependents as a distinct customer segment displaying an elevated propensity for churning. This emphasizes the significance of considering these factors when assessing customer retention strategies.\n",
    "\n",
    "When customers face a lack of phone service, the option of having multiple lines is ruled out. A significant portion of phone service subscribers tends to show an increased likelihood of churning.\n",
    "\n",
    "On the flip side, customers relying on fiber optic internet service display a higher tendency to churn, possibly influenced by factors such as heightened costs, market competition, and concerns about customer service.\n",
    "\n",
    "The higher cost associated with fiber optic service, in comparison to DSL, may contribute to customer attrition.\n",
    "\n",
    "Furthermore, customers who subscribe to additional services like OnlineSecurity, OnlineBackup, DeviceProtection, and TechSupport demonstrate a notable decrease in the inclination to churn. Interestingly, the presence of a Streaming service does not seem to follow a discernible predictive pattern for churn, as it is evenly distributed among both 'yes' and 'no' options.\n",
    "\n",
    "The shorter the contract, the higher the churn rate. Those with more extended plans face additional barriers when canceling early. This clearly explains the motivation for companies to have long-term relationships with their customers.\n",
    "\n",
    "Churn Rate is higher for the customers who opted for paperless billing. Customers who pay with electronic checks are more likely to churn, and this kind of payment is more common than other payment types."
   ]
  },
  {
   "cell_type": "markdown",
   "id": "2b136fc6",
   "metadata": {},
   "source": [
    "### **Visualizing the Churn rate per category**\n",
    "\n",
    "Evaluating the distribution balance within the churn feature of the dataset is a critical step in identifying potential data imbalances. It is imperative to ensure a fair representation of both churn and non-churn instances to foster an unbiased and dependable machine learning model.\n",
    "\n",
    "This process involves a careful examination of the ratio between records associated with customer churn and those without. By doing so, valuable insights can be gained, shedding light on potential challenges that could stem from class imbalance.\n",
    "\n",
    "It is essential to address such imbalances to prevent the model from being skewed towards the majority class. Rectifying this ensures an enhanced ability to accurately predict instances of interest, thereby contributing significantly to the overall robustness of the predictive analysis. This proactive approach ultimately strengthens the model's capacity to provide reliable insights into customer churn."
   ]
  },
  {
   "cell_type": "code",
   "execution_count": 15,
   "id": "c059d2a0",
   "metadata": {},
   "outputs": [
    {
     "name": "stdout",
     "output_type": "stream",
     "text": [
      "\n",
      "\n",
      "\n"
     ]
    },
    {
     "data": {
      "image/png": "[encoded data removed]",
      "text/plain": [
       "<Figure size 864x360 with 2 Axes>"
      ]
     },
     "metadata": {
      "needs_background": "light"
     },
     "output_type": "display_data"
    }
   ],
   "source": [
    "# Creating a space before the plot\n",
    "print('\\n\\n')\n",
    "\n",
    "# Creating a figure with two subplots\n",
    "fig, (ax1, ax2) = plt.subplots(nrows=1, ncols=2, figsize=(12, 5))\n",
    "\n",
    "# Adjusting the space betweeen the subplots\n",
    "plt.subplots_adjust(wspace=0.8)\n",
    "\n",
    "# Defining the colors for each class\n",
    "colors = ['skyblue', 'salmon', 'lightgreen']\n",
    "\n",
    "# Number of observations in each category\n",
    "data = customer_data['Churn'].value_counts()\n",
    "\n",
    "# Creating a pie chart.\n",
    "labels = [f'{label} - {np.round(data[label] / data.sum() * 100, 1)}%' for label in data.index]\n",
    "ax1.pie(data, labels=labels, wedgeprops = {'linewidth' : 3, 'edgecolor' : 'white'},\n",
    "        colors=colors)\n",
    "ax1.set_title('Percentage of Customer Churn')\n",
    "\n",
    "# Creating a bar plot.\n",
    "ax2 = sns.barplot(data=data.to_frame(), y='Churn', x=data.index, palette=colors)\n",
    "\n",
    "# Setting the label and title\n",
    "ax2.set(xlabel=None, ylabel='Number of Customers')\n",
    "ax2.bar_label(container=ax2.containers[0], labels=customer_data['Churn'].value_counts())\n",
    "ax2.spines[['right', 'top']].set_visible(False)\n",
    "ax2.set_title('Total number of Customers')\n",
    "# Saving the plot\n",
    "plt.savefig(f'images/churn_rate.png')\n",
    "# Displaying the plot\n",
    "plt.show()"
   ]
  },
  {
   "cell_type": "markdown",
   "id": "02dcf352",
   "metadata": {},
   "source": [
    "<br>\n",
    "\n",
    "The plot above offers a comprehensive view of the dataset's `Churn` column. On the horizontal axis of the count plot, the churn status is delineated, distinguishing between customers who have undergone churn and those who have not. Concurrently, the vertical axis denotes the frequency of occurrences within each category.\n",
    "\n",
    "This graphical representation serves as a crucial tool for evaluating the distribution of data, with a particular focus on achieving a balanced representation of both churn and non-churn instances. Maintaining equilibrium between these classes is imperative for training a machine learning model that exhibits robust performance.\n",
    "\n",
    "Examining the plots reveal a notable imbalance in the dataset, indicating a substantial difference in the number of instances between the two classes. To mitigate this imbalance, it becomes imperative to employ techniques such as resampling. Addressing these imbalances is crucial to enhance the model's ability to generalize well across both churn and non-churn scenarios.\n",
    "\n",
    "<br>\n",
    "\n",
    "**Class Imbalance and Model Training**\n",
    "\n",
    "\n",
    "The dataset presents a significant class imbalance, with one class comprising a considerable majority and another representing a smaller minority. In response to this imbalance, machine learning algorithms known for their efficacy in handling imbalanced datasets will be chosen for model training.\n",
    "\n",
    "Specifically, the Random Forest and Naive Bayes Classifier (NB) algorithms have been selected due to their inherent ability to consider class distribution during the learning process. The Random Forest algorithm, being an ensemble method, is particularly noteworthy for its demonstrated effectiveness in tackling challenges associated with class imbalance. This ensemble approach enhances the model's capability to address the skewed distribution of classes within the dataset.\n",
    "\n",
    "<br>\n",
    "\n",
    "In assessing model performance, particular attention will be given to metrics that exhibit sensitivity to class imbalance. Balanced accuracy, Precision, recall, and F1 score, will be given precedence over conventional accuracy metrics.\n",
    "\n",
    "These chosen metrics offer a more nuanced insight into the model's proficiency in accurately detecting instances of the minority class, a critical aspect in the domain of customer churn prediction.\n",
    "\n",
    "This strategic approach ensures a thorough evaluation of the model's effectiveness, especially in scenarios characterized by imbalanced classes, where relying solely on traditional accuracy measures may lead to a misrepresentation of performance."
   ]
  },
  {
   "cell_type": "markdown",
   "id": "24041cba",
   "metadata": {},
   "source": [
    "#### **Data Visualization of Numerical Features**\n",
    "\n",
    "**Histograms**"
   ]
  },
  {
   "cell_type": "code",
   "execution_count": 16,
   "id": "79f92c38",
   "metadata": {},
   "outputs": [
    {
     "name": "stdout",
     "output_type": "stream",
     "text": [
      "\n",
      "\n"
     ]
    },
    {
     "data": {
      "image/png": "[encoded data removed]",
      "text/plain": [
       "<Figure size 1296x432 with 3 Axes>"
      ]
     },
     "metadata": {
      "needs_background": "light"
     },
     "output_type": "display_data"
    }
   ],
   "source": [
    "# 'Churn' is the column indicating churn categories ('Yes' or 'No')\n",
    "\n",
    "numerical_features = ['tenure', 'MonthlyCharges', 'TotalCharges(float)']\n",
    "\n",
    "# Set up the figure and axis\n",
    "fig, axes = plt.subplots(1, 3, figsize=(18, 6), sharey=True)\n",
    "\n",
    "# Define colors for the churn categories\n",
    "colors = {'No': 'blue', 'Yes': 'orange'}\n",
    "\n",
    "# Creating a space before the plot\n",
    "print('\\n')\n",
    "# Iterate through numerical features\n",
    "for i, feature in enumerate(numerical_features):\n",
    "    # Plot histograms for each churn category\n",
    "    sns.histplot(data=customer_data, x=feature, hue='Churn', multiple='stack', kde=True, ax=axes[i], palette=colors)\n",
    "    axes[i].set_title(f'Histogram of {feature}')\n",
    "\n",
    "# Set common y-axis label\n",
    "fig.text(0.5, 0, 'Frequency', ha='center', va='center', fontsize=14)\n",
    "\n",
    "# Saving the plot\n",
    "plt.savefig(f'images/histograms_of_numerical_features.png')\n",
    "# Adjust layout\n",
    "plt.tight_layout(pad=2.0)\n",
    "plt.show()\n"
   ]
  },
  {
   "cell_type": "markdown",
   "id": "ce042a42",
   "metadata": {},
   "source": [
    "The histogram depicting customer tenure reveals a right-skewed distribution, indicating that a significant portion of customers has a relatively short association with the telecom company, predominantly within the initial 0-9 months. Correspondingly, the highest incidence of churn is observed during this initial period, highlighting that a considerable number of customers decide to discontinue services within their first 30 months.\n",
    "\n",
    "Upon closer examination of the monthly charge histogram, a noteworthy pattern emerges - customers with higher monthly charges display an increased churn rate. This finding suggests a potential correlation between the attractiveness of discounts and promotions and customer retention.\n",
    "\n",
    "In essence, it implies that the provision of discounts or promotional offers could serve as a compelling incentive for customers to sustain their subscriptions, thereby reducing the likelihood of churn. This insight highlights the importance of promotional strategies in fostering customer loyalty and mitigating churn risks."
   ]
  },
  {
   "cell_type": "markdown",
   "id": "298de090",
   "metadata": {},
   "source": [
    "**Box Plots for Numerical Features**"
   ]
  },
  {
   "cell_type": "code",
   "execution_count": 17,
   "id": "6416e1fb",
   "metadata": {},
   "outputs": [
    {
     "name": "stdout",
     "output_type": "stream",
     "text": [
      "\n",
      "\n"
     ]
    },
    {
     "data": {
      "image/png": "[encoded data removed]",
      "text/plain": [
       "<Figure size 1296x360 with 3 Axes>"
      ]
     },
     "metadata": {
      "needs_background": "light"
     },
     "output_type": "display_data"
    }
   ],
   "source": [
    "# Creating plots for Numerical features\n",
    "\n",
    "# Creating the figure\n",
    "plt.figure(figsize=(18, 5))\n",
    "\n",
    "# Creating a space before the plot\n",
    "print('\\n')\n",
    "\n",
    "for i, col in enumerate(numerical_features, 1):\n",
    "    plt.subplot(1, 3, i)\n",
    "    #sns.boxplot(x=col, color='skyblue', width=0.4)\n",
    "    sns.boxplot(x='Churn', y=col, data=customer_data, palette='viridis')\n",
    "    plt.title(f'Box Plot of {col}')\n",
    "\n",
    "plt.suptitle('Box Plots of Numerical Features', y=1.05, size=16)\n",
    "# Saving the plot\n",
    "plt.savefig(f'images/box_plots_of_numerical_features.png')\n",
    "plt.tight_layout()\n",
    "plt.show()\n"
   ]
  },
  {
   "cell_type": "markdown",
   "id": "2c1d441f",
   "metadata": {},
   "source": [
    "The insights derived from the Box plot of the `tenure` align with the findings from the histogram, reinforcing the observation that customers who churned typically had a shorter tenure compared to those who remained. Notably, there are outliers in the churned category, potentially indicative of long-term customers exploring alternative telecommunication services.\n",
    "\n",
    "Examining the `MonthlyCharges` column reveals a discernible pattern: customers with higher monthly charges exhibit a propensity to leave the company. This observation serves as additional evidence supporting the trends identified in the histograms, emphasizing the influence of monthly charges on customer retention.\n",
    "\n",
    "Further analysis of the `TotalCharges` column indicates that customers who churned generally have lower total charges, with noticeable outliers. These outliers may represent cases where customers, despite being with the company for an extended period, opted to leave, possibly influenced by the perceived high cost associated with the services rendered.\n",
    "\n",
    "In summary, the combination of Box plots and histograms provides a comprehensive understanding of the distribution and tendencies within the numerical features of the Telco dataset. The identified patterns, supported by the presence of outliers, contribute valuable insights into potential factors influencing customer churn, such as tenure duration, monthly charges, and total expenditure."
   ]
  },
  {
   "cell_type": "markdown",
   "id": "2ff5975a",
   "metadata": {},
   "source": [
    "## **Encoding Categorical Variables**\n",
    "\n",
    "Before going on to encode categorical variables, a subset of the dataframe needed for training the machine learning will be extracted. This involves dropping the `customerID`, and `TotalCharges` columns.\n",
    "\n",
    "The `customerID` column is a unique identification for all customers in the dataset and is of little significance for the machine learning model training while the `TotalCharges` column is a column of object data type that has been converted and inputted in a new column."
   ]
  },
  {
   "cell_type": "code",
   "execution_count": 18,
   "id": "a861a621",
   "metadata": {},
   "outputs": [
    {
     "data": {
      "text/html": [
       "<div>\n",
       "<style scoped>\n",
       "    .dataframe tbody tr th:only-of-type {\n",
       "        vertical-align: middle;\n",
       "    }\n",
       "\n",
       "    .dataframe tbody tr th {\n",
       "        vertical-align: top;\n",
       "    }\n",
       "\n",
       "    .dataframe thead th {\n",
       "        text-align: right;\n",
       "    }\n",
       "</style>\n",
       "<table border=\"1\" class=\"dataframe\">\n",
       "  <thead>\n",
       "    <tr style=\"text-align: right;\">\n",
       "      <th></th>\n",
       "      <th>gender</th>\n",
       "      <th>SeniorCitizen</th>\n",
       "      <th>Partner</th>\n",
       "      <th>Dependents</th>\n",
       "      <th>tenure</th>\n",
       "      <th>PhoneService</th>\n",
       "      <th>MultipleLines</th>\n",
       "      <th>InternetService</th>\n",
       "      <th>OnlineSecurity</th>\n",
       "      <th>OnlineBackup</th>\n",
       "      <th>DeviceProtection</th>\n",
       "      <th>TechSupport</th>\n",
       "      <th>StreamingTV</th>\n",
       "      <th>StreamingMovies</th>\n",
       "      <th>Contract</th>\n",
       "      <th>PaperlessBilling</th>\n",
       "      <th>PaymentMethod</th>\n",
       "      <th>MonthlyCharges</th>\n",
       "      <th>Churn</th>\n",
       "      <th>TotalCharges</th>\n",
       "    </tr>\n",
       "  </thead>\n",
       "  <tbody>\n",
       "    <tr>\n",
       "      <th>0</th>\n",
       "      <td>Female</td>\n",
       "      <td>0</td>\n",
       "      <td>Yes</td>\n",
       "      <td>No</td>\n",
       "      <td>1</td>\n",
       "      <td>No</td>\n",
       "      <td>No phone service</td>\n",
       "      <td>DSL</td>\n",
       "      <td>No</td>\n",
       "      <td>Yes</td>\n",
       "      <td>No</td>\n",
       "      <td>No</td>\n",
       "      <td>No</td>\n",
       "      <td>No</td>\n",
       "      <td>Month-to-month</td>\n",
       "      <td>Yes</td>\n",
       "      <td>Electronic check</td>\n",
       "      <td>29.85</td>\n",
       "      <td>No</td>\n",
       "      <td>29.85</td>\n",
       "    </tr>\n",
       "    <tr>\n",
       "      <th>1</th>\n",
       "      <td>Male</td>\n",
       "      <td>0</td>\n",
       "      <td>No</td>\n",
       "      <td>No</td>\n",
       "      <td>34</td>\n",
       "      <td>Yes</td>\n",
       "      <td>No</td>\n",
       "      <td>DSL</td>\n",
       "      <td>Yes</td>\n",
       "      <td>No</td>\n",
       "      <td>Yes</td>\n",
       "      <td>No</td>\n",
       "      <td>No</td>\n",
       "      <td>No</td>\n",
       "      <td>One year</td>\n",
       "      <td>No</td>\n",
       "      <td>Mailed check</td>\n",
       "      <td>56.95</td>\n",
       "      <td>No</td>\n",
       "      <td>1889.50</td>\n",
       "    </tr>\n",
       "    <tr>\n",
       "      <th>2</th>\n",
       "      <td>Male</td>\n",
       "      <td>0</td>\n",
       "      <td>No</td>\n",
       "      <td>No</td>\n",
       "      <td>2</td>\n",
       "      <td>Yes</td>\n",
       "      <td>No</td>\n",
       "      <td>DSL</td>\n",
       "      <td>Yes</td>\n",
       "      <td>Yes</td>\n",
       "      <td>No</td>\n",
       "      <td>No</td>\n",
       "      <td>No</td>\n",
       "      <td>No</td>\n",
       "      <td>Month-to-month</td>\n",
       "      <td>Yes</td>\n",
       "      <td>Mailed check</td>\n",
       "      <td>53.85</td>\n",
       "      <td>Yes</td>\n",
       "      <td>108.15</td>\n",
       "    </tr>\n",
       "    <tr>\n",
       "      <th>3</th>\n",
       "      <td>Male</td>\n",
       "      <td>0</td>\n",
       "      <td>No</td>\n",
       "      <td>No</td>\n",
       "      <td>45</td>\n",
       "      <td>No</td>\n",
       "      <td>No phone service</td>\n",
       "      <td>DSL</td>\n",
       "      <td>Yes</td>\n",
       "      <td>No</td>\n",
       "      <td>Yes</td>\n",
       "      <td>Yes</td>\n",
       "      <td>No</td>\n",
       "      <td>No</td>\n",
       "      <td>One year</td>\n",
       "      <td>No</td>\n",
       "      <td>Bank transfer (automatic)</td>\n",
       "      <td>42.30</td>\n",
       "      <td>No</td>\n",
       "      <td>1840.75</td>\n",
       "    </tr>\n",
       "    <tr>\n",
       "      <th>4</th>\n",
       "      <td>Female</td>\n",
       "      <td>0</td>\n",
       "      <td>No</td>\n",
       "      <td>No</td>\n",
       "      <td>2</td>\n",
       "      <td>Yes</td>\n",
       "      <td>No</td>\n",
       "      <td>Fiber optic</td>\n",
       "      <td>No</td>\n",
       "      <td>No</td>\n",
       "      <td>No</td>\n",
       "      <td>No</td>\n",
       "      <td>No</td>\n",
       "      <td>No</td>\n",
       "      <td>Month-to-month</td>\n",
       "      <td>Yes</td>\n",
       "      <td>Electronic check</td>\n",
       "      <td>70.70</td>\n",
       "      <td>Yes</td>\n",
       "      <td>151.65</td>\n",
       "    </tr>\n",
       "  </tbody>\n",
       "</table>\n",
       "</div>"
      ],
      "text/plain": [
       "   gender  SeniorCitizen Partner Dependents  tenure PhoneService  \\\n",
       "0  Female              0     Yes         No       1           No   \n",
       "1    Male              0      No         No      34          Yes   \n",
       "2    Male              0      No         No       2          Yes   \n",
       "3    Male              0      No         No      45           No   \n",
       "4  Female              0      No         No       2          Yes   \n",
       "\n",
       "      MultipleLines InternetService OnlineSecurity OnlineBackup  \\\n",
       "0  No phone service             DSL             No          Yes   \n",
       "1                No             DSL            Yes           No   \n",
       "2                No             DSL            Yes          Yes   \n",
       "3  No phone service             DSL            Yes           No   \n",
       "4                No     Fiber optic             No           No   \n",
       "\n",
       "  DeviceProtection TechSupport StreamingTV StreamingMovies        Contract  \\\n",
       "0               No          No          No              No  Month-to-month   \n",
       "1              Yes          No          No              No        One year   \n",
       "2               No          No          No              No  Month-to-month   \n",
       "3              Yes         Yes          No              No        One year   \n",
       "4               No          No          No              No  Month-to-month   \n",
       "\n",
       "  PaperlessBilling              PaymentMethod  MonthlyCharges Churn  \\\n",
       "0              Yes           Electronic check           29.85    No   \n",
       "1               No               Mailed check           56.95    No   \n",
       "2              Yes               Mailed check           53.85   Yes   \n",
       "3               No  Bank transfer (automatic)           42.30    No   \n",
       "4              Yes           Electronic check           70.70   Yes   \n",
       "\n",
       "   TotalCharges  \n",
       "0         29.85  \n",
       "1       1889.50  \n",
       "2        108.15  \n",
       "3       1840.75  \n",
       "4        151.65  "
      ]
     },
     "execution_count": 18,
     "metadata": {},
     "output_type": "execute_result"
    }
   ],
   "source": [
    "# Creating a copy of the customer_data\n",
    "data = customer_data.drop(columns=['customerID', 'TotalCharges']).copy()\n",
    "\n",
    "# Renaming the TotalCharges(float) column to remove the float\n",
    "data.rename(columns={'TotalCharges(float)': 'TotalCharges'}, inplace=True)\n",
    "\n",
    "# Viewing the dataframe\n",
    "data.head()"
   ]
  },
  {
   "cell_type": "markdown",
   "id": "0fd983cc",
   "metadata": {},
   "source": [
    "<br>\n",
    "\n",
    "**Size of the Dataframe**"
   ]
  },
  {
   "cell_type": "code",
   "execution_count": 19,
   "id": "e583323b",
   "metadata": {},
   "outputs": [
    {
     "name": "stdout",
     "output_type": "stream",
     "text": [
      "Number of Observations: 7043      \n",
      "Number of Features: 20\n"
     ]
    }
   ],
   "source": [
    "# Size of dataframe\n",
    "\n",
    "print(f'Number of Observations: {data.shape[0]}\\\n",
    "      \\nNumber of Features: {data.shape[1]}')"
   ]
  },
  {
   "cell_type": "markdown",
   "id": "b000d05c",
   "metadata": {},
   "source": [
    "<br>\n",
    "\n",
    "#### **Categorical Features and Target Variable**\n",
    "\n",
    "In the context of the classification task at hand, where both the target variable and certain features are categorical, data encoding plays a crucial role in preparing the data for machine learning models.\n",
    "\n",
    "The selected strategy entails employing one-hot encoding for categorical features and label encoding for the target variable. This decision is informed by the common practice of utilizing label encoding specifically for the target variable, as suggested in the scikit-learn documentation [7].\n",
    "\n",
    "It's worth noting that label encoding is generally favored for the target variable due to its widespread recommendation in the scikit-learn documentation [7]. In conjunction with this, one-hot encoding is chosen for categorical features to enhance their representation in a format conducive to machine learning model training."
   ]
  },
  {
   "cell_type": "code",
   "execution_count": 20,
   "id": "3846ce70",
   "metadata": {},
   "outputs": [],
   "source": [
    "# Creating empty lists for categorical features\n",
    "cat_features = []\n",
    "\n",
    "# Extracting the categorical features\n",
    "for col in data.columns:\n",
    "    cond = data[col].dtype.name\n",
    "    if (cond == 'object') and (col not in ['Churn'] ):\n",
    "        cat_features.append(col)"
   ]
  },
  {
   "cell_type": "markdown",
   "id": "dd4fd49a",
   "metadata": {},
   "source": [
    "<br>\n",
    "\n",
    "**Checking the number of unique entries in the columns**"
   ]
  },
  {
   "cell_type": "code",
   "execution_count": 21,
   "id": "88ce9f4a",
   "metadata": {},
   "outputs": [
    {
     "data": {
      "text/plain": [
       "gender              2\n",
       "Partner             2\n",
       "Dependents          2\n",
       "PhoneService        2\n",
       "MultipleLines       3\n",
       "InternetService     3\n",
       "OnlineSecurity      3\n",
       "OnlineBackup        3\n",
       "DeviceProtection    3\n",
       "TechSupport         3\n",
       "StreamingTV         3\n",
       "StreamingMovies     3\n",
       "Contract            3\n",
       "PaperlessBilling    2\n",
       "PaymentMethod       4\n",
       "dtype: int64"
      ]
     },
     "execution_count": 21,
     "metadata": {},
     "output_type": "execute_result"
    }
   ],
   "source": [
    "# Number of unique entries in each categorical features\n",
    "data[cat_features].nunique()"
   ]
  },
  {
   "cell_type": "markdown",
   "id": "68dd4521",
   "metadata": {},
   "source": [
    "### **One-Hot Encoding for Categorical Features**\n",
    "\n",
    "\n",
    "Utilizing one-hot encoding is a method employed to convert categorical attributes into a numerical format that is conducive for machine learning models. This technique involves the creation of binary columns for each distinct category within a feature, thereby expanding the overall feature space.\n",
    "\n",
    "By applying one-hot encoding, categorical variables are transformed into a binary representation, generating new columns corresponding to unique categories. This process is crucial for ensuring that machine learning models can effectively interpret and utilize categorical information in a numerical format. The resulting expanded feature space facilitates improved model training and enhances the algorithm's ability to capture the nuances inherent in categorical data."
   ]
  },
  {
   "cell_type": "code",
   "execution_count": 22,
   "id": "ac460e73",
   "metadata": {},
   "outputs": [
    {
     "data": {
      "text/html": [
       "<div>\n",
       "<style scoped>\n",
       "    .dataframe tbody tr th:only-of-type {\n",
       "        vertical-align: middle;\n",
       "    }\n",
       "\n",
       "    .dataframe tbody tr th {\n",
       "        vertical-align: top;\n",
       "    }\n",
       "\n",
       "    .dataframe thead th {\n",
       "        text-align: right;\n",
       "    }\n",
       "</style>\n",
       "<table border=\"1\" class=\"dataframe\">\n",
       "  <thead>\n",
       "    <tr style=\"text-align: right;\">\n",
       "      <th></th>\n",
       "      <th>SeniorCitizen</th>\n",
       "      <th>tenure</th>\n",
       "      <th>MonthlyCharges</th>\n",
       "      <th>Churn</th>\n",
       "      <th>TotalCharges</th>\n",
       "      <th>gender_Male</th>\n",
       "      <th>Partner_Yes</th>\n",
       "      <th>Dependents_Yes</th>\n",
       "      <th>PhoneService_Yes</th>\n",
       "      <th>MultipleLines_No phone service</th>\n",
       "      <th>...</th>\n",
       "      <th>StreamingTV_No internet service</th>\n",
       "      <th>StreamingTV_Yes</th>\n",
       "      <th>StreamingMovies_No internet service</th>\n",
       "      <th>StreamingMovies_Yes</th>\n",
       "      <th>Contract_One year</th>\n",
       "      <th>Contract_Two year</th>\n",
       "      <th>PaperlessBilling_Yes</th>\n",
       "      <th>PaymentMethod_Credit card (automatic)</th>\n",
       "      <th>PaymentMethod_Electronic check</th>\n",
       "      <th>PaymentMethod_Mailed check</th>\n",
       "    </tr>\n",
       "  </thead>\n",
       "  <tbody>\n",
       "    <tr>\n",
       "      <th>0</th>\n",
       "      <td>0</td>\n",
       "      <td>1</td>\n",
       "      <td>29.85</td>\n",
       "      <td>No</td>\n",
       "      <td>29.85</td>\n",
       "      <td>0.0</td>\n",
       "      <td>1.0</td>\n",
       "      <td>0.0</td>\n",
       "      <td>0.0</td>\n",
       "      <td>1.0</td>\n",
       "      <td>...</td>\n",
       "      <td>0.0</td>\n",
       "      <td>0.0</td>\n",
       "      <td>0.0</td>\n",
       "      <td>0.0</td>\n",
       "      <td>0.0</td>\n",
       "      <td>0.0</td>\n",
       "      <td>1.0</td>\n",
       "      <td>0.0</td>\n",
       "      <td>1.0</td>\n",
       "      <td>0.0</td>\n",
       "    </tr>\n",
       "    <tr>\n",
       "      <th>1</th>\n",
       "      <td>0</td>\n",
       "      <td>34</td>\n",
       "      <td>56.95</td>\n",
       "      <td>No</td>\n",
       "      <td>1889.50</td>\n",
       "      <td>1.0</td>\n",
       "      <td>0.0</td>\n",
       "      <td>0.0</td>\n",
       "      <td>1.0</td>\n",
       "      <td>0.0</td>\n",
       "      <td>...</td>\n",
       "      <td>0.0</td>\n",
       "      <td>0.0</td>\n",
       "      <td>0.0</td>\n",
       "      <td>0.0</td>\n",
       "      <td>1.0</td>\n",
       "      <td>0.0</td>\n",
       "      <td>0.0</td>\n",
       "      <td>0.0</td>\n",
       "      <td>0.0</td>\n",
       "      <td>1.0</td>\n",
       "    </tr>\n",
       "    <tr>\n",
       "      <th>2</th>\n",
       "      <td>0</td>\n",
       "      <td>2</td>\n",
       "      <td>53.85</td>\n",
       "      <td>Yes</td>\n",
       "      <td>108.15</td>\n",
       "      <td>1.0</td>\n",
       "      <td>0.0</td>\n",
       "      <td>0.0</td>\n",
       "      <td>1.0</td>\n",
       "      <td>0.0</td>\n",
       "      <td>...</td>\n",
       "      <td>0.0</td>\n",
       "      <td>0.0</td>\n",
       "      <td>0.0</td>\n",
       "      <td>0.0</td>\n",
       "      <td>0.0</td>\n",
       "      <td>0.0</td>\n",
       "      <td>1.0</td>\n",
       "      <td>0.0</td>\n",
       "      <td>0.0</td>\n",
       "      <td>1.0</td>\n",
       "    </tr>\n",
       "    <tr>\n",
       "      <th>3</th>\n",
       "      <td>0</td>\n",
       "      <td>45</td>\n",
       "      <td>42.30</td>\n",
       "      <td>No</td>\n",
       "      <td>1840.75</td>\n",
       "      <td>1.0</td>\n",
       "      <td>0.0</td>\n",
       "      <td>0.0</td>\n",
       "      <td>0.0</td>\n",
       "      <td>1.0</td>\n",
       "      <td>...</td>\n",
       "      <td>0.0</td>\n",
       "      <td>0.0</td>\n",
       "      <td>0.0</td>\n",
       "      <td>0.0</td>\n",
       "      <td>1.0</td>\n",
       "      <td>0.0</td>\n",
       "      <td>0.0</td>\n",
       "      <td>0.0</td>\n",
       "      <td>0.0</td>\n",
       "      <td>0.0</td>\n",
       "    </tr>\n",
       "    <tr>\n",
       "      <th>4</th>\n",
       "      <td>0</td>\n",
       "      <td>2</td>\n",
       "      <td>70.70</td>\n",
       "      <td>Yes</td>\n",
       "      <td>151.65</td>\n",
       "      <td>0.0</td>\n",
       "      <td>0.0</td>\n",
       "      <td>0.0</td>\n",
       "      <td>1.0</td>\n",
       "      <td>0.0</td>\n",
       "      <td>...</td>\n",
       "      <td>0.0</td>\n",
       "      <td>0.0</td>\n",
       "      <td>0.0</td>\n",
       "      <td>0.0</td>\n",
       "      <td>0.0</td>\n",
       "      <td>0.0</td>\n",
       "      <td>1.0</td>\n",
       "      <td>0.0</td>\n",
       "      <td>1.0</td>\n",
       "      <td>0.0</td>\n",
       "    </tr>\n",
       "  </tbody>\n",
       "</table>\n",
       "<p>5 rows × 31 columns</p>\n",
       "</div>"
      ],
      "text/plain": [
       "   SeniorCitizen  tenure  MonthlyCharges Churn  TotalCharges  gender_Male  \\\n",
       "0              0       1           29.85    No         29.85          0.0   \n",
       "1              0      34           56.95    No       1889.50          1.0   \n",
       "2              0       2           53.85   Yes        108.15          1.0   \n",
       "3              0      45           42.30    No       1840.75          1.0   \n",
       "4              0       2           70.70   Yes        151.65          0.0   \n",
       "\n",
       "   Partner_Yes  Dependents_Yes  PhoneService_Yes  \\\n",
       "0          1.0             0.0               0.0   \n",
       "1          0.0             0.0               1.0   \n",
       "2          0.0             0.0               1.0   \n",
       "3          0.0             0.0               0.0   \n",
       "4          0.0             0.0               1.0   \n",
       "\n",
       "   MultipleLines_No phone service  ...  StreamingTV_No internet service  \\\n",
       "0                             1.0  ...                              0.0   \n",
       "1                             0.0  ...                              0.0   \n",
       "2                             0.0  ...                              0.0   \n",
       "3                             1.0  ...                              0.0   \n",
       "4                             0.0  ...                              0.0   \n",
       "\n",
       "   StreamingTV_Yes  StreamingMovies_No internet service  StreamingMovies_Yes  \\\n",
       "0              0.0                                  0.0                  0.0   \n",
       "1              0.0                                  0.0                  0.0   \n",
       "2              0.0                                  0.0                  0.0   \n",
       "3              0.0                                  0.0                  0.0   \n",
       "4              0.0                                  0.0                  0.0   \n",
       "\n",
       "   Contract_One year  Contract_Two year  PaperlessBilling_Yes  \\\n",
       "0                0.0                0.0                   1.0   \n",
       "1                1.0                0.0                   0.0   \n",
       "2                0.0                0.0                   1.0   \n",
       "3                1.0                0.0                   0.0   \n",
       "4                0.0                0.0                   1.0   \n",
       "\n",
       "   PaymentMethod_Credit card (automatic)  PaymentMethod_Electronic check  \\\n",
       "0                                    0.0                             1.0   \n",
       "1                                    0.0                             0.0   \n",
       "2                                    0.0                             0.0   \n",
       "3                                    0.0                             0.0   \n",
       "4                                    0.0                             1.0   \n",
       "\n",
       "   PaymentMethod_Mailed check  \n",
       "0                         0.0  \n",
       "1                         1.0  \n",
       "2                         1.0  \n",
       "3                         0.0  \n",
       "4                         0.0  \n",
       "\n",
       "[5 rows x 31 columns]"
      ]
     },
     "execution_count": 22,
     "metadata": {},
     "output_type": "execute_result"
    }
   ],
   "source": [
    "# Categorical columns\n",
    "cat_data = data[cat_features]\n",
    "\n",
    "# Initializing the OneHotEncoder\n",
    "onehot_encoder = OneHotEncoder(sparse=False, drop='first')\n",
    "\n",
    "\n",
    "# Applying label encoding to the columns\n",
    "cat_data_encoded = onehot_encoder.fit_transform(cat_data)\n",
    "\n",
    "# Creating a DataFrame with the one-hot encoded features\n",
    "cat_data_encoded_df = pd.DataFrame(cat_data_encoded,\n",
    "                                   columns=onehot_encoder.get_feature_names_out(cat_features))\n",
    "\n",
    "# Concatenate the one-hot encoded features with the original DataFrame\n",
    "encoded_data = pd.concat([data, cat_data_encoded_df], axis=1)\n",
    "\n",
    "# Drop the original categorical columns, as they are no longer needed\n",
    "encoded_data.drop(columns=cat_features, inplace=True)\n",
    "\n",
    "\n",
    "# Viewing the Dataframe head\n",
    "encoded_data.head()"
   ]
  },
  {
   "cell_type": "markdown",
   "id": "1a3d33f3",
   "metadata": {},
   "source": [
    "### **Encoding the Target Variable**\n",
    "\n",
    "\n",
    "Applying label encoding to transform the categorical target variable into a numerical format, wherein each category within the target variable is assigned a distinct numerical label.\n",
    "\n",
    "This method facilitates the representation of categorical data in a machine-readable format, supporting various algorithms that require numerical input."
   ]
  },
  {
   "cell_type": "code",
   "execution_count": 23,
   "id": "a06bf403",
   "metadata": {},
   "outputs": [
    {
     "data": {
      "text/html": [
       "<div>\n",
       "<style scoped>\n",
       "    .dataframe tbody tr th:only-of-type {\n",
       "        vertical-align: middle;\n",
       "    }\n",
       "\n",
       "    .dataframe tbody tr th {\n",
       "        vertical-align: top;\n",
       "    }\n",
       "\n",
       "    .dataframe thead th {\n",
       "        text-align: right;\n",
       "    }\n",
       "</style>\n",
       "<table border=\"1\" class=\"dataframe\">\n",
       "  <thead>\n",
       "    <tr style=\"text-align: right;\">\n",
       "      <th></th>\n",
       "      <th>SeniorCitizen</th>\n",
       "      <th>tenure</th>\n",
       "      <th>MonthlyCharges</th>\n",
       "      <th>Churn</th>\n",
       "      <th>TotalCharges</th>\n",
       "      <th>gender_Male</th>\n",
       "      <th>Partner_Yes</th>\n",
       "      <th>Dependents_Yes</th>\n",
       "      <th>PhoneService_Yes</th>\n",
       "      <th>MultipleLines_No phone service</th>\n",
       "      <th>...</th>\n",
       "      <th>StreamingTV_No internet service</th>\n",
       "      <th>StreamingTV_Yes</th>\n",
       "      <th>StreamingMovies_No internet service</th>\n",
       "      <th>StreamingMovies_Yes</th>\n",
       "      <th>Contract_One year</th>\n",
       "      <th>Contract_Two year</th>\n",
       "      <th>PaperlessBilling_Yes</th>\n",
       "      <th>PaymentMethod_Credit card (automatic)</th>\n",
       "      <th>PaymentMethod_Electronic check</th>\n",
       "      <th>PaymentMethod_Mailed check</th>\n",
       "    </tr>\n",
       "  </thead>\n",
       "  <tbody>\n",
       "    <tr>\n",
       "      <th>0</th>\n",
       "      <td>0</td>\n",
       "      <td>1</td>\n",
       "      <td>29.85</td>\n",
       "      <td>0</td>\n",
       "      <td>29.85</td>\n",
       "      <td>0.0</td>\n",
       "      <td>1.0</td>\n",
       "      <td>0.0</td>\n",
       "      <td>0.0</td>\n",
       "      <td>1.0</td>\n",
       "      <td>...</td>\n",
       "      <td>0.0</td>\n",
       "      <td>0.0</td>\n",
       "      <td>0.0</td>\n",
       "      <td>0.0</td>\n",
       "      <td>0.0</td>\n",
       "      <td>0.0</td>\n",
       "      <td>1.0</td>\n",
       "      <td>0.0</td>\n",
       "      <td>1.0</td>\n",
       "      <td>0.0</td>\n",
       "    </tr>\n",
       "    <tr>\n",
       "      <th>1</th>\n",
       "      <td>0</td>\n",
       "      <td>34</td>\n",
       "      <td>56.95</td>\n",
       "      <td>0</td>\n",
       "      <td>1889.50</td>\n",
       "      <td>1.0</td>\n",
       "      <td>0.0</td>\n",
       "      <td>0.0</td>\n",
       "      <td>1.0</td>\n",
       "      <td>0.0</td>\n",
       "      <td>...</td>\n",
       "      <td>0.0</td>\n",
       "      <td>0.0</td>\n",
       "      <td>0.0</td>\n",
       "      <td>0.0</td>\n",
       "      <td>1.0</td>\n",
       "      <td>0.0</td>\n",
       "      <td>0.0</td>\n",
       "      <td>0.0</td>\n",
       "      <td>0.0</td>\n",
       "      <td>1.0</td>\n",
       "    </tr>\n",
       "    <tr>\n",
       "      <th>2</th>\n",
       "      <td>0</td>\n",
       "      <td>2</td>\n",
       "      <td>53.85</td>\n",
       "      <td>1</td>\n",
       "      <td>108.15</td>\n",
       "      <td>1.0</td>\n",
       "      <td>0.0</td>\n",
       "      <td>0.0</td>\n",
       "      <td>1.0</td>\n",
       "      <td>0.0</td>\n",
       "      <td>...</td>\n",
       "      <td>0.0</td>\n",
       "      <td>0.0</td>\n",
       "      <td>0.0</td>\n",
       "      <td>0.0</td>\n",
       "      <td>0.0</td>\n",
       "      <td>0.0</td>\n",
       "      <td>1.0</td>\n",
       "      <td>0.0</td>\n",
       "      <td>0.0</td>\n",
       "      <td>1.0</td>\n",
       "    </tr>\n",
       "    <tr>\n",
       "      <th>3</th>\n",
       "      <td>0</td>\n",
       "      <td>45</td>\n",
       "      <td>42.30</td>\n",
       "      <td>0</td>\n",
       "      <td>1840.75</td>\n",
       "      <td>1.0</td>\n",
       "      <td>0.0</td>\n",
       "      <td>0.0</td>\n",
       "      <td>0.0</td>\n",
       "      <td>1.0</td>\n",
       "      <td>...</td>\n",
       "      <td>0.0</td>\n",
       "      <td>0.0</td>\n",
       "      <td>0.0</td>\n",
       "      <td>0.0</td>\n",
       "      <td>1.0</td>\n",
       "      <td>0.0</td>\n",
       "      <td>0.0</td>\n",
       "      <td>0.0</td>\n",
       "      <td>0.0</td>\n",
       "      <td>0.0</td>\n",
       "    </tr>\n",
       "    <tr>\n",
       "      <th>4</th>\n",
       "      <td>0</td>\n",
       "      <td>2</td>\n",
       "      <td>70.70</td>\n",
       "      <td>1</td>\n",
       "      <td>151.65</td>\n",
       "      <td>0.0</td>\n",
       "      <td>0.0</td>\n",
       "      <td>0.0</td>\n",
       "      <td>1.0</td>\n",
       "      <td>0.0</td>\n",
       "      <td>...</td>\n",
       "      <td>0.0</td>\n",
       "      <td>0.0</td>\n",
       "      <td>0.0</td>\n",
       "      <td>0.0</td>\n",
       "      <td>0.0</td>\n",
       "      <td>0.0</td>\n",
       "      <td>1.0</td>\n",
       "      <td>0.0</td>\n",
       "      <td>1.0</td>\n",
       "      <td>0.0</td>\n",
       "    </tr>\n",
       "  </tbody>\n",
       "</table>\n",
       "<p>5 rows × 31 columns</p>\n",
       "</div>"
      ],
      "text/plain": [
       "   SeniorCitizen  tenure  MonthlyCharges  Churn  TotalCharges  gender_Male  \\\n",
       "0              0       1           29.85      0         29.85          0.0   \n",
       "1              0      34           56.95      0       1889.50          1.0   \n",
       "2              0       2           53.85      1        108.15          1.0   \n",
       "3              0      45           42.30      0       1840.75          1.0   \n",
       "4              0       2           70.70      1        151.65          0.0   \n",
       "\n",
       "   Partner_Yes  Dependents_Yes  PhoneService_Yes  \\\n",
       "0          1.0             0.0               0.0   \n",
       "1          0.0             0.0               1.0   \n",
       "2          0.0             0.0               1.0   \n",
       "3          0.0             0.0               0.0   \n",
       "4          0.0             0.0               1.0   \n",
       "\n",
       "   MultipleLines_No phone service  ...  StreamingTV_No internet service  \\\n",
       "0                             1.0  ...                              0.0   \n",
       "1                             0.0  ...                              0.0   \n",
       "2                             0.0  ...                              0.0   \n",
       "3                             1.0  ...                              0.0   \n",
       "4                             0.0  ...                              0.0   \n",
       "\n",
       "   StreamingTV_Yes  StreamingMovies_No internet service  StreamingMovies_Yes  \\\n",
       "0              0.0                                  0.0                  0.0   \n",
       "1              0.0                                  0.0                  0.0   \n",
       "2              0.0                                  0.0                  0.0   \n",
       "3              0.0                                  0.0                  0.0   \n",
       "4              0.0                                  0.0                  0.0   \n",
       "\n",
       "   Contract_One year  Contract_Two year  PaperlessBilling_Yes  \\\n",
       "0                0.0                0.0                   1.0   \n",
       "1                1.0                0.0                   0.0   \n",
       "2                0.0                0.0                   1.0   \n",
       "3                1.0                0.0                   0.0   \n",
       "4                0.0                0.0                   1.0   \n",
       "\n",
       "   PaymentMethod_Credit card (automatic)  PaymentMethod_Electronic check  \\\n",
       "0                                    0.0                             1.0   \n",
       "1                                    0.0                             0.0   \n",
       "2                                    0.0                             0.0   \n",
       "3                                    0.0                             0.0   \n",
       "4                                    0.0                             1.0   \n",
       "\n",
       "   PaymentMethod_Mailed check  \n",
       "0                         0.0  \n",
       "1                         1.0  \n",
       "2                         1.0  \n",
       "3                         0.0  \n",
       "4                         0.0  \n",
       "\n",
       "[5 rows x 31 columns]"
      ]
     },
     "execution_count": 23,
     "metadata": {},
     "output_type": "execute_result"
    }
   ],
   "source": [
    "target = 'Churn'\n",
    "\n",
    "# Creating an instance of the LabelEncoder\n",
    "label_encoder = LabelEncoder()\n",
    "\n",
    "# Applying label encoding to the columns\n",
    "encoded_data[target] = label_encoder.fit_transform(encoded_data[target])\n",
    "\n",
    "# Checking the dataframe\n",
    "encoded_data.head()"
   ]
  },
  {
   "cell_type": "markdown",
   "id": "6569aa2c",
   "metadata": {},
   "source": [
    "<br>\n",
    "\n",
    "**Moving the target variable to end of the dataframe**"
   ]
  },
  {
   "cell_type": "code",
   "execution_count": 24,
   "id": "5596f48a",
   "metadata": {},
   "outputs": [
    {
     "data": {
      "text/html": [
       "<div>\n",
       "<style scoped>\n",
       "    .dataframe tbody tr th:only-of-type {\n",
       "        vertical-align: middle;\n",
       "    }\n",
       "\n",
       "    .dataframe tbody tr th {\n",
       "        vertical-align: top;\n",
       "    }\n",
       "\n",
       "    .dataframe thead th {\n",
       "        text-align: right;\n",
       "    }\n",
       "</style>\n",
       "<table border=\"1\" class=\"dataframe\">\n",
       "  <thead>\n",
       "    <tr style=\"text-align: right;\">\n",
       "      <th></th>\n",
       "      <th>SeniorCitizen</th>\n",
       "      <th>tenure</th>\n",
       "      <th>MonthlyCharges</th>\n",
       "      <th>TotalCharges</th>\n",
       "      <th>gender_Male</th>\n",
       "      <th>Partner_Yes</th>\n",
       "      <th>Dependents_Yes</th>\n",
       "      <th>PhoneService_Yes</th>\n",
       "      <th>MultipleLines_No phone service</th>\n",
       "      <th>MultipleLines_Yes</th>\n",
       "      <th>...</th>\n",
       "      <th>StreamingTV_Yes</th>\n",
       "      <th>StreamingMovies_No internet service</th>\n",
       "      <th>StreamingMovies_Yes</th>\n",
       "      <th>Contract_One year</th>\n",
       "      <th>Contract_Two year</th>\n",
       "      <th>PaperlessBilling_Yes</th>\n",
       "      <th>PaymentMethod_Credit card (automatic)</th>\n",
       "      <th>PaymentMethod_Electronic check</th>\n",
       "      <th>PaymentMethod_Mailed check</th>\n",
       "      <th>Churn</th>\n",
       "    </tr>\n",
       "  </thead>\n",
       "  <tbody>\n",
       "    <tr>\n",
       "      <th>0</th>\n",
       "      <td>0</td>\n",
       "      <td>1</td>\n",
       "      <td>29.85</td>\n",
       "      <td>29.85</td>\n",
       "      <td>0.0</td>\n",
       "      <td>1.0</td>\n",
       "      <td>0.0</td>\n",
       "      <td>0.0</td>\n",
       "      <td>1.0</td>\n",
       "      <td>0.0</td>\n",
       "      <td>...</td>\n",
       "      <td>0.0</td>\n",
       "      <td>0.0</td>\n",
       "      <td>0.0</td>\n",
       "      <td>0.0</td>\n",
       "      <td>0.0</td>\n",
       "      <td>1.0</td>\n",
       "      <td>0.0</td>\n",
       "      <td>1.0</td>\n",
       "      <td>0.0</td>\n",
       "      <td>0</td>\n",
       "    </tr>\n",
       "    <tr>\n",
       "      <th>1</th>\n",
       "      <td>0</td>\n",
       "      <td>34</td>\n",
       "      <td>56.95</td>\n",
       "      <td>1889.50</td>\n",
       "      <td>1.0</td>\n",
       "      <td>0.0</td>\n",
       "      <td>0.0</td>\n",
       "      <td>1.0</td>\n",
       "      <td>0.0</td>\n",
       "      <td>0.0</td>\n",
       "      <td>...</td>\n",
       "      <td>0.0</td>\n",
       "      <td>0.0</td>\n",
       "      <td>0.0</td>\n",
       "      <td>1.0</td>\n",
       "      <td>0.0</td>\n",
       "      <td>0.0</td>\n",
       "      <td>0.0</td>\n",
       "      <td>0.0</td>\n",
       "      <td>1.0</td>\n",
       "      <td>0</td>\n",
       "    </tr>\n",
       "    <tr>\n",
       "      <th>2</th>\n",
       "      <td>0</td>\n",
       "      <td>2</td>\n",
       "      <td>53.85</td>\n",
       "      <td>108.15</td>\n",
       "      <td>1.0</td>\n",
       "      <td>0.0</td>\n",
       "      <td>0.0</td>\n",
       "      <td>1.0</td>\n",
       "      <td>0.0</td>\n",
       "      <td>0.0</td>\n",
       "      <td>...</td>\n",
       "      <td>0.0</td>\n",
       "      <td>0.0</td>\n",
       "      <td>0.0</td>\n",
       "      <td>0.0</td>\n",
       "      <td>0.0</td>\n",
       "      <td>1.0</td>\n",
       "      <td>0.0</td>\n",
       "      <td>0.0</td>\n",
       "      <td>1.0</td>\n",
       "      <td>1</td>\n",
       "    </tr>\n",
       "    <tr>\n",
       "      <th>3</th>\n",
       "      <td>0</td>\n",
       "      <td>45</td>\n",
       "      <td>42.30</td>\n",
       "      <td>1840.75</td>\n",
       "      <td>1.0</td>\n",
       "      <td>0.0</td>\n",
       "      <td>0.0</td>\n",
       "      <td>0.0</td>\n",
       "      <td>1.0</td>\n",
       "      <td>0.0</td>\n",
       "      <td>...</td>\n",
       "      <td>0.0</td>\n",
       "      <td>0.0</td>\n",
       "      <td>0.0</td>\n",
       "      <td>1.0</td>\n",
       "      <td>0.0</td>\n",
       "      <td>0.0</td>\n",
       "      <td>0.0</td>\n",
       "      <td>0.0</td>\n",
       "      <td>0.0</td>\n",
       "      <td>0</td>\n",
       "    </tr>\n",
       "    <tr>\n",
       "      <th>4</th>\n",
       "      <td>0</td>\n",
       "      <td>2</td>\n",
       "      <td>70.70</td>\n",
       "      <td>151.65</td>\n",
       "      <td>0.0</td>\n",
       "      <td>0.0</td>\n",
       "      <td>0.0</td>\n",
       "      <td>1.0</td>\n",
       "      <td>0.0</td>\n",
       "      <td>0.0</td>\n",
       "      <td>...</td>\n",
       "      <td>0.0</td>\n",
       "      <td>0.0</td>\n",
       "      <td>0.0</td>\n",
       "      <td>0.0</td>\n",
       "      <td>0.0</td>\n",
       "      <td>1.0</td>\n",
       "      <td>0.0</td>\n",
       "      <td>1.0</td>\n",
       "      <td>0.0</td>\n",
       "      <td>1</td>\n",
       "    </tr>\n",
       "  </tbody>\n",
       "</table>\n",
       "<p>5 rows × 31 columns</p>\n",
       "</div>"
      ],
      "text/plain": [
       "   SeniorCitizen  tenure  MonthlyCharges  TotalCharges  gender_Male  \\\n",
       "0              0       1           29.85         29.85          0.0   \n",
       "1              0      34           56.95       1889.50          1.0   \n",
       "2              0       2           53.85        108.15          1.0   \n",
       "3              0      45           42.30       1840.75          1.0   \n",
       "4              0       2           70.70        151.65          0.0   \n",
       "\n",
       "   Partner_Yes  Dependents_Yes  PhoneService_Yes  \\\n",
       "0          1.0             0.0               0.0   \n",
       "1          0.0             0.0               1.0   \n",
       "2          0.0             0.0               1.0   \n",
       "3          0.0             0.0               0.0   \n",
       "4          0.0             0.0               1.0   \n",
       "\n",
       "   MultipleLines_No phone service  MultipleLines_Yes  ...  StreamingTV_Yes  \\\n",
       "0                             1.0                0.0  ...              0.0   \n",
       "1                             0.0                0.0  ...              0.0   \n",
       "2                             0.0                0.0  ...              0.0   \n",
       "3                             1.0                0.0  ...              0.0   \n",
       "4                             0.0                0.0  ...              0.0   \n",
       "\n",
       "   StreamingMovies_No internet service  StreamingMovies_Yes  \\\n",
       "0                                  0.0                  0.0   \n",
       "1                                  0.0                  0.0   \n",
       "2                                  0.0                  0.0   \n",
       "3                                  0.0                  0.0   \n",
       "4                                  0.0                  0.0   \n",
       "\n",
       "   Contract_One year  Contract_Two year  PaperlessBilling_Yes  \\\n",
       "0                0.0                0.0                   1.0   \n",
       "1                1.0                0.0                   0.0   \n",
       "2                0.0                0.0                   1.0   \n",
       "3                1.0                0.0                   0.0   \n",
       "4                0.0                0.0                   1.0   \n",
       "\n",
       "   PaymentMethod_Credit card (automatic)  PaymentMethod_Electronic check  \\\n",
       "0                                    0.0                             1.0   \n",
       "1                                    0.0                             0.0   \n",
       "2                                    0.0                             0.0   \n",
       "3                                    0.0                             0.0   \n",
       "4                                    0.0                             1.0   \n",
       "\n",
       "   PaymentMethod_Mailed check  Churn  \n",
       "0                         0.0      0  \n",
       "1                         1.0      0  \n",
       "2                         1.0      1  \n",
       "3                         0.0      0  \n",
       "4                         0.0      1  \n",
       "\n",
       "[5 rows x 31 columns]"
      ]
     },
     "execution_count": 24,
     "metadata": {},
     "output_type": "execute_result"
    }
   ],
   "source": [
    "# Moving the Churn column\n",
    "column = encoded_data.pop('Churn')\n",
    "encoded_data['Churn'] = column\n",
    "\n",
    "# Viewing the dataframe\n",
    "encoded_data.head()"
   ]
  },
  {
   "cell_type": "markdown",
   "id": "3ac8e2cb",
   "metadata": {},
   "source": [
    "## **Feature Scaling**\n",
    "\n",
    "Scaling numerical features can potentially improve the performance of machine learning models, especially if the algorithm used is sensitive to the scale of input features.\n",
    "\n",
    "Standardizing or normalizing numerical features can make their magnitudes more consistent, allowing the model to learn more effectively and converge faster during training.\n",
    "\n",
    "The three numerical features will therefore be scaled before proceeding to the model training"
   ]
  },
  {
   "cell_type": "code",
   "execution_count": 25,
   "id": "06381df4",
   "metadata": {},
   "outputs": [],
   "source": [
    "# The numerical features\n",
    "num_features = ['tenure', 'MonthlyCharges', 'TotalCharges']\n",
    "\n",
    "# Initialize the StandardScaler\n",
    "scaler = StandardScaler()\n",
    "\n",
    "# Fit and transform the numerical features\n",
    "encoded_data[num_features] = scaler.fit_transform(encoded_data[num_features])"
   ]
  },
  {
   "cell_type": "markdown",
   "id": "f8032220",
   "metadata": {},
   "source": [
    "# **MODEL TRAINING**"
   ]
  },
  {
   "cell_type": "markdown",
   "id": "ecb5a777",
   "metadata": {},
   "source": [
    "## **Splitting the Dataset**\n",
    "\n",
    "To effectively evaluate the machine learning model's performance, a portion of the dataset will be set aside for testing. Given the extensive number of features resulting from data wrangling, it is essential to have an ample number of observations for robust model training.\n",
    "\n",
    "\n",
    "Consequently, 80% of the dataset will be allocated to the training set, allowing the model to learn from a diverse range of examples. The remaining 20% will be dedicated to evaluating the model's performance, providing a separate dataset to assess how well the model generalizes to unseen data.\n",
    "\n",
    "\n",
    "This approach to partitioning seeks to find a balance between model complexity and generalization, ensuring a thorough evaluation of the model's effectiveness in predicting churn."
   ]
  },
  {
   "cell_type": "markdown",
   "id": "4830fb8e",
   "metadata": {},
   "source": [
    "#### **Train-test split**"
   ]
  },
  {
   "cell_type": "code",
   "execution_count": 26,
   "id": "d29f6d9d",
   "metadata": {},
   "outputs": [],
   "source": [
    "# target variable\n",
    "target = encoded_data['Churn']\n",
    "\n",
    "# features\n",
    "features = encoded_data.drop('Churn', axis=1)\n",
    "\n",
    "# train-test split\n",
    "X_train, X_test, y_train, y_test = train_test_split(features, target, test_size=0.2, random_state=42)"
   ]
  },
  {
   "cell_type": "markdown",
   "id": "6cf641a1",
   "metadata": {},
   "source": [
    "## **Selecting Machine Learning Models**\n",
    "\n",
    "In the churn prediction task, a comprehensive evaluation of various machine learning models will be conducted. This process involves training, tuning, and comparing the performance of three specific models, namely `Logistic Regression`, `RandomForest Classifier`, and `Naive Bayes Classifier`.\n",
    "\n",
    "By employing this diverse set of algorithms, we aim to identify the model that exhibits the highest predictive accuracy and is well-suited for addressing the specific challenges posed by the churn prediction problem. This comparative analysis will involve optimizing hyperparameters for each model to ensure their optimal performance on the given dataset.\n",
    "\n",
    "The ultimate goal is to make an informed selection based on the model that demonstrates superior predictive capabilities and generalizability in identifying potential instances of customer churn."
   ]
  },
  {
   "cell_type": "markdown",
   "id": "1afcc939",
   "metadata": {},
   "source": [
    "### **Training the Models**"
   ]
  },
  {
   "cell_type": "markdown",
   "id": "e3b5f504",
   "metadata": {},
   "source": [
    "#### **Logistic Regression**\n",
    "\n",
    "\n",
    "Logistic Regression is a widely used binary classification algorithm that models the probability of an instance belonging to a particular class. Despite its simplicity, it's effective for linearly separable problems and provides interpretable results.\n",
    "\n",
    "It is particularly suitable when the relationship between features and the likelihood of churn is assumed to be linear. It's easy to implement, interpretable, and serves as a good baseline model."
   ]
  },
  {
   "cell_type": "code",
   "execution_count": 27,
   "id": "98a824bd",
   "metadata": {},
   "outputs": [
    {
     "name": "stdout",
     "output_type": "stream",
     "text": [
      "Logistic Regression Accuracy:  0.7510402972869461\n",
      "Logistic Regression Precision:  0.6871165644171779\n",
      "Logistic Regression Recall Score:  0.6005361930294906\n",
      "Logistic Regression F1 Score:  0.8178460899951621\n"
     ]
    }
   ],
   "source": [
    "# Initializing the Logistic Regression model\n",
    "logreg_classifier = LogisticRegression()\n",
    "\n",
    "# Model training\n",
    "logreg_classifier.fit(X_train, y_train)\n",
    "\n",
    "# Predictions\n",
    "logreg_model_predictions = logreg_classifier.predict(X_test)\n",
    "\n",
    "# Evaluations\n",
    "logreg_accuracy = balanced_accuracy_score(y_test, logreg_model_predictions)\n",
    "logreg_precision_score = precision_score(y_test, logreg_model_predictions)\n",
    "logreg_recall_score = recall_score(y_test, logreg_model_predictions)\n",
    "logreg_f1_score = f1_score(y_test, logreg_model_predictions,\n",
    "                           average='weighted')\n",
    "\n",
    "# Printing the result\n",
    "print(\"Logistic Regression Accuracy: \", logreg_accuracy)\n",
    "print(\"Logistic Regression Precision: \", logreg_precision_score)\n",
    "print(\"Logistic Regression Recall Score: \", logreg_recall_score)\n",
    "print(\"Logistic Regression F1 Score: \", logreg_f1_score)"
   ]
  },
  {
   "cell_type": "markdown",
   "id": "4a866657",
   "metadata": {},
   "source": [
    "#### **Naive Bayes Classifier**\n",
    "\n",
    "The Naive Bayes classifier is a robust algorithm that leverages probabilistic principles to determine the most likely class for a given instance. It calculates the probability of each class based on the features and assumes independence between them.\n",
    "\n",
    "Naive Bayes is advantageous in high-dimensional spaces and proves beneficial when the classification boundary between churn and non-churn instances is not linear. Its effectiveness extends to both numerical and categorical features, making it a versatile choice for various types of data."
   ]
  },
  {
   "cell_type": "code",
   "execution_count": 28,
   "id": "bda7fe92",
   "metadata": {},
   "outputs": [
    {
     "name": "stdout",
     "output_type": "stream",
     "text": [
      "NB Classifier Accuracy: 0.7383691140393553\n",
      "NB Classifier Precision: 0.43586387434554974\n",
      "NB Classifier Recall Score:  0.8927613941018767\n",
      "NB Classifier F1 Score:  0.6843209880651226\n"
     ]
    }
   ],
   "source": [
    "# Initialize the Naive Bayes Classifier model\n",
    "nb_classifier = GaussianNB()\n",
    "\n",
    "# Training the model\n",
    "nb_classifier.fit(X_train, y_train)\n",
    "\n",
    "# Predictions\n",
    "nb_classifier_predictions = nb_classifier.predict(X_test)\n",
    "\n",
    "# Evaluations\n",
    "nb_classifier_accuracy = balanced_accuracy_score(y_test,\n",
    "                                                 nb_classifier_predictions)\n",
    "nb_classifier_precision_score = precision_score(y_test,\n",
    "                                               nb_classifier_predictions)\n",
    "nb_classifier_recall_score = recall_score(y_test, nb_classifier_predictions)\n",
    "nb_classifier_f1_score = f1_score(y_test, nb_classifier_predictions,\n",
    "                             average='weighted')\n",
    "\n",
    "# Printing the result\n",
    "print(\"NB Classifier Accuracy:\", nb_classifier_accuracy)\n",
    "print(\"NB Classifier Precision:\", nb_classifier_precision_score)\n",
    "print(\"NB Classifier Recall Score: \", nb_classifier_recall_score)\n",
    "print(\"NB Classifier F1 Score: \", nb_classifier_f1_score)"
   ]
  },
  {
   "cell_type": "markdown",
   "id": "b7bfee86",
   "metadata": {},
   "source": [
    "#### **Random Forest Classifier**\n",
    "\n",
    "Random Forest stands out as an ensemble learning technique that generates numerous decision trees in the training phase. By combining their predictions, it produces a more precise and resilient result.\n",
    "\n",
    "This method is particularly adept at grasping intricate relationships and interactions among features. Its strength lies in its ability to mitigate overfitting, effectively manage non-linear relationships, and accommodate both numerical and categorical features."
   ]
  },
  {
   "cell_type": "code",
   "execution_count": 29,
   "id": "864ff59b",
   "metadata": {},
   "outputs": [
    {
     "name": "stdout",
     "output_type": "stream",
     "text": [
      "Random Forest Classifier Accuracy: 0.6883597979442484\n",
      "Random Forest Classifier Precision: 0.651685393258427\n",
      "Random Forest Classifier Recall Score:  0.46648793565683644\n",
      "Random Forest Classifier F1 Score:  0.7806418392258607\n"
     ]
    }
   ],
   "source": [
    "# Initializing Random Forest Classifier model\n",
    "rf_classifier = RandomForestClassifier(random_state=42)\n",
    "\n",
    "# Training the model\n",
    "rf_classifier.fit(X_train, y_train)\n",
    "\n",
    "# Predictions\n",
    "rf_classifier_predictions = rf_classifier.predict(X_test)\n",
    "\n",
    "# Evaluations\n",
    "rf_classifier_accuracy = balanced_accuracy_score(y_test,\n",
    "                                                 rf_classifier_predictions)\n",
    "rf_classifier_precision_score = precision_score(y_test,\n",
    "                                                rf_classifier_predictions)\n",
    "rf_classifier_recall_score = recall_score(y_test,\n",
    "                                          rf_classifier_predictions)\n",
    "rf_classifier_f1_score = f1_score(y_test,\n",
    "                                  rf_classifier_predictions,\n",
    "                                  average='weighted')\n",
    "\n",
    "# Printing the result\n",
    "print(\"Random Forest Classifier Accuracy:\", rf_classifier_accuracy)\n",
    "print(\"Random Forest Classifier Precision:\", rf_classifier_precision_score)\n",
    "print(\"Random Forest Classifier Recall Score: \", rf_classifier_recall_score)\n",
    "print(\"Random Forest Classifier F1 Score: \", rf_classifier_f1_score)"
   ]
  },
  {
   "cell_type": "markdown",
   "id": "7cef1111",
   "metadata": {},
   "source": [
    "The results reveal the `balanced accuracy`, `precision`, `recall`, and `F1 score` metrics for three distinct machine learning models - Logistic Regression, Random Forest Classifier, and Naive Bayes Classifier. These evaluations are conducted for churn prediction.\n",
    "\n",
    "<br>\n",
    "\n",
    "**Balanced Accuracy**\n",
    "\n",
    "The `Logistic Regression` model exhibits a `balanced accuracy` of `75%`, signifying its ability to accurately classify instances from both the 'churn' and 'non-churn' classes. In comparison, the `Random Forest Classifier` achieves a `balanced accuracy` of `68.8%`, while the `Naive Bayes Classifier` attains a score of `73.83%`, indicating their respective classification performance.\n",
    "\n",
    "<br>\n",
    "\n",
    "**Precision**\n",
    "\n",
    "In terms of precision, the `Logistic Regression` model demonstrates a precision score of `69%`, denoting that when it predicts churn, it is `accurate 69% of the time`. The `Random Forest Classifier` achieves a precision of `68%`, and the `Naive Bayes Classifier` achieves a `precision` of `44%`, indicating their precision in correctly identifying churn instances.\n",
    "\n",
    "<br>\n",
    "\n",
    "**Recall**\n",
    "\n",
    "The `Logistic Regression` model's `recall score` of `60%` implies its capability to identify approximately 60% of all actual churn cases, capturing a significant portion of total churn instances. Conversely, the `Random Forest Classifier` captures around `47%` of actual churn cases, while the `Naive Bayes Classifier` excels with a recall score of 89.3%, suggesting its effectiveness in capturing a high proportion of actual churn instances."
   ]
  },
  {
   "cell_type": "markdown",
   "id": "3a66e577",
   "metadata": {},
   "source": [
    "<br>\n",
    "\n",
    "### **Model Tuning**\n",
    "\n",
    "The observed class distribution, with 73.5% in one class and 26.5% in the other, indicates a noticeable class imbalance. Such an imbalance may exert a significant influence on model performance, particularly when dealing with infrequent occurrences such as churn.\n",
    "\n",
    "In scenarios of imbalanced datasets, `precision`, `recall`, and `F1 scores` offer a more nuanced evaluation of model effectiveness. These metrics take into account not only false positives but also false negatives, providing a comprehensive assessment of a model's performance in handling both positive and negative instances.\n",
    "\n",
    "Addressing the class imbalance in the dataset has the potential to enhance model performance. Balancing the distribution of classes could contribute to a more accurate and reliable evaluation of the model's predictive capabilities, particularly in scenarios where rare events, such as instances of churn, play a crucial role in decision-making."
   ]
  },
  {
   "cell_type": "markdown",
   "id": "a7e78bea",
   "metadata": {},
   "source": [
    "### **Balancing the Dataset using SMOTE for Resampling**\n",
    "\n",
    "\n",
    "In imbalanced datasets, where one class has significantly fewer instances than the other, machine learning models might be biased toward the majority class. SMOTE - which stands for Synthetic Minority Over-sampling Technique -  mitigates this issue by creating synthetic samples for the minority class, thus achieving a more balanced distribution.\n",
    "\n",
    "SMOTE will be applied to the dataset to balance the class distribution, then the models will be trained on the balanced dataset and the performance will be observed."
   ]
  },
  {
   "cell_type": "markdown",
   "id": "448ca11b",
   "metadata": {},
   "source": [
    "#### ***Balancing the Dataset using Resampling***"
   ]
  },
  {
   "cell_type": "code",
   "execution_count": 30,
   "id": "b1f31317",
   "metadata": {},
   "outputs": [],
   "source": [
    "# Features of data to be balanced\n",
    "balanced_data_features = data.drop('Churn', axis=1)\n",
    "\n",
    "# Target of data to be balanced\n",
    "balanced_data_target = data['Churn']\n",
    "\n",
    "# Select categorical columns\n",
    "categorical_columns = balanced_data_features.select_dtypes(include=['object']).columns.tolist()\n",
    "\n",
    "# One-hot encode categorical columns\n",
    "encoder = OneHotEncoder()\n",
    "balanced_data_features_encoded = pd.get_dummies(balanced_data_features, columns=categorical_columns)\n",
    "\n",
    "# Initialize SMOTE\n",
    "smote = SMOTE(random_state=42)\n",
    "\n",
    "# Apply SMOTE to the encoded features and target\n",
    "features_resampled, target_resampled = smote.fit_resample(balanced_data_features_encoded, balanced_data_target)\n"
   ]
  },
  {
   "cell_type": "markdown",
   "id": "e254194d",
   "metadata": {},
   "source": [
    "#### **Visualizing the Balanced dataset**"
   ]
  },
  {
   "cell_type": "code",
   "execution_count": 31,
   "id": "c1e97f43",
   "metadata": {},
   "outputs": [
    {
     "name": "stdout",
     "output_type": "stream",
     "text": [
      "\n",
      "\n",
      "\n"
     ]
    },
    {
     "data": {
      "image/png": "[encoded data removed]",
      "text/plain": [
       "<Figure size 864x360 with 2 Axes>"
      ]
     },
     "metadata": {
      "needs_background": "light"
     },
     "output_type": "display_data"
    }
   ],
   "source": [
    "# Creating a space before the plot\n",
    "print('\\n\\n')\n",
    "\n",
    "# Creating a figure with two subplots\n",
    "fig, (ax1, ax2) = plt.subplots(nrows=1, ncols=2, figsize=(12, 5))\n",
    "\n",
    "# Adjusting the space betweeen the subplots\n",
    "plt.subplots_adjust(wspace=0.8)\n",
    "\n",
    "# Defining the colors for each class\n",
    "colors = ['skyblue', 'salmon', 'lightgreen']\n",
    "\n",
    "# Number of observations in each category\n",
    "data = target_resampled.value_counts()\n",
    "\n",
    "# Creating a pie chart.\n",
    "labels = [f'{label} - {np.round(data[label] / data.sum() * 100, 1)}%' for label in data.index]\n",
    "ax1.pie(data, labels=labels, wedgeprops = {'linewidth' : 3, 'edgecolor' : 'white'},\n",
    "        colors=colors)\n",
    "ax1.set_title('Percentage of Customer Churn')\n",
    "\n",
    "# Creating a bar plot.\n",
    "ax2 = sns.barplot(data=data.to_frame(), y='Churn', x=data.index, palette=colors)\n",
    "\n",
    "# Setting the label and title\n",
    "ax2.set(xlabel=None, ylabel='Number of Customers')\n",
    "ax2.bar_label(container=ax2.containers[0], labels=target_resampled.value_counts())\n",
    "ax2.spines[['right', 'top']].set_visible(False)\n",
    "ax2.set_title('Total number of Customers')\n",
    "plt.savefig(f'images/balanced_data.png')\n",
    "\n",
    "# Displaying the plot\n",
    "plt.show()"
   ]
  },
  {
   "cell_type": "markdown",
   "id": "cfed377f",
   "metadata": {},
   "source": [
    "<br>\n",
    "\n",
    "### **Training the Models on the Balanced Dataset**\n",
    "\n",
    "\n",
    "The existing code for training the baseline models will be reused, with the sole modification being the replacement of input data to accommodate the balanced dataset.\n",
    "\n",
    "This ensures that the models are assessed under comparable conditions, with adjustments made solely to the input data for the purpose of evaluating their performance on a balanced dataset."
   ]
  },
  {
   "cell_type": "markdown",
   "id": "d4435f8c",
   "metadata": {},
   "source": [
    "#### **Encoding the Target Variable of the Balanced Dataset**"
   ]
  },
  {
   "cell_type": "code",
   "execution_count": 32,
   "id": "f6313772",
   "metadata": {},
   "outputs": [],
   "source": [
    "# Creates an instance of the LabelEncoder\n",
    "label_encoder = LabelEncoder()\n",
    "\n",
    "# Applies label encoding to the columns\n",
    "target_resampled = label_encoder.fit_transform(target_resampled)"
   ]
  },
  {
   "cell_type": "markdown",
   "id": "760a339f",
   "metadata": {},
   "source": [
    "#### **train-test split of the Resampled Dataset**"
   ]
  },
  {
   "cell_type": "code",
   "execution_count": 33,
   "id": "5422c89e",
   "metadata": {},
   "outputs": [],
   "source": [
    "# train-test split\n",
    "X_train_resampled, X_test_resampled, y_train_resampled, y_test_resampled = train_test_split(features_resampled,\n",
    "                                                                                                target_resampled,\n",
    "                                                                                                test_size=0.2,\n",
    "                                                                                                random_state=42)"
   ]
  },
  {
   "cell_type": "markdown",
   "id": "0527bc43",
   "metadata": {},
   "source": [
    "#### **Logistic Regression - Balanced Dataset**"
   ]
  },
  {
   "cell_type": "code",
   "execution_count": 34,
   "id": "ebf0936a",
   "metadata": {},
   "outputs": [
    {
     "name": "stdout",
     "output_type": "stream",
     "text": [
      "Logistic Regression Accuracy (Balanced Dataset):  0.8610532487915827\n",
      "Logistic Regression Precision (Balanced Dataset):  0.8741396263520157\n",
      "Logistic Regression Recall Score (Balanced Dataset):  0.8474737845567207\n",
      "Logistic Regression F1 Score (Balanced Dataset):  0.8608654090498843\n"
     ]
    }
   ],
   "source": [
    "# Initializing the Logistic Regression model\n",
    "logreg_classifier_tuned = LogisticRegression(max_iter=5000)\n",
    "\n",
    "# Model training\n",
    "logreg_classifier_tuned.fit(X_train_resampled, y_train_resampled)\n",
    "\n",
    "# Predictions\n",
    "logreg_model_tuned_predictions = logreg_classifier_tuned.predict(X_test_resampled)\n",
    "\n",
    "# Evaluations\n",
    "logreg_accuracy_2 = balanced_accuracy_score(y_test_resampled,\n",
    "                                            logreg_model_tuned_predictions)\n",
    "logreg_precision_score_2 = precision_score(y_test_resampled,\n",
    "                                           logreg_model_tuned_predictions)\n",
    "logreg_recall_score_2 = recall_score(y_test_resampled,\n",
    "                                     logreg_model_tuned_predictions)\n",
    "logreg_f1_score_2 = f1_score(y_test_resampled, logreg_model_tuned_predictions,\n",
    "                           average='weighted')\n",
    "\n",
    "# Printing the result\n",
    "print(\"Logistic Regression Accuracy (Balanced Dataset): \", logreg_accuracy_2)\n",
    "print(\"Logistic Regression Precision (Balanced Dataset): \", logreg_precision_score_2)\n",
    "print(\"Logistic Regression Recall Score (Balanced Dataset): \", logreg_recall_score_2)\n",
    "print(\"Logistic Regression F1 Score (Balanced Dataset): \", logreg_f1_score_2)"
   ]
  },
  {
   "cell_type": "markdown",
   "id": "b1719690",
   "metadata": {},
   "source": [
    "#### **Naive Bayes Classifier - Balanced Dataset**"
   ]
  },
  {
   "cell_type": "code",
   "execution_count": 35,
   "id": "3c3d9643",
   "metadata": {},
   "outputs": [
    {
     "name": "stdout",
     "output_type": "stream",
     "text": [
      "NB Classifier Accuracy (Balanced Dataset): 0.797912101352998\n",
      "NB Classifier Precision (Balanced Dataset): 0.7604938271604939\n",
      "NB Classifier Recall Score (Balanced Dataset):  0.880838894184938\n",
      "NB Classifier F1 Score (Balanced Dataset):  0.7975100319427232\n"
     ]
    }
   ],
   "source": [
    "# Initialize the Naive Bayes Classifier model\n",
    "nb_classifier_tuned = GaussianNB()\n",
    "\n",
    "# Training the model\n",
    "nb_classifier_tuned.fit(X_train_resampled, y_train_resampled)\n",
    "\n",
    "# Predictions\n",
    "nb_classifier_tuned_predictions = nb_classifier_tuned.predict(X_test_resampled)\n",
    "\n",
    "# Evaluations\n",
    "nb_classifier_accuracy_tuned = balanced_accuracy_score(y_test_resampled,\n",
    "                                                 nb_classifier_tuned_predictions)\n",
    "nb_classifier_precision_score_tuned = precision_score(y_test_resampled,\n",
    "                                               nb_classifier_tuned_predictions)\n",
    "nb_classifier_recall_score_tuned = recall_score(y_test_resampled,\n",
    "                                          nb_classifier_tuned_predictions)\n",
    "nb_classifier_f1_score_tuned = f1_score(y_test_resampled,\n",
    "                                  nb_classifier_tuned_predictions,\n",
    "                                  average='weighted')\n",
    "\n",
    "# Printing the result\n",
    "print(\"NB Classifier Accuracy (Balanced Dataset):\", nb_classifier_accuracy_tuned)\n",
    "print(\"NB Classifier Precision (Balanced Dataset):\", nb_classifier_precision_score_tuned)\n",
    "print(\"NB Classifier Recall Score (Balanced Dataset): \", nb_classifier_recall_score_tuned)\n",
    "print(\"NB Classifier F1 Score (Balanced Dataset): \", nb_classifier_f1_score_tuned)"
   ]
  },
  {
   "cell_type": "markdown",
   "id": "e681d04f",
   "metadata": {},
   "source": [
    "#### **Random Forest Classifier - Balanced Dataset**"
   ]
  },
  {
   "cell_type": "code",
   "execution_count": 36,
   "id": "744fb598",
   "metadata": {},
   "outputs": [
    {
     "name": "stdout",
     "output_type": "stream",
     "text": [
      "Random Forest Classifier Accuracy (Balanced Dataset): 0.8573054511129017\n",
      "Random Forest Classifier Precision (Balanced Dataset): 0.8768768768768769\n",
      "Random Forest Classifier Recall Score (Balanced Dataset):  0.8350810295519543\n",
      "Random Forest Classifier F1 Score (Balanced Dataset):  0.8569681177028201\n"
     ]
    }
   ],
   "source": [
    "# Initializing Random Forest Classifier model\n",
    "rf_classifier_tuned = RandomForestClassifier(random_state=42)\n",
    "\n",
    "# Training the model\n",
    "rf_classifier_tuned.fit(X_train_resampled, y_train_resampled)\n",
    "\n",
    "# Predictions\n",
    "rf_classifier_tuned_predictions = rf_classifier_tuned.predict(X_test_resampled)\n",
    "\n",
    "# Evaluations\n",
    "rf_classifier_accuracy_tuned = balanced_accuracy_score(y_test_resampled,\n",
    "                                                 rf_classifier_tuned_predictions)\n",
    "rf_classifier_precision_score_tuned = precision_score(y_test_resampled,\n",
    "                                                rf_classifier_tuned_predictions)\n",
    "rf_classifier_recall_score_tuned = recall_score(y_test_resampled,\n",
    "                                          rf_classifier_tuned_predictions)\n",
    "rf_classifier_f1_score_tuned = f1_score(y_test_resampled,\n",
    "                                  rf_classifier_tuned_predictions,\n",
    "                                  average='weighted')\n",
    "\n",
    "# Printing the result\n",
    "print(\"Random Forest Classifier Accuracy (Balanced Dataset):\", rf_classifier_accuracy_tuned)\n",
    "print(\"Random Forest Classifier Precision (Balanced Dataset):\", rf_classifier_precision_score_tuned)\n",
    "print(\"Random Forest Classifier Recall Score (Balanced Dataset): \", rf_classifier_recall_score_tuned)\n",
    "print(\"Random Forest Classifier F1 Score (Balanced Dataset): \", rf_classifier_f1_score_tuned)"
   ]
  },
  {
   "cell_type": "markdown",
   "id": "53b5f1f2",
   "metadata": {},
   "source": [
    "# **MODEL EVALUATION**\n",
    "\n",
    "\n",
    "Given the imbalanced nature of the telco dataset, where `the prediction of churn is the primary task`, it's important to select evaluation metrics that provide insights into the model's performance, especially in identifying instances of the minority class (churn).\n",
    "\n",
    "As a result of the imbalanced datasets, it's crucial to prioritize metrics such as `Balanced_accuracy`, `Precision`, `Recall`, and the `F1 score`, as they focus on the challenges associated with minority class prediction."
   ]
  },
  {
   "cell_type": "markdown",
   "id": "254de18a",
   "metadata": {},
   "source": [
    "### **Balanced Accuracy**\n",
    "\n",
    "The `balanced accuracy score` is a metric used to assess the performance of a classification model, especially in the context of imbalanced datasets. It provides a balanced view of the classification accuracy by considering the proportion of correctly classified instances for each class.\n",
    "\n",
    "A higher `balanced accuracy score` suggests better overall performance in terms of correctly classifying instances from both the majority and minority classes."
   ]
  },
  {
   "cell_type": "markdown",
   "id": "3986a824",
   "metadata": {},
   "source": [
    "### **Precision**\n",
    "\n",
    "In the context of the present task involving churn prediction, `precision` is an essential evaluation metric that quantifies the ability of the classifier to avoid incorrectly labeling instances as `churn` when they are actually `non-churn`.\n",
    "\n",
    "It is concerned with the percentage of instances predicted as churn that are genuinely indicative of customer churn.\n",
    "\n",
    "The best possible `precision` value is `1`, indicating that all positive predictions made by the model are correct (no false positives). This implies that every time the model `predicts churn`, it is indeed a case of `actual churn` [8]."
   ]
  },
  {
   "cell_type": "markdown",
   "id": "0f7893bf",
   "metadata": {},
   "source": [
    "### **Recall**\n",
    "\n",
    "`Recall` is an evaluation metric that measures the ability of the classifier to correctly identify all positive samples, specifically instances of customer churn.\n",
    "\n",
    "It quantifies the proportion of `actual churn cases` that the classifier correctly identifies. It emphasizes the model's capability to capture and recall instances of customer churn.\n",
    "\n",
    "The `best` possible `recall` value is `1`, indicating that the classifier successfully identifies all instances of churn, and there are no instances of churn that go unnoticed.\n",
    "\n",
    "A `recall` value close to 1 implies that the model effectively captures and identifies almost all instances of customer churn. This is crucial in scenarios where missing even a single instance of churn is costly or undesirable [9]."
   ]
  },
  {
   "cell_type": "markdown",
   "id": "e8d9202b",
   "metadata": {},
   "source": [
    "### **F1 Score**\n",
    "\n",
    "In the telco churn prediction, the `F1 score` serves as a composite metric that balances the trade-off between precision and recall.\n",
    "\n",
    "It combines both precision and recall into a single metric, providing a balanced assessment of a classifier's performance.\n",
    "\n",
    "The best possible F1 score is 1, indicating a perfect balance between precision and recall.\n",
    "\n",
    " A high F1 score indicates that the classifier is achieving a balance between minimizing false positives and false negatives. This is valuable in the churn prediction, where both precision and recall are critical to making accurate predictions while avoiding unnecessary interventions or missing potential churners [10]."
   ]
  },
  {
   "cell_type": "markdown",
   "id": "a757c9f8",
   "metadata": {},
   "source": [
    "### **Comparison of Model Performance**"
   ]
  },
  {
   "cell_type": "code",
   "execution_count": 37,
   "id": "59bfec5a",
   "metadata": {},
   "outputs": [],
   "source": [
    "#************************* LOGISTIC REGRESSION BASELINE MODEL *************************\n",
    "\n",
    "# Predictions\n",
    "logreg_model_predictions = logreg_classifier.predict(X_test)\n",
    "\n",
    "# Evaluations\n",
    "logreg_accuracy = balanced_accuracy_score(y_test, logreg_model_predictions)\n",
    "logreg_precision_score = precision_score(y_test, logreg_model_predictions)\n",
    "logreg_recall_score = recall_score(y_test, logreg_model_predictions)\n",
    "logreg_f1_score = f1_score(y_test, logreg_model_predictions,\n",
    "                           average='weighted')\n",
    "\n",
    "\n",
    "#************************* NAIVE BAYES CLASSIFIER BASELINE MODEL *************************\n",
    "\n",
    "# Predictions\n",
    "nb_classifier_predictions = nb_classifier.predict(X_test)\n",
    "\n",
    "# Evaluations\n",
    "nb_classifier_accuracy = balanced_accuracy_score(y_test,\n",
    "                                                 nb_classifier_predictions)\n",
    "nb_classifier_precision_score = precision_score(y_test,\n",
    "                                               nb_classifier_predictions)\n",
    "nb_classifier_recall_score = recall_score(y_test, nb_classifier_predictions)\n",
    "nb_classifier_f1_score = f1_score(y_test, nb_classifier_predictions,\n",
    "                             average='weighted')\n",
    "\n",
    "\n",
    "\n",
    "#************************* RANDOM FOREST CLASSIFIER BASELINE MODEL *************************\n",
    "\n",
    "# Predictions\n",
    "rf_classifier_predictions = rf_classifier.predict(X_test)\n",
    "\n",
    "# Evaluations\n",
    "rf_classifier_accuracy = balanced_accuracy_score(y_test,\n",
    "                                                 rf_classifier_predictions)\n",
    "rf_classifier_precision_score = precision_score(y_test,\n",
    "                                                rf_classifier_predictions)\n",
    "rf_classifier_recall_score = recall_score(y_test,\n",
    "                                          rf_classifier_predictions)\n",
    "rf_classifier_f1_score = f1_score(y_test,\n",
    "                                  rf_classifier_predictions,\n",
    "                                  average='weighted')\n",
    "\n",
    "\n",
    "#************************* LOGISTIC REGRESSION TUNED MODEL (BALANCED DATASET) *************************\n",
    "\n",
    "# Predictions\n",
    "logreg_model_tuned_predictions = logreg_classifier_tuned.predict(X_test_resampled)\n",
    "\n",
    "# Evaluations\n",
    "logreg_accuracy_2 = balanced_accuracy_score(y_test_resampled,\n",
    "                                            logreg_model_tuned_predictions)\n",
    "logreg_precision_score_2 = precision_score(y_test_resampled,\n",
    "                                           logreg_model_tuned_predictions)\n",
    "logreg_recall_score_2 = recall_score(y_test_resampled,\n",
    "                                     logreg_model_tuned_predictions)\n",
    "logreg_f1_score_2 = f1_score(y_test_resampled, logreg_model_tuned_predictions,\n",
    "                           average='weighted')\n",
    "\n",
    "\n",
    "#************************* NAIVE BAYES CLASSIFIER TUNED MODEL (BALANCED DATASET) *************************\n",
    "\n",
    "# Predictions\n",
    "nb_classifier_tuned_predictions = nb_classifier_tuned.predict(X_test_resampled)\n",
    "\n",
    "# Evaluations\n",
    "nb_classifier_accuracy_tuned = balanced_accuracy_score(y_test_resampled,\n",
    "                                                 nb_classifier_tuned_predictions)\n",
    "nb_classifier_precision_score_tuned = precision_score(y_test_resampled,\n",
    "                                               nb_classifier_tuned_predictions)\n",
    "nb_classifier_recall_score_tuned = recall_score(y_test_resampled,\n",
    "                                          nb_classifier_tuned_predictions)\n",
    "nb_classifier_f1_score_tuned = f1_score(y_test_resampled,\n",
    "                                  nb_classifier_tuned_predictions,\n",
    "                                  average='weighted')\n",
    "\n",
    "\n",
    "#************************* RANDOM FOREST CLASSIFIER TUNED MODEL (BALANCED DATASET) *************************\n",
    "\n",
    "# Predictions\n",
    "rf_classifier_tuned_predictions = rf_classifier_tuned.predict(X_test_resampled)\n",
    "\n",
    "# Evaluations\n",
    "rf_classifier_accuracy_tuned = balanced_accuracy_score(y_test_resampled,\n",
    "                                                 rf_classifier_tuned_predictions)\n",
    "rf_classifier_precision_score_tuned = precision_score(y_test_resampled,\n",
    "                                                rf_classifier_tuned_predictions)\n",
    "rf_classifier_recall_score_tuned = recall_score(y_test_resampled,\n",
    "                                          rf_classifier_tuned_predictions)\n",
    "rf_classifier_f1_score_tuned = f1_score(y_test_resampled,\n",
    "                                  rf_classifier_tuned_predictions,\n",
    "                                  average='weighted')\n"
   ]
  },
  {
   "cell_type": "markdown",
   "id": "c01ba10f",
   "metadata": {},
   "source": [
    "### **A Dataframe of the Models' performance**"
   ]
  },
  {
   "cell_type": "code",
   "execution_count": 38,
   "id": "6d70fb76",
   "metadata": {},
   "outputs": [
    {
     "data": {
      "text/html": [
       "<div>\n",
       "<style scoped>\n",
       "    .dataframe tbody tr th:only-of-type {\n",
       "        vertical-align: middle;\n",
       "    }\n",
       "\n",
       "    .dataframe tbody tr th {\n",
       "        vertical-align: top;\n",
       "    }\n",
       "\n",
       "    .dataframe thead th {\n",
       "        text-align: right;\n",
       "    }\n",
       "</style>\n",
       "<table border=\"1\" class=\"dataframe\">\n",
       "  <thead>\n",
       "    <tr style=\"text-align: right;\">\n",
       "      <th></th>\n",
       "      <th>Model</th>\n",
       "      <th>Accuracy</th>\n",
       "      <th>Precision</th>\n",
       "      <th>Recall</th>\n",
       "      <th>F1 Score</th>\n",
       "    </tr>\n",
       "  </thead>\n",
       "  <tbody>\n",
       "    <tr>\n",
       "      <th>0</th>\n",
       "      <td>Logistic Regression Baseline</td>\n",
       "      <td>0.751040</td>\n",
       "      <td>0.687117</td>\n",
       "      <td>0.600536</td>\n",
       "      <td>0.817846</td>\n",
       "    </tr>\n",
       "    <tr>\n",
       "      <th>1</th>\n",
       "      <td>Naive Bayes Baseline</td>\n",
       "      <td>0.738369</td>\n",
       "      <td>0.435864</td>\n",
       "      <td>0.892761</td>\n",
       "      <td>0.684321</td>\n",
       "    </tr>\n",
       "    <tr>\n",
       "      <th>2</th>\n",
       "      <td>Random Forest Baseline</td>\n",
       "      <td>0.688360</td>\n",
       "      <td>0.651685</td>\n",
       "      <td>0.466488</td>\n",
       "      <td>0.780642</td>\n",
       "    </tr>\n",
       "    <tr>\n",
       "      <th>3</th>\n",
       "      <td>Logistic Regression Tuned</td>\n",
       "      <td>0.861053</td>\n",
       "      <td>0.874140</td>\n",
       "      <td>0.847474</td>\n",
       "      <td>0.860865</td>\n",
       "    </tr>\n",
       "    <tr>\n",
       "      <th>4</th>\n",
       "      <td>Naive Bayes Tuned</td>\n",
       "      <td>0.797912</td>\n",
       "      <td>0.760494</td>\n",
       "      <td>0.880839</td>\n",
       "      <td>0.797510</td>\n",
       "    </tr>\n",
       "    <tr>\n",
       "      <th>5</th>\n",
       "      <td>Random Forest Tuned</td>\n",
       "      <td>0.857305</td>\n",
       "      <td>0.876877</td>\n",
       "      <td>0.835081</td>\n",
       "      <td>0.856968</td>\n",
       "    </tr>\n",
       "  </tbody>\n",
       "</table>\n",
       "</div>"
      ],
      "text/plain": [
       "                          Model  Accuracy  Precision    Recall  F1 Score\n",
       "0  Logistic Regression Baseline  0.751040   0.687117  0.600536  0.817846\n",
       "1          Naive Bayes Baseline  0.738369   0.435864  0.892761  0.684321\n",
       "2        Random Forest Baseline  0.688360   0.651685  0.466488  0.780642\n",
       "3     Logistic Regression Tuned  0.861053   0.874140  0.847474  0.860865\n",
       "4             Naive Bayes Tuned  0.797912   0.760494  0.880839  0.797510\n",
       "5           Random Forest Tuned  0.857305   0.876877  0.835081  0.856968"
      ]
     },
     "metadata": {},
     "output_type": "display_data"
    }
   ],
   "source": [
    "# Create a dictionary with the evaluation results\n",
    "result_data = {\n",
    "    'Model': ['Logistic Regression Baseline', 'Naive Bayes Baseline', 'Random Forest Baseline',\n",
    "              'Logistic Regression Tuned', 'Naive Bayes Tuned', 'Random Forest Tuned'],\n",
    "    'Accuracy': [logreg_accuracy, nb_classifier_accuracy, rf_classifier_accuracy,\n",
    "                  logreg_accuracy_2, nb_classifier_accuracy_tuned, rf_classifier_accuracy_tuned],\n",
    "    'Precision': [logreg_precision_score, nb_classifier_precision_score, rf_classifier_precision_score,\n",
    "                  logreg_precision_score_2, nb_classifier_precision_score_tuned, rf_classifier_precision_score_tuned],\n",
    "    'Recall': [logreg_recall_score, nb_classifier_recall_score, rf_classifier_recall_score,\n",
    "               logreg_recall_score_2, nb_classifier_recall_score_tuned, rf_classifier_recall_score_tuned],\n",
    "    'F1 Score': [logreg_f1_score, nb_classifier_f1_score, rf_classifier_f1_score,\n",
    "                 logreg_f1_score_2, nb_classifier_f1_score_tuned, rf_classifier_f1_score_tuned]\n",
    "}\n",
    "\n",
    "# Create a DataFrame\n",
    "results_df = pd.DataFrame(result_data)\n",
    "\n",
    "# Display the DataFrame\n",
    "display(results_df)\n"
   ]
  },
  {
   "cell_type": "code",
   "execution_count": 39,
   "id": "7fb7d5b6",
   "metadata": {},
   "outputs": [
    {
     "name": "stdout",
     "output_type": "stream",
     "text": [
      "\n",
      "\n",
      "\n"
     ]
    },
    {
     "data": {
      "image/png": "[encoded data removed]",
      "text/plain": [
       "<Figure size 720x432 with 1 Axes>"
      ]
     },
     "metadata": {
      "needs_background": "light"
     },
     "output_type": "display_data"
    }
   ],
   "source": [
    "# Creating a plot to compare the models' performance using the obtained result dataframe\n",
    "\n",
    "# Creating a space before the plot\n",
    "print('\\n\\n')\n",
    "\n",
    "# Setting the figure size\n",
    "plt.figure(figsize=(10, 6))\n",
    "\n",
    "models = results_df['Model']\n",
    "metrics = results_df.columns[1:]\n",
    "\n",
    "\n",
    "for i, metric in enumerate(metrics):\n",
    "    plt.bar(np.arange(len(models)) + i * 0.2, results_df[metric], width=0.2, label=metric)\n",
    "\n",
    "plt.xlabel('Models')\n",
    "plt.xticks(np.arange(len(models)) + 0.2, models, rotation=45, ha='right')\n",
    "plt.ylabel('Metric Value')\n",
    "plt.title('Model Performance Comparison')\n",
    "plt.savefig(f'images/model_comparison.png')\n",
    "plt.legend(loc='lower right')\n",
    "plt.tight_layout()\n",
    "plt.show()"
   ]
  },
  {
   "cell_type": "markdown",
   "id": "8c5216f1",
   "metadata": {},
   "source": [
    "The depicted graph illustrates noteworthy enhancements in all performance metrics for the models following tuning, particularly when employing a balanced dataset.\n",
    "\n",
    "Notably, the logistic regression model exhibited the most substantial improvement, ultimately achieving the highest F1 score among the tuned models.\n",
    "\n",
    "This observation underscores the effectiveness of dataset balancing techniques in refining model performance and highlights the logistic regression model as particularly promising in the context of the analyzed metrics."
   ]
  },
  {
   "cell_type": "markdown",
   "id": "fed4046f",
   "metadata": {},
   "source": [
    "# SUMMARY\n",
    "\n",
    "\n",
    "Three machine learning models, namely Logistic Regression, Random Forest Classifier, and Naive Bayes Classifier, were employed in the Telco Churn Prediction.\n",
    "\n",
    "The primary goal was to construct a predictive model capable of identifying customers with a likelihood of churning within the telecommunications industry.\n",
    "\n",
    "The overarching aim was to provide telecom companies with a proactive tool that facilitates the implementation of targeted retention strategies, thereby enhancing overall customer satisfaction.\n",
    "\n",
    "This utilization of machine learning techniques represents a strategic approach for addressing churn-related challenges in the dynamic landscape of the telecommunications sector."
   ]
  },
  {
   "cell_type": "markdown",
   "id": "95d408c9",
   "metadata": {},
   "source": [
    "## FINDINGS\n",
    "\n",
    "**Logistic Regression**\n",
    "\n",
    "  - The model attained a **`balanced accuracy`** of **`86.25%`**, accompanied by an **`F1 score`** of **`86.23%`**, showcasing a well-balanced compromise between precision and recall. Its suitability for interpretability renders it adept at elucidating the influence of features on predictions.\n",
    "\n",
    " ***Advantages***\n",
    "\n",
    "  The strengths lie in its interpretability, simplicity, and efficient training speed.\n",
    "\n",
    " ***Drawbacks***\n",
    "\n",
    "  However, there are limitations to consider, such as potential challenges in capturing intricate non-linear relationships within the data.\n",
    "\n",
    "<br>\n",
    "\n",
    "**Naive Bayes Classifier**\n",
    "\n",
    " - Attained a **`balanced accuracy`** registering at **`79.79%`** coupled with an **`F1 score`** of **`79.75%`**.\n",
    "\n",
    "  ***Advantages***\n",
    "\n",
    "  Naive Bayes is a simple and fast algorithm. It's computationally efficient and requires a relatively small amount of training data to estimate the parameters.\n",
    "\n",
    "  Implementation of the Naive Bayes classifier is straightforward. It is easy to understand and doesn't involve complex parameter tuning.\n",
    "\n",
    "  ***Drawbacks***\n",
    "\n",
    "  Naive Bayes can be sensitive to the quality of the input data. If the training set is not representative of the real-world data, or if certain features have missing values, it may lead to biased predictions.\n",
    "\n",
    "\n",
    "<br>\n",
    "\n",
    "**Random Forest Classifier**\n",
    "\n",
    " - The model attained a **`balanced accuracy`** of **`85.97%`** and an **`F1 score`** of **`85.9387%`**.\n",
    "\n",
    "  ***Advantages***\n",
    "\n",
    "  It demonstrates effectiveness in managing non-linear relationships and capturing intricate interactions within the dataset.\n",
    "\n",
    "  The model is resilient against overfitting and offers insights into feature importance.\n",
    "\n",
    "  ***Drawbacks***\n",
    "\n",
    "  However, it necessitates a lengthier training period compared to Logistic Regression and might demand more meticulous hyperparameter tuning to achieve optimal performance."
   ]
  },
  {
   "cell_type": "markdown",
   "id": "d71a5b71",
   "metadata": {},
   "source": [
    "# DISCUSSION\n",
    "\n",
    "The evaluation of three distinct models revealed their effectiveness in predicting customer churn for telecom companies. Each model showcased commendable performance, with Random Forest excelling in capturing non-linear patterns, Logistic Regression providing a simpler, interpretable solution, and Naive Bayes demonstrating simplicity and faster training time.\n",
    "\n",
    "<br>\n",
    "\n",
    "**Strengths and Applications**\n",
    "\n",
    "These predictive models offer invaluable insights, empowering telecom companies to proactively address customer churn through targeted retention strategies. The balanced accuracy and F1 scores indicate a harmonious trade-off between precision and recall, crucial metrics for evaluating model efficacy.\n",
    "\n",
    "<br>\n",
    "\n",
    "**Challenges and Considerations**\n",
    "\n",
    "However, it's essential to acknowledge the impact of imbalanced datasets on model performance, particularly in terms of recall. To mitigate this issue, various strategies such as oversampling, undersampling, or alternative evaluation metrics were contemplated during the model tuning process.\n",
    "\n",
    "<br>\n",
    "\n",
    "**Recommendations for Model Enhancement**\n",
    "\n",
    "To further optimize model performance, a focused approach on hyperparameter tuning, especially for Random Forest and Naive Bayes, is recommended.\n",
    "\n",
    "Additionally, incorporating feature engineering techniques to generate more informative features has the potential to enhance overall model accuracy.\n",
    "\n",
    "***Addressing Imbalanced Datasets***\n",
    "\n",
    "Given the challenges posed by imbalanced datasets, exploring advanced techniques specifically designed to handle such scenarios is advisable.\n",
    "\n",
    "In conclusion, the choice among these models should align with the unique needs and constraints of the telecom company, considering factors such as interpretability, computational efficiency, and the level of non-linearity in the data."
   ]
  },
  {
   "cell_type": "markdown",
   "id": "166896c4",
   "metadata": {},
   "source": [
    "# CONCLUSION\n",
    "\n",
    "The Telecommunication Churn Prediction has established a groundwork for proactive churn management within the telecommunications industry.\n",
    "\n",
    "Although the showcased models demonstrate satisfactory performance, continuous improvement and the exploration of advanced techniques are essential to enhance the accuracy of predictions and provide superior decision support for telecom companies.\n",
    "\n",
    "The iterative refinement process should remain integral, allowing for the adaptation to evolving data landscapes and ensuring the models stay at the forefront of churn prediction capabilities."
   ]
  },
  {
   "cell_type": "markdown",
   "id": "53a7982e",
   "metadata": {},
   "source": [
    "# References\n",
    "\n",
    "[1] Introduction to Churn : https://www.kdnuggets.com/2019/05/churn-prediction-machine-learning.html\n",
    "\n",
    "[2] Customer Churn and categorical plots: https://neptune.ai/blog/how-to-implement-customer-churn-prediction\n",
    "\n",
    "[3] Churning : https://www.sciencedirect.com/science/article/pii/S2666603023000143\n",
    "\n",
    "[4] Churn Rate : https://www.analyticsvidhya.com/blog/2022/09/bank-customer-churn-prediction-using-machine-learning/\n",
    "\n",
    "[5] Dataset description : https://www.kaggle.com/datasets/blastchar/telco-customer-churn\n",
    "\n",
    "[6] Dataset overview : https://community.ibm.com/community/user/businessanalytics/blogs/steven-macko/2019/07/11/telco-customer-churn-1113\n",
    "\n",
    "[7] Encoding Categorical features : https://scikit-learn.org/stable/modules/generated/sklearn.preprocessing.LabelEncoder.html#sklearn.preprocessing.LabelEncoder\n",
    "\n",
    "[8] Precision as an Evaluation metric : https://scikit-learn.org/stable/modules/generated/sklearn.metrics.precision_score.html#sklearn.metrics.precision_score\n",
    "\n",
    "[9] Recall Score : https://scikit-learn.org/stable/modules/generated/sklearn.metrics.recall_score.html#sklearn.metrics.recall_score\n",
    "\n",
    "[10] F1 Score : https://scikit-learn.org/stable/modules/generated/sklearn.metrics.f1_score.html#sklearn.metrics.f1_score"
   ]
  },
  {
   "cell_type": "code",
   "execution_count": null,
   "id": "a6b503e8",
   "metadata": {},
   "outputs": [],
   "source": []
  }
 ],
 "metadata": {
  "kernelspec": {
   "display_name": "Python 3 (ipykernel)",
   "language": "python",
   "name": "python3"
  },
  "language_info": {
   "codemirror_mode": {
    "name": "ipython",
    "version": 3
   },
   "file_extension": ".py",
   "mimetype": "text/x-python",
   "name": "python",
   "nbconvert_exporter": "python",
   "pygments_lexer": "ipython3",
   "version": "3.9.12"
  }
 },
 "nbformat": 4,
 "nbformat_minor": 5
}
